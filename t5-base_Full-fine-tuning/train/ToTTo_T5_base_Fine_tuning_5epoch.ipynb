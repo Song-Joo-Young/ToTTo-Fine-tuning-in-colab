{
  "nbformat": 4,
  "nbformat_minor": 0,
  "metadata": {
    "colab": {
      "provenance": [],
      "gpuType": "T4",
      "toc_visible": true
    },
    "kernelspec": {
      "name": "python3",
      "display_name": "Python 3"
    },
    "language_info": {
      "name": "python"
    },
    "accelerator": "GPU",
    "widgets": {
      "application/vnd.jupyter.widget-state+json": {
        "9cdb831e13ef49579e325de9d57e5997": {
          "model_module": "@jupyter-widgets/controls",
          "model_name": "HBoxModel",
          "model_module_version": "1.5.0",
          "state": {
            "_dom_classes": [],
            "_model_module": "@jupyter-widgets/controls",
            "_model_module_version": "1.5.0",
            "_model_name": "HBoxModel",
            "_view_count": null,
            "_view_module": "@jupyter-widgets/controls",
            "_view_module_version": "1.5.0",
            "_view_name": "HBoxView",
            "box_style": "",
            "children": [
              "IPY_MODEL_f5357d4574794e15b25c1d00be78fcae",
              "IPY_MODEL_d9fda786f2a44e77834eff29734d479c",
              "IPY_MODEL_24dc7d9dba1d44659c130a1be7e695d1"
            ],
            "layout": "IPY_MODEL_5b14a0ec1168407faebabe338ac5e941"
          }
        },
        "f5357d4574794e15b25c1d00be78fcae": {
          "model_module": "@jupyter-widgets/controls",
          "model_name": "HTMLModel",
          "model_module_version": "1.5.0",
          "state": {
            "_dom_classes": [],
            "_model_module": "@jupyter-widgets/controls",
            "_model_module_version": "1.5.0",
            "_model_name": "HTMLModel",
            "_view_count": null,
            "_view_module": "@jupyter-widgets/controls",
            "_view_module_version": "1.5.0",
            "_view_name": "HTMLView",
            "description": "",
            "description_tooltip": null,
            "layout": "IPY_MODEL_b1c3eea4b1984e859ab9eb499215c119",
            "placeholder": "​",
            "style": "IPY_MODEL_060b0edda80241faad285fc3c4e3ebf3",
            "value": "spiece.model: 100%"
          }
        },
        "d9fda786f2a44e77834eff29734d479c": {
          "model_module": "@jupyter-widgets/controls",
          "model_name": "FloatProgressModel",
          "model_module_version": "1.5.0",
          "state": {
            "_dom_classes": [],
            "_model_module": "@jupyter-widgets/controls",
            "_model_module_version": "1.5.0",
            "_model_name": "FloatProgressModel",
            "_view_count": null,
            "_view_module": "@jupyter-widgets/controls",
            "_view_module_version": "1.5.0",
            "_view_name": "ProgressView",
            "bar_style": "success",
            "description": "",
            "description_tooltip": null,
            "layout": "IPY_MODEL_83f44f4f354e4c9987e9848e1c153eb9",
            "max": 791656,
            "min": 0,
            "orientation": "horizontal",
            "style": "IPY_MODEL_efd0e25630ee4571acf43afe286e9c54",
            "value": 791656
          }
        },
        "24dc7d9dba1d44659c130a1be7e695d1": {
          "model_module": "@jupyter-widgets/controls",
          "model_name": "HTMLModel",
          "model_module_version": "1.5.0",
          "state": {
            "_dom_classes": [],
            "_model_module": "@jupyter-widgets/controls",
            "_model_module_version": "1.5.0",
            "_model_name": "HTMLModel",
            "_view_count": null,
            "_view_module": "@jupyter-widgets/controls",
            "_view_module_version": "1.5.0",
            "_view_name": "HTMLView",
            "description": "",
            "description_tooltip": null,
            "layout": "IPY_MODEL_08f40021d420412fbfce17107d68f236",
            "placeholder": "​",
            "style": "IPY_MODEL_24d413338770404eb845bf044be69b65",
            "value": " 792k/792k [00:00&lt;00:00, 3.59MB/s]"
          }
        },
        "5b14a0ec1168407faebabe338ac5e941": {
          "model_module": "@jupyter-widgets/base",
          "model_name": "LayoutModel",
          "model_module_version": "1.2.0",
          "state": {
            "_model_module": "@jupyter-widgets/base",
            "_model_module_version": "1.2.0",
            "_model_name": "LayoutModel",
            "_view_count": null,
            "_view_module": "@jupyter-widgets/base",
            "_view_module_version": "1.2.0",
            "_view_name": "LayoutView",
            "align_content": null,
            "align_items": null,
            "align_self": null,
            "border": null,
            "bottom": null,
            "display": null,
            "flex": null,
            "flex_flow": null,
            "grid_area": null,
            "grid_auto_columns": null,
            "grid_auto_flow": null,
            "grid_auto_rows": null,
            "grid_column": null,
            "grid_gap": null,
            "grid_row": null,
            "grid_template_areas": null,
            "grid_template_columns": null,
            "grid_template_rows": null,
            "height": null,
            "justify_content": null,
            "justify_items": null,
            "left": null,
            "margin": null,
            "max_height": null,
            "max_width": null,
            "min_height": null,
            "min_width": null,
            "object_fit": null,
            "object_position": null,
            "order": null,
            "overflow": null,
            "overflow_x": null,
            "overflow_y": null,
            "padding": null,
            "right": null,
            "top": null,
            "visibility": null,
            "width": null
          }
        },
        "b1c3eea4b1984e859ab9eb499215c119": {
          "model_module": "@jupyter-widgets/base",
          "model_name": "LayoutModel",
          "model_module_version": "1.2.0",
          "state": {
            "_model_module": "@jupyter-widgets/base",
            "_model_module_version": "1.2.0",
            "_model_name": "LayoutModel",
            "_view_count": null,
            "_view_module": "@jupyter-widgets/base",
            "_view_module_version": "1.2.0",
            "_view_name": "LayoutView",
            "align_content": null,
            "align_items": null,
            "align_self": null,
            "border": null,
            "bottom": null,
            "display": null,
            "flex": null,
            "flex_flow": null,
            "grid_area": null,
            "grid_auto_columns": null,
            "grid_auto_flow": null,
            "grid_auto_rows": null,
            "grid_column": null,
            "grid_gap": null,
            "grid_row": null,
            "grid_template_areas": null,
            "grid_template_columns": null,
            "grid_template_rows": null,
            "height": null,
            "justify_content": null,
            "justify_items": null,
            "left": null,
            "margin": null,
            "max_height": null,
            "max_width": null,
            "min_height": null,
            "min_width": null,
            "object_fit": null,
            "object_position": null,
            "order": null,
            "overflow": null,
            "overflow_x": null,
            "overflow_y": null,
            "padding": null,
            "right": null,
            "top": null,
            "visibility": null,
            "width": null
          }
        },
        "060b0edda80241faad285fc3c4e3ebf3": {
          "model_module": "@jupyter-widgets/controls",
          "model_name": "DescriptionStyleModel",
          "model_module_version": "1.5.0",
          "state": {
            "_model_module": "@jupyter-widgets/controls",
            "_model_module_version": "1.5.0",
            "_model_name": "DescriptionStyleModel",
            "_view_count": null,
            "_view_module": "@jupyter-widgets/base",
            "_view_module_version": "1.2.0",
            "_view_name": "StyleView",
            "description_width": ""
          }
        },
        "83f44f4f354e4c9987e9848e1c153eb9": {
          "model_module": "@jupyter-widgets/base",
          "model_name": "LayoutModel",
          "model_module_version": "1.2.0",
          "state": {
            "_model_module": "@jupyter-widgets/base",
            "_model_module_version": "1.2.0",
            "_model_name": "LayoutModel",
            "_view_count": null,
            "_view_module": "@jupyter-widgets/base",
            "_view_module_version": "1.2.0",
            "_view_name": "LayoutView",
            "align_content": null,
            "align_items": null,
            "align_self": null,
            "border": null,
            "bottom": null,
            "display": null,
            "flex": null,
            "flex_flow": null,
            "grid_area": null,
            "grid_auto_columns": null,
            "grid_auto_flow": null,
            "grid_auto_rows": null,
            "grid_column": null,
            "grid_gap": null,
            "grid_row": null,
            "grid_template_areas": null,
            "grid_template_columns": null,
            "grid_template_rows": null,
            "height": null,
            "justify_content": null,
            "justify_items": null,
            "left": null,
            "margin": null,
            "max_height": null,
            "max_width": null,
            "min_height": null,
            "min_width": null,
            "object_fit": null,
            "object_position": null,
            "order": null,
            "overflow": null,
            "overflow_x": null,
            "overflow_y": null,
            "padding": null,
            "right": null,
            "top": null,
            "visibility": null,
            "width": null
          }
        },
        "efd0e25630ee4571acf43afe286e9c54": {
          "model_module": "@jupyter-widgets/controls",
          "model_name": "ProgressStyleModel",
          "model_module_version": "1.5.0",
          "state": {
            "_model_module": "@jupyter-widgets/controls",
            "_model_module_version": "1.5.0",
            "_model_name": "ProgressStyleModel",
            "_view_count": null,
            "_view_module": "@jupyter-widgets/base",
            "_view_module_version": "1.2.0",
            "_view_name": "StyleView",
            "bar_color": null,
            "description_width": ""
          }
        },
        "08f40021d420412fbfce17107d68f236": {
          "model_module": "@jupyter-widgets/base",
          "model_name": "LayoutModel",
          "model_module_version": "1.2.0",
          "state": {
            "_model_module": "@jupyter-widgets/base",
            "_model_module_version": "1.2.0",
            "_model_name": "LayoutModel",
            "_view_count": null,
            "_view_module": "@jupyter-widgets/base",
            "_view_module_version": "1.2.0",
            "_view_name": "LayoutView",
            "align_content": null,
            "align_items": null,
            "align_self": null,
            "border": null,
            "bottom": null,
            "display": null,
            "flex": null,
            "flex_flow": null,
            "grid_area": null,
            "grid_auto_columns": null,
            "grid_auto_flow": null,
            "grid_auto_rows": null,
            "grid_column": null,
            "grid_gap": null,
            "grid_row": null,
            "grid_template_areas": null,
            "grid_template_columns": null,
            "grid_template_rows": null,
            "height": null,
            "justify_content": null,
            "justify_items": null,
            "left": null,
            "margin": null,
            "max_height": null,
            "max_width": null,
            "min_height": null,
            "min_width": null,
            "object_fit": null,
            "object_position": null,
            "order": null,
            "overflow": null,
            "overflow_x": null,
            "overflow_y": null,
            "padding": null,
            "right": null,
            "top": null,
            "visibility": null,
            "width": null
          }
        },
        "24d413338770404eb845bf044be69b65": {
          "model_module": "@jupyter-widgets/controls",
          "model_name": "DescriptionStyleModel",
          "model_module_version": "1.5.0",
          "state": {
            "_model_module": "@jupyter-widgets/controls",
            "_model_module_version": "1.5.0",
            "_model_name": "DescriptionStyleModel",
            "_view_count": null,
            "_view_module": "@jupyter-widgets/base",
            "_view_module_version": "1.2.0",
            "_view_name": "StyleView",
            "description_width": ""
          }
        },
        "4af2ec53f78f40cca714e663615a5222": {
          "model_module": "@jupyter-widgets/controls",
          "model_name": "HBoxModel",
          "model_module_version": "1.5.0",
          "state": {
            "_dom_classes": [],
            "_model_module": "@jupyter-widgets/controls",
            "_model_module_version": "1.5.0",
            "_model_name": "HBoxModel",
            "_view_count": null,
            "_view_module": "@jupyter-widgets/controls",
            "_view_module_version": "1.5.0",
            "_view_name": "HBoxView",
            "box_style": "",
            "children": [
              "IPY_MODEL_f5f661362f5f446595bce46e43bca6ef",
              "IPY_MODEL_2324269514784639b915611736a34ac4",
              "IPY_MODEL_69fe6f555aef429593893b075c830390"
            ],
            "layout": "IPY_MODEL_2247763273224b51bb33b0ce91c9f369"
          }
        },
        "f5f661362f5f446595bce46e43bca6ef": {
          "model_module": "@jupyter-widgets/controls",
          "model_name": "HTMLModel",
          "model_module_version": "1.5.0",
          "state": {
            "_dom_classes": [],
            "_model_module": "@jupyter-widgets/controls",
            "_model_module_version": "1.5.0",
            "_model_name": "HTMLModel",
            "_view_count": null,
            "_view_module": "@jupyter-widgets/controls",
            "_view_module_version": "1.5.0",
            "_view_name": "HTMLView",
            "description": "",
            "description_tooltip": null,
            "layout": "IPY_MODEL_8d9d85c9d7ff49feb0b4983d8a35a699",
            "placeholder": "​",
            "style": "IPY_MODEL_acaa6e1b8f8b42beabdd1ef3a515244d",
            "value": "tokenizer.json: 100%"
          }
        },
        "2324269514784639b915611736a34ac4": {
          "model_module": "@jupyter-widgets/controls",
          "model_name": "FloatProgressModel",
          "model_module_version": "1.5.0",
          "state": {
            "_dom_classes": [],
            "_model_module": "@jupyter-widgets/controls",
            "_model_module_version": "1.5.0",
            "_model_name": "FloatProgressModel",
            "_view_count": null,
            "_view_module": "@jupyter-widgets/controls",
            "_view_module_version": "1.5.0",
            "_view_name": "ProgressView",
            "bar_style": "success",
            "description": "",
            "description_tooltip": null,
            "layout": "IPY_MODEL_a9582717daa74a909dbe916f773919e3",
            "max": 1389353,
            "min": 0,
            "orientation": "horizontal",
            "style": "IPY_MODEL_4ed21dcf38a74cb691f08c22416c73fb",
            "value": 1389353
          }
        },
        "69fe6f555aef429593893b075c830390": {
          "model_module": "@jupyter-widgets/controls",
          "model_name": "HTMLModel",
          "model_module_version": "1.5.0",
          "state": {
            "_dom_classes": [],
            "_model_module": "@jupyter-widgets/controls",
            "_model_module_version": "1.5.0",
            "_model_name": "HTMLModel",
            "_view_count": null,
            "_view_module": "@jupyter-widgets/controls",
            "_view_module_version": "1.5.0",
            "_view_name": "HTMLView",
            "description": "",
            "description_tooltip": null,
            "layout": "IPY_MODEL_9abfb1b66ded4dae9a42efbca7ffd216",
            "placeholder": "​",
            "style": "IPY_MODEL_f8c15fe2f64543258c832bbc63e435c8",
            "value": " 1.39M/1.39M [00:00&lt;00:00, 4.40MB/s]"
          }
        },
        "2247763273224b51bb33b0ce91c9f369": {
          "model_module": "@jupyter-widgets/base",
          "model_name": "LayoutModel",
          "model_module_version": "1.2.0",
          "state": {
            "_model_module": "@jupyter-widgets/base",
            "_model_module_version": "1.2.0",
            "_model_name": "LayoutModel",
            "_view_count": null,
            "_view_module": "@jupyter-widgets/base",
            "_view_module_version": "1.2.0",
            "_view_name": "LayoutView",
            "align_content": null,
            "align_items": null,
            "align_self": null,
            "border": null,
            "bottom": null,
            "display": null,
            "flex": null,
            "flex_flow": null,
            "grid_area": null,
            "grid_auto_columns": null,
            "grid_auto_flow": null,
            "grid_auto_rows": null,
            "grid_column": null,
            "grid_gap": null,
            "grid_row": null,
            "grid_template_areas": null,
            "grid_template_columns": null,
            "grid_template_rows": null,
            "height": null,
            "justify_content": null,
            "justify_items": null,
            "left": null,
            "margin": null,
            "max_height": null,
            "max_width": null,
            "min_height": null,
            "min_width": null,
            "object_fit": null,
            "object_position": null,
            "order": null,
            "overflow": null,
            "overflow_x": null,
            "overflow_y": null,
            "padding": null,
            "right": null,
            "top": null,
            "visibility": null,
            "width": null
          }
        },
        "8d9d85c9d7ff49feb0b4983d8a35a699": {
          "model_module": "@jupyter-widgets/base",
          "model_name": "LayoutModel",
          "model_module_version": "1.2.0",
          "state": {
            "_model_module": "@jupyter-widgets/base",
            "_model_module_version": "1.2.0",
            "_model_name": "LayoutModel",
            "_view_count": null,
            "_view_module": "@jupyter-widgets/base",
            "_view_module_version": "1.2.0",
            "_view_name": "LayoutView",
            "align_content": null,
            "align_items": null,
            "align_self": null,
            "border": null,
            "bottom": null,
            "display": null,
            "flex": null,
            "flex_flow": null,
            "grid_area": null,
            "grid_auto_columns": null,
            "grid_auto_flow": null,
            "grid_auto_rows": null,
            "grid_column": null,
            "grid_gap": null,
            "grid_row": null,
            "grid_template_areas": null,
            "grid_template_columns": null,
            "grid_template_rows": null,
            "height": null,
            "justify_content": null,
            "justify_items": null,
            "left": null,
            "margin": null,
            "max_height": null,
            "max_width": null,
            "min_height": null,
            "min_width": null,
            "object_fit": null,
            "object_position": null,
            "order": null,
            "overflow": null,
            "overflow_x": null,
            "overflow_y": null,
            "padding": null,
            "right": null,
            "top": null,
            "visibility": null,
            "width": null
          }
        },
        "acaa6e1b8f8b42beabdd1ef3a515244d": {
          "model_module": "@jupyter-widgets/controls",
          "model_name": "DescriptionStyleModel",
          "model_module_version": "1.5.0",
          "state": {
            "_model_module": "@jupyter-widgets/controls",
            "_model_module_version": "1.5.0",
            "_model_name": "DescriptionStyleModel",
            "_view_count": null,
            "_view_module": "@jupyter-widgets/base",
            "_view_module_version": "1.2.0",
            "_view_name": "StyleView",
            "description_width": ""
          }
        },
        "a9582717daa74a909dbe916f773919e3": {
          "model_module": "@jupyter-widgets/base",
          "model_name": "LayoutModel",
          "model_module_version": "1.2.0",
          "state": {
            "_model_module": "@jupyter-widgets/base",
            "_model_module_version": "1.2.0",
            "_model_name": "LayoutModel",
            "_view_count": null,
            "_view_module": "@jupyter-widgets/base",
            "_view_module_version": "1.2.0",
            "_view_name": "LayoutView",
            "align_content": null,
            "align_items": null,
            "align_self": null,
            "border": null,
            "bottom": null,
            "display": null,
            "flex": null,
            "flex_flow": null,
            "grid_area": null,
            "grid_auto_columns": null,
            "grid_auto_flow": null,
            "grid_auto_rows": null,
            "grid_column": null,
            "grid_gap": null,
            "grid_row": null,
            "grid_template_areas": null,
            "grid_template_columns": null,
            "grid_template_rows": null,
            "height": null,
            "justify_content": null,
            "justify_items": null,
            "left": null,
            "margin": null,
            "max_height": null,
            "max_width": null,
            "min_height": null,
            "min_width": null,
            "object_fit": null,
            "object_position": null,
            "order": null,
            "overflow": null,
            "overflow_x": null,
            "overflow_y": null,
            "padding": null,
            "right": null,
            "top": null,
            "visibility": null,
            "width": null
          }
        },
        "4ed21dcf38a74cb691f08c22416c73fb": {
          "model_module": "@jupyter-widgets/controls",
          "model_name": "ProgressStyleModel",
          "model_module_version": "1.5.0",
          "state": {
            "_model_module": "@jupyter-widgets/controls",
            "_model_module_version": "1.5.0",
            "_model_name": "ProgressStyleModel",
            "_view_count": null,
            "_view_module": "@jupyter-widgets/base",
            "_view_module_version": "1.2.0",
            "_view_name": "StyleView",
            "bar_color": null,
            "description_width": ""
          }
        },
        "9abfb1b66ded4dae9a42efbca7ffd216": {
          "model_module": "@jupyter-widgets/base",
          "model_name": "LayoutModel",
          "model_module_version": "1.2.0",
          "state": {
            "_model_module": "@jupyter-widgets/base",
            "_model_module_version": "1.2.0",
            "_model_name": "LayoutModel",
            "_view_count": null,
            "_view_module": "@jupyter-widgets/base",
            "_view_module_version": "1.2.0",
            "_view_name": "LayoutView",
            "align_content": null,
            "align_items": null,
            "align_self": null,
            "border": null,
            "bottom": null,
            "display": null,
            "flex": null,
            "flex_flow": null,
            "grid_area": null,
            "grid_auto_columns": null,
            "grid_auto_flow": null,
            "grid_auto_rows": null,
            "grid_column": null,
            "grid_gap": null,
            "grid_row": null,
            "grid_template_areas": null,
            "grid_template_columns": null,
            "grid_template_rows": null,
            "height": null,
            "justify_content": null,
            "justify_items": null,
            "left": null,
            "margin": null,
            "max_height": null,
            "max_width": null,
            "min_height": null,
            "min_width": null,
            "object_fit": null,
            "object_position": null,
            "order": null,
            "overflow": null,
            "overflow_x": null,
            "overflow_y": null,
            "padding": null,
            "right": null,
            "top": null,
            "visibility": null,
            "width": null
          }
        },
        "f8c15fe2f64543258c832bbc63e435c8": {
          "model_module": "@jupyter-widgets/controls",
          "model_name": "DescriptionStyleModel",
          "model_module_version": "1.5.0",
          "state": {
            "_model_module": "@jupyter-widgets/controls",
            "_model_module_version": "1.5.0",
            "_model_name": "DescriptionStyleModel",
            "_view_count": null,
            "_view_module": "@jupyter-widgets/base",
            "_view_module_version": "1.2.0",
            "_view_name": "StyleView",
            "description_width": ""
          }
        },
        "275381b42c4a4a2a95d71d50be9f0fce": {
          "model_module": "@jupyter-widgets/controls",
          "model_name": "HBoxModel",
          "model_module_version": "1.5.0",
          "state": {
            "_dom_classes": [],
            "_model_module": "@jupyter-widgets/controls",
            "_model_module_version": "1.5.0",
            "_model_name": "HBoxModel",
            "_view_count": null,
            "_view_module": "@jupyter-widgets/controls",
            "_view_module_version": "1.5.0",
            "_view_name": "HBoxView",
            "box_style": "",
            "children": [
              "IPY_MODEL_94fed2dc57c943cf90d936249d5a37de",
              "IPY_MODEL_cc7bb77d26184d37b6c11a290f2bf7a3",
              "IPY_MODEL_13c840e584b24adc806c932fd893b52c"
            ],
            "layout": "IPY_MODEL_ec053f10957a4da7a040d130a44fce20"
          }
        },
        "94fed2dc57c943cf90d936249d5a37de": {
          "model_module": "@jupyter-widgets/controls",
          "model_name": "HTMLModel",
          "model_module_version": "1.5.0",
          "state": {
            "_dom_classes": [],
            "_model_module": "@jupyter-widgets/controls",
            "_model_module_version": "1.5.0",
            "_model_name": "HTMLModel",
            "_view_count": null,
            "_view_module": "@jupyter-widgets/controls",
            "_view_module_version": "1.5.0",
            "_view_name": "HTMLView",
            "description": "",
            "description_tooltip": null,
            "layout": "IPY_MODEL_f8343a877b414458b6add1b48cc61487",
            "placeholder": "​",
            "style": "IPY_MODEL_5971344eb451447ca9d1af5ebe498e51",
            "value": "config.json: 100%"
          }
        },
        "cc7bb77d26184d37b6c11a290f2bf7a3": {
          "model_module": "@jupyter-widgets/controls",
          "model_name": "FloatProgressModel",
          "model_module_version": "1.5.0",
          "state": {
            "_dom_classes": [],
            "_model_module": "@jupyter-widgets/controls",
            "_model_module_version": "1.5.0",
            "_model_name": "FloatProgressModel",
            "_view_count": null,
            "_view_module": "@jupyter-widgets/controls",
            "_view_module_version": "1.5.0",
            "_view_name": "ProgressView",
            "bar_style": "success",
            "description": "",
            "description_tooltip": null,
            "layout": "IPY_MODEL_1f70f728a8e84f8eb1022fb15be509c7",
            "max": 1208,
            "min": 0,
            "orientation": "horizontal",
            "style": "IPY_MODEL_ebe6f28b1162448f881bfd97f1a53002",
            "value": 1208
          }
        },
        "13c840e584b24adc806c932fd893b52c": {
          "model_module": "@jupyter-widgets/controls",
          "model_name": "HTMLModel",
          "model_module_version": "1.5.0",
          "state": {
            "_dom_classes": [],
            "_model_module": "@jupyter-widgets/controls",
            "_model_module_version": "1.5.0",
            "_model_name": "HTMLModel",
            "_view_count": null,
            "_view_module": "@jupyter-widgets/controls",
            "_view_module_version": "1.5.0",
            "_view_name": "HTMLView",
            "description": "",
            "description_tooltip": null,
            "layout": "IPY_MODEL_2280baa669c84b68b3a5b4791e6ab5bc",
            "placeholder": "​",
            "style": "IPY_MODEL_e9bcecd7c1474b1a8b2c9b7bd7f6c259",
            "value": " 1.21k/1.21k [00:00&lt;00:00, 17.5kB/s]"
          }
        },
        "ec053f10957a4da7a040d130a44fce20": {
          "model_module": "@jupyter-widgets/base",
          "model_name": "LayoutModel",
          "model_module_version": "1.2.0",
          "state": {
            "_model_module": "@jupyter-widgets/base",
            "_model_module_version": "1.2.0",
            "_model_name": "LayoutModel",
            "_view_count": null,
            "_view_module": "@jupyter-widgets/base",
            "_view_module_version": "1.2.0",
            "_view_name": "LayoutView",
            "align_content": null,
            "align_items": null,
            "align_self": null,
            "border": null,
            "bottom": null,
            "display": null,
            "flex": null,
            "flex_flow": null,
            "grid_area": null,
            "grid_auto_columns": null,
            "grid_auto_flow": null,
            "grid_auto_rows": null,
            "grid_column": null,
            "grid_gap": null,
            "grid_row": null,
            "grid_template_areas": null,
            "grid_template_columns": null,
            "grid_template_rows": null,
            "height": null,
            "justify_content": null,
            "justify_items": null,
            "left": null,
            "margin": null,
            "max_height": null,
            "max_width": null,
            "min_height": null,
            "min_width": null,
            "object_fit": null,
            "object_position": null,
            "order": null,
            "overflow": null,
            "overflow_x": null,
            "overflow_y": null,
            "padding": null,
            "right": null,
            "top": null,
            "visibility": null,
            "width": null
          }
        },
        "f8343a877b414458b6add1b48cc61487": {
          "model_module": "@jupyter-widgets/base",
          "model_name": "LayoutModel",
          "model_module_version": "1.2.0",
          "state": {
            "_model_module": "@jupyter-widgets/base",
            "_model_module_version": "1.2.0",
            "_model_name": "LayoutModel",
            "_view_count": null,
            "_view_module": "@jupyter-widgets/base",
            "_view_module_version": "1.2.0",
            "_view_name": "LayoutView",
            "align_content": null,
            "align_items": null,
            "align_self": null,
            "border": null,
            "bottom": null,
            "display": null,
            "flex": null,
            "flex_flow": null,
            "grid_area": null,
            "grid_auto_columns": null,
            "grid_auto_flow": null,
            "grid_auto_rows": null,
            "grid_column": null,
            "grid_gap": null,
            "grid_row": null,
            "grid_template_areas": null,
            "grid_template_columns": null,
            "grid_template_rows": null,
            "height": null,
            "justify_content": null,
            "justify_items": null,
            "left": null,
            "margin": null,
            "max_height": null,
            "max_width": null,
            "min_height": null,
            "min_width": null,
            "object_fit": null,
            "object_position": null,
            "order": null,
            "overflow": null,
            "overflow_x": null,
            "overflow_y": null,
            "padding": null,
            "right": null,
            "top": null,
            "visibility": null,
            "width": null
          }
        },
        "5971344eb451447ca9d1af5ebe498e51": {
          "model_module": "@jupyter-widgets/controls",
          "model_name": "DescriptionStyleModel",
          "model_module_version": "1.5.0",
          "state": {
            "_model_module": "@jupyter-widgets/controls",
            "_model_module_version": "1.5.0",
            "_model_name": "DescriptionStyleModel",
            "_view_count": null,
            "_view_module": "@jupyter-widgets/base",
            "_view_module_version": "1.2.0",
            "_view_name": "StyleView",
            "description_width": ""
          }
        },
        "1f70f728a8e84f8eb1022fb15be509c7": {
          "model_module": "@jupyter-widgets/base",
          "model_name": "LayoutModel",
          "model_module_version": "1.2.0",
          "state": {
            "_model_module": "@jupyter-widgets/base",
            "_model_module_version": "1.2.0",
            "_model_name": "LayoutModel",
            "_view_count": null,
            "_view_module": "@jupyter-widgets/base",
            "_view_module_version": "1.2.0",
            "_view_name": "LayoutView",
            "align_content": null,
            "align_items": null,
            "align_self": null,
            "border": null,
            "bottom": null,
            "display": null,
            "flex": null,
            "flex_flow": null,
            "grid_area": null,
            "grid_auto_columns": null,
            "grid_auto_flow": null,
            "grid_auto_rows": null,
            "grid_column": null,
            "grid_gap": null,
            "grid_row": null,
            "grid_template_areas": null,
            "grid_template_columns": null,
            "grid_template_rows": null,
            "height": null,
            "justify_content": null,
            "justify_items": null,
            "left": null,
            "margin": null,
            "max_height": null,
            "max_width": null,
            "min_height": null,
            "min_width": null,
            "object_fit": null,
            "object_position": null,
            "order": null,
            "overflow": null,
            "overflow_x": null,
            "overflow_y": null,
            "padding": null,
            "right": null,
            "top": null,
            "visibility": null,
            "width": null
          }
        },
        "ebe6f28b1162448f881bfd97f1a53002": {
          "model_module": "@jupyter-widgets/controls",
          "model_name": "ProgressStyleModel",
          "model_module_version": "1.5.0",
          "state": {
            "_model_module": "@jupyter-widgets/controls",
            "_model_module_version": "1.5.0",
            "_model_name": "ProgressStyleModel",
            "_view_count": null,
            "_view_module": "@jupyter-widgets/base",
            "_view_module_version": "1.2.0",
            "_view_name": "StyleView",
            "bar_color": null,
            "description_width": ""
          }
        },
        "2280baa669c84b68b3a5b4791e6ab5bc": {
          "model_module": "@jupyter-widgets/base",
          "model_name": "LayoutModel",
          "model_module_version": "1.2.0",
          "state": {
            "_model_module": "@jupyter-widgets/base",
            "_model_module_version": "1.2.0",
            "_model_name": "LayoutModel",
            "_view_count": null,
            "_view_module": "@jupyter-widgets/base",
            "_view_module_version": "1.2.0",
            "_view_name": "LayoutView",
            "align_content": null,
            "align_items": null,
            "align_self": null,
            "border": null,
            "bottom": null,
            "display": null,
            "flex": null,
            "flex_flow": null,
            "grid_area": null,
            "grid_auto_columns": null,
            "grid_auto_flow": null,
            "grid_auto_rows": null,
            "grid_column": null,
            "grid_gap": null,
            "grid_row": null,
            "grid_template_areas": null,
            "grid_template_columns": null,
            "grid_template_rows": null,
            "height": null,
            "justify_content": null,
            "justify_items": null,
            "left": null,
            "margin": null,
            "max_height": null,
            "max_width": null,
            "min_height": null,
            "min_width": null,
            "object_fit": null,
            "object_position": null,
            "order": null,
            "overflow": null,
            "overflow_x": null,
            "overflow_y": null,
            "padding": null,
            "right": null,
            "top": null,
            "visibility": null,
            "width": null
          }
        },
        "e9bcecd7c1474b1a8b2c9b7bd7f6c259": {
          "model_module": "@jupyter-widgets/controls",
          "model_name": "DescriptionStyleModel",
          "model_module_version": "1.5.0",
          "state": {
            "_model_module": "@jupyter-widgets/controls",
            "_model_module_version": "1.5.0",
            "_model_name": "DescriptionStyleModel",
            "_view_count": null,
            "_view_module": "@jupyter-widgets/base",
            "_view_module_version": "1.2.0",
            "_view_name": "StyleView",
            "description_width": ""
          }
        },
        "a26e8eb2cb184bcf84f085249d3d4cbc": {
          "model_module": "@jupyter-widgets/controls",
          "model_name": "HBoxModel",
          "model_module_version": "1.5.0",
          "state": {
            "_dom_classes": [],
            "_model_module": "@jupyter-widgets/controls",
            "_model_module_version": "1.5.0",
            "_model_name": "HBoxModel",
            "_view_count": null,
            "_view_module": "@jupyter-widgets/controls",
            "_view_module_version": "1.5.0",
            "_view_name": "HBoxView",
            "box_style": "",
            "children": [
              "IPY_MODEL_52230781f4e7474394ccd96fdb81b8ab",
              "IPY_MODEL_9031cea14ac24f718f8fbe0192495ee3",
              "IPY_MODEL_5145a0c5d19f4b129620d6ec3fea7b39"
            ],
            "layout": "IPY_MODEL_81e0ce969d8b44759e9255a4e63944af"
          }
        },
        "52230781f4e7474394ccd96fdb81b8ab": {
          "model_module": "@jupyter-widgets/controls",
          "model_name": "HTMLModel",
          "model_module_version": "1.5.0",
          "state": {
            "_dom_classes": [],
            "_model_module": "@jupyter-widgets/controls",
            "_model_module_version": "1.5.0",
            "_model_name": "HTMLModel",
            "_view_count": null,
            "_view_module": "@jupyter-widgets/controls",
            "_view_module_version": "1.5.0",
            "_view_name": "HTMLView",
            "description": "",
            "description_tooltip": null,
            "layout": "IPY_MODEL_5dfd1864fd6b42089de500b1b4d3a4fa",
            "placeholder": "​",
            "style": "IPY_MODEL_876b1cef2beb4aa78199a086552f6c50",
            "value": "model.safetensors: 100%"
          }
        },
        "9031cea14ac24f718f8fbe0192495ee3": {
          "model_module": "@jupyter-widgets/controls",
          "model_name": "FloatProgressModel",
          "model_module_version": "1.5.0",
          "state": {
            "_dom_classes": [],
            "_model_module": "@jupyter-widgets/controls",
            "_model_module_version": "1.5.0",
            "_model_name": "FloatProgressModel",
            "_view_count": null,
            "_view_module": "@jupyter-widgets/controls",
            "_view_module_version": "1.5.0",
            "_view_name": "ProgressView",
            "bar_style": "success",
            "description": "",
            "description_tooltip": null,
            "layout": "IPY_MODEL_f0b9f88965cf466b9bf12a3511b86b33",
            "max": 891646390,
            "min": 0,
            "orientation": "horizontal",
            "style": "IPY_MODEL_cffb1ff543d84d2bb0c99e8bb8b754ee",
            "value": 891646390
          }
        },
        "5145a0c5d19f4b129620d6ec3fea7b39": {
          "model_module": "@jupyter-widgets/controls",
          "model_name": "HTMLModel",
          "model_module_version": "1.5.0",
          "state": {
            "_dom_classes": [],
            "_model_module": "@jupyter-widgets/controls",
            "_model_module_version": "1.5.0",
            "_model_name": "HTMLModel",
            "_view_count": null,
            "_view_module": "@jupyter-widgets/controls",
            "_view_module_version": "1.5.0",
            "_view_name": "HTMLView",
            "description": "",
            "description_tooltip": null,
            "layout": "IPY_MODEL_ef0ffa99b9a6487bb6747cc9c839d912",
            "placeholder": "​",
            "style": "IPY_MODEL_aa502b7af6f1498d954bc2fe40bf4a9e",
            "value": " 892M/892M [00:10&lt;00:00, 90.8MB/s]"
          }
        },
        "81e0ce969d8b44759e9255a4e63944af": {
          "model_module": "@jupyter-widgets/base",
          "model_name": "LayoutModel",
          "model_module_version": "1.2.0",
          "state": {
            "_model_module": "@jupyter-widgets/base",
            "_model_module_version": "1.2.0",
            "_model_name": "LayoutModel",
            "_view_count": null,
            "_view_module": "@jupyter-widgets/base",
            "_view_module_version": "1.2.0",
            "_view_name": "LayoutView",
            "align_content": null,
            "align_items": null,
            "align_self": null,
            "border": null,
            "bottom": null,
            "display": null,
            "flex": null,
            "flex_flow": null,
            "grid_area": null,
            "grid_auto_columns": null,
            "grid_auto_flow": null,
            "grid_auto_rows": null,
            "grid_column": null,
            "grid_gap": null,
            "grid_row": null,
            "grid_template_areas": null,
            "grid_template_columns": null,
            "grid_template_rows": null,
            "height": null,
            "justify_content": null,
            "justify_items": null,
            "left": null,
            "margin": null,
            "max_height": null,
            "max_width": null,
            "min_height": null,
            "min_width": null,
            "object_fit": null,
            "object_position": null,
            "order": null,
            "overflow": null,
            "overflow_x": null,
            "overflow_y": null,
            "padding": null,
            "right": null,
            "top": null,
            "visibility": null,
            "width": null
          }
        },
        "5dfd1864fd6b42089de500b1b4d3a4fa": {
          "model_module": "@jupyter-widgets/base",
          "model_name": "LayoutModel",
          "model_module_version": "1.2.0",
          "state": {
            "_model_module": "@jupyter-widgets/base",
            "_model_module_version": "1.2.0",
            "_model_name": "LayoutModel",
            "_view_count": null,
            "_view_module": "@jupyter-widgets/base",
            "_view_module_version": "1.2.0",
            "_view_name": "LayoutView",
            "align_content": null,
            "align_items": null,
            "align_self": null,
            "border": null,
            "bottom": null,
            "display": null,
            "flex": null,
            "flex_flow": null,
            "grid_area": null,
            "grid_auto_columns": null,
            "grid_auto_flow": null,
            "grid_auto_rows": null,
            "grid_column": null,
            "grid_gap": null,
            "grid_row": null,
            "grid_template_areas": null,
            "grid_template_columns": null,
            "grid_template_rows": null,
            "height": null,
            "justify_content": null,
            "justify_items": null,
            "left": null,
            "margin": null,
            "max_height": null,
            "max_width": null,
            "min_height": null,
            "min_width": null,
            "object_fit": null,
            "object_position": null,
            "order": null,
            "overflow": null,
            "overflow_x": null,
            "overflow_y": null,
            "padding": null,
            "right": null,
            "top": null,
            "visibility": null,
            "width": null
          }
        },
        "876b1cef2beb4aa78199a086552f6c50": {
          "model_module": "@jupyter-widgets/controls",
          "model_name": "DescriptionStyleModel",
          "model_module_version": "1.5.0",
          "state": {
            "_model_module": "@jupyter-widgets/controls",
            "_model_module_version": "1.5.0",
            "_model_name": "DescriptionStyleModel",
            "_view_count": null,
            "_view_module": "@jupyter-widgets/base",
            "_view_module_version": "1.2.0",
            "_view_name": "StyleView",
            "description_width": ""
          }
        },
        "f0b9f88965cf466b9bf12a3511b86b33": {
          "model_module": "@jupyter-widgets/base",
          "model_name": "LayoutModel",
          "model_module_version": "1.2.0",
          "state": {
            "_model_module": "@jupyter-widgets/base",
            "_model_module_version": "1.2.0",
            "_model_name": "LayoutModel",
            "_view_count": null,
            "_view_module": "@jupyter-widgets/base",
            "_view_module_version": "1.2.0",
            "_view_name": "LayoutView",
            "align_content": null,
            "align_items": null,
            "align_self": null,
            "border": null,
            "bottom": null,
            "display": null,
            "flex": null,
            "flex_flow": null,
            "grid_area": null,
            "grid_auto_columns": null,
            "grid_auto_flow": null,
            "grid_auto_rows": null,
            "grid_column": null,
            "grid_gap": null,
            "grid_row": null,
            "grid_template_areas": null,
            "grid_template_columns": null,
            "grid_template_rows": null,
            "height": null,
            "justify_content": null,
            "justify_items": null,
            "left": null,
            "margin": null,
            "max_height": null,
            "max_width": null,
            "min_height": null,
            "min_width": null,
            "object_fit": null,
            "object_position": null,
            "order": null,
            "overflow": null,
            "overflow_x": null,
            "overflow_y": null,
            "padding": null,
            "right": null,
            "top": null,
            "visibility": null,
            "width": null
          }
        },
        "cffb1ff543d84d2bb0c99e8bb8b754ee": {
          "model_module": "@jupyter-widgets/controls",
          "model_name": "ProgressStyleModel",
          "model_module_version": "1.5.0",
          "state": {
            "_model_module": "@jupyter-widgets/controls",
            "_model_module_version": "1.5.0",
            "_model_name": "ProgressStyleModel",
            "_view_count": null,
            "_view_module": "@jupyter-widgets/base",
            "_view_module_version": "1.2.0",
            "_view_name": "StyleView",
            "bar_color": null,
            "description_width": ""
          }
        },
        "ef0ffa99b9a6487bb6747cc9c839d912": {
          "model_module": "@jupyter-widgets/base",
          "model_name": "LayoutModel",
          "model_module_version": "1.2.0",
          "state": {
            "_model_module": "@jupyter-widgets/base",
            "_model_module_version": "1.2.0",
            "_model_name": "LayoutModel",
            "_view_count": null,
            "_view_module": "@jupyter-widgets/base",
            "_view_module_version": "1.2.0",
            "_view_name": "LayoutView",
            "align_content": null,
            "align_items": null,
            "align_self": null,
            "border": null,
            "bottom": null,
            "display": null,
            "flex": null,
            "flex_flow": null,
            "grid_area": null,
            "grid_auto_columns": null,
            "grid_auto_flow": null,
            "grid_auto_rows": null,
            "grid_column": null,
            "grid_gap": null,
            "grid_row": null,
            "grid_template_areas": null,
            "grid_template_columns": null,
            "grid_template_rows": null,
            "height": null,
            "justify_content": null,
            "justify_items": null,
            "left": null,
            "margin": null,
            "max_height": null,
            "max_width": null,
            "min_height": null,
            "min_width": null,
            "object_fit": null,
            "object_position": null,
            "order": null,
            "overflow": null,
            "overflow_x": null,
            "overflow_y": null,
            "padding": null,
            "right": null,
            "top": null,
            "visibility": null,
            "width": null
          }
        },
        "aa502b7af6f1498d954bc2fe40bf4a9e": {
          "model_module": "@jupyter-widgets/controls",
          "model_name": "DescriptionStyleModel",
          "model_module_version": "1.5.0",
          "state": {
            "_model_module": "@jupyter-widgets/controls",
            "_model_module_version": "1.5.0",
            "_model_name": "DescriptionStyleModel",
            "_view_count": null,
            "_view_module": "@jupyter-widgets/base",
            "_view_module_version": "1.2.0",
            "_view_name": "StyleView",
            "description_width": ""
          }
        },
        "eba8f7f6856542ce9f6deb98605d3d4f": {
          "model_module": "@jupyter-widgets/controls",
          "model_name": "HBoxModel",
          "model_module_version": "1.5.0",
          "state": {
            "_dom_classes": [],
            "_model_module": "@jupyter-widgets/controls",
            "_model_module_version": "1.5.0",
            "_model_name": "HBoxModel",
            "_view_count": null,
            "_view_module": "@jupyter-widgets/controls",
            "_view_module_version": "1.5.0",
            "_view_name": "HBoxView",
            "box_style": "",
            "children": [
              "IPY_MODEL_ce3314a709d24ca28021a585c004512d",
              "IPY_MODEL_460918c21d0d4f93a9167ec28ce109c2",
              "IPY_MODEL_007293871cb24ec281471f2ff2ef763c"
            ],
            "layout": "IPY_MODEL_c36754648a454f78a43a49c414f7e250"
          }
        },
        "ce3314a709d24ca28021a585c004512d": {
          "model_module": "@jupyter-widgets/controls",
          "model_name": "HTMLModel",
          "model_module_version": "1.5.0",
          "state": {
            "_dom_classes": [],
            "_model_module": "@jupyter-widgets/controls",
            "_model_module_version": "1.5.0",
            "_model_name": "HTMLModel",
            "_view_count": null,
            "_view_module": "@jupyter-widgets/controls",
            "_view_module_version": "1.5.0",
            "_view_name": "HTMLView",
            "description": "",
            "description_tooltip": null,
            "layout": "IPY_MODEL_8b163877da604cde89f43589441d2e4f",
            "placeholder": "​",
            "style": "IPY_MODEL_bc74ddf4b36f4275aaefb7a6c4419f46",
            "value": "generation_config.json: 100%"
          }
        },
        "460918c21d0d4f93a9167ec28ce109c2": {
          "model_module": "@jupyter-widgets/controls",
          "model_name": "FloatProgressModel",
          "model_module_version": "1.5.0",
          "state": {
            "_dom_classes": [],
            "_model_module": "@jupyter-widgets/controls",
            "_model_module_version": "1.5.0",
            "_model_name": "FloatProgressModel",
            "_view_count": null,
            "_view_module": "@jupyter-widgets/controls",
            "_view_module_version": "1.5.0",
            "_view_name": "ProgressView",
            "bar_style": "success",
            "description": "",
            "description_tooltip": null,
            "layout": "IPY_MODEL_e675da2e11024af2bf651b3f31d42a55",
            "max": 147,
            "min": 0,
            "orientation": "horizontal",
            "style": "IPY_MODEL_ffa6b0d2966b470aabd0ea5ad5326517",
            "value": 147
          }
        },
        "007293871cb24ec281471f2ff2ef763c": {
          "model_module": "@jupyter-widgets/controls",
          "model_name": "HTMLModel",
          "model_module_version": "1.5.0",
          "state": {
            "_dom_classes": [],
            "_model_module": "@jupyter-widgets/controls",
            "_model_module_version": "1.5.0",
            "_model_name": "HTMLModel",
            "_view_count": null,
            "_view_module": "@jupyter-widgets/controls",
            "_view_module_version": "1.5.0",
            "_view_name": "HTMLView",
            "description": "",
            "description_tooltip": null,
            "layout": "IPY_MODEL_c8e485e02ff0462c948bcc0622c09e1b",
            "placeholder": "​",
            "style": "IPY_MODEL_3b620d9e9a24498ca2c821bceb0ff655",
            "value": " 147/147 [00:00&lt;00:00, 3.91kB/s]"
          }
        },
        "c36754648a454f78a43a49c414f7e250": {
          "model_module": "@jupyter-widgets/base",
          "model_name": "LayoutModel",
          "model_module_version": "1.2.0",
          "state": {
            "_model_module": "@jupyter-widgets/base",
            "_model_module_version": "1.2.0",
            "_model_name": "LayoutModel",
            "_view_count": null,
            "_view_module": "@jupyter-widgets/base",
            "_view_module_version": "1.2.0",
            "_view_name": "LayoutView",
            "align_content": null,
            "align_items": null,
            "align_self": null,
            "border": null,
            "bottom": null,
            "display": null,
            "flex": null,
            "flex_flow": null,
            "grid_area": null,
            "grid_auto_columns": null,
            "grid_auto_flow": null,
            "grid_auto_rows": null,
            "grid_column": null,
            "grid_gap": null,
            "grid_row": null,
            "grid_template_areas": null,
            "grid_template_columns": null,
            "grid_template_rows": null,
            "height": null,
            "justify_content": null,
            "justify_items": null,
            "left": null,
            "margin": null,
            "max_height": null,
            "max_width": null,
            "min_height": null,
            "min_width": null,
            "object_fit": null,
            "object_position": null,
            "order": null,
            "overflow": null,
            "overflow_x": null,
            "overflow_y": null,
            "padding": null,
            "right": null,
            "top": null,
            "visibility": null,
            "width": null
          }
        },
        "8b163877da604cde89f43589441d2e4f": {
          "model_module": "@jupyter-widgets/base",
          "model_name": "LayoutModel",
          "model_module_version": "1.2.0",
          "state": {
            "_model_module": "@jupyter-widgets/base",
            "_model_module_version": "1.2.0",
            "_model_name": "LayoutModel",
            "_view_count": null,
            "_view_module": "@jupyter-widgets/base",
            "_view_module_version": "1.2.0",
            "_view_name": "LayoutView",
            "align_content": null,
            "align_items": null,
            "align_self": null,
            "border": null,
            "bottom": null,
            "display": null,
            "flex": null,
            "flex_flow": null,
            "grid_area": null,
            "grid_auto_columns": null,
            "grid_auto_flow": null,
            "grid_auto_rows": null,
            "grid_column": null,
            "grid_gap": null,
            "grid_row": null,
            "grid_template_areas": null,
            "grid_template_columns": null,
            "grid_template_rows": null,
            "height": null,
            "justify_content": null,
            "justify_items": null,
            "left": null,
            "margin": null,
            "max_height": null,
            "max_width": null,
            "min_height": null,
            "min_width": null,
            "object_fit": null,
            "object_position": null,
            "order": null,
            "overflow": null,
            "overflow_x": null,
            "overflow_y": null,
            "padding": null,
            "right": null,
            "top": null,
            "visibility": null,
            "width": null
          }
        },
        "bc74ddf4b36f4275aaefb7a6c4419f46": {
          "model_module": "@jupyter-widgets/controls",
          "model_name": "DescriptionStyleModel",
          "model_module_version": "1.5.0",
          "state": {
            "_model_module": "@jupyter-widgets/controls",
            "_model_module_version": "1.5.0",
            "_model_name": "DescriptionStyleModel",
            "_view_count": null,
            "_view_module": "@jupyter-widgets/base",
            "_view_module_version": "1.2.0",
            "_view_name": "StyleView",
            "description_width": ""
          }
        },
        "e675da2e11024af2bf651b3f31d42a55": {
          "model_module": "@jupyter-widgets/base",
          "model_name": "LayoutModel",
          "model_module_version": "1.2.0",
          "state": {
            "_model_module": "@jupyter-widgets/base",
            "_model_module_version": "1.2.0",
            "_model_name": "LayoutModel",
            "_view_count": null,
            "_view_module": "@jupyter-widgets/base",
            "_view_module_version": "1.2.0",
            "_view_name": "LayoutView",
            "align_content": null,
            "align_items": null,
            "align_self": null,
            "border": null,
            "bottom": null,
            "display": null,
            "flex": null,
            "flex_flow": null,
            "grid_area": null,
            "grid_auto_columns": null,
            "grid_auto_flow": null,
            "grid_auto_rows": null,
            "grid_column": null,
            "grid_gap": null,
            "grid_row": null,
            "grid_template_areas": null,
            "grid_template_columns": null,
            "grid_template_rows": null,
            "height": null,
            "justify_content": null,
            "justify_items": null,
            "left": null,
            "margin": null,
            "max_height": null,
            "max_width": null,
            "min_height": null,
            "min_width": null,
            "object_fit": null,
            "object_position": null,
            "order": null,
            "overflow": null,
            "overflow_x": null,
            "overflow_y": null,
            "padding": null,
            "right": null,
            "top": null,
            "visibility": null,
            "width": null
          }
        },
        "ffa6b0d2966b470aabd0ea5ad5326517": {
          "model_module": "@jupyter-widgets/controls",
          "model_name": "ProgressStyleModel",
          "model_module_version": "1.5.0",
          "state": {
            "_model_module": "@jupyter-widgets/controls",
            "_model_module_version": "1.5.0",
            "_model_name": "ProgressStyleModel",
            "_view_count": null,
            "_view_module": "@jupyter-widgets/base",
            "_view_module_version": "1.2.0",
            "_view_name": "StyleView",
            "bar_color": null,
            "description_width": ""
          }
        },
        "c8e485e02ff0462c948bcc0622c09e1b": {
          "model_module": "@jupyter-widgets/base",
          "model_name": "LayoutModel",
          "model_module_version": "1.2.0",
          "state": {
            "_model_module": "@jupyter-widgets/base",
            "_model_module_version": "1.2.0",
            "_model_name": "LayoutModel",
            "_view_count": null,
            "_view_module": "@jupyter-widgets/base",
            "_view_module_version": "1.2.0",
            "_view_name": "LayoutView",
            "align_content": null,
            "align_items": null,
            "align_self": null,
            "border": null,
            "bottom": null,
            "display": null,
            "flex": null,
            "flex_flow": null,
            "grid_area": null,
            "grid_auto_columns": null,
            "grid_auto_flow": null,
            "grid_auto_rows": null,
            "grid_column": null,
            "grid_gap": null,
            "grid_row": null,
            "grid_template_areas": null,
            "grid_template_columns": null,
            "grid_template_rows": null,
            "height": null,
            "justify_content": null,
            "justify_items": null,
            "left": null,
            "margin": null,
            "max_height": null,
            "max_width": null,
            "min_height": null,
            "min_width": null,
            "object_fit": null,
            "object_position": null,
            "order": null,
            "overflow": null,
            "overflow_x": null,
            "overflow_y": null,
            "padding": null,
            "right": null,
            "top": null,
            "visibility": null,
            "width": null
          }
        },
        "3b620d9e9a24498ca2c821bceb0ff655": {
          "model_module": "@jupyter-widgets/controls",
          "model_name": "DescriptionStyleModel",
          "model_module_version": "1.5.0",
          "state": {
            "_model_module": "@jupyter-widgets/controls",
            "_model_module_version": "1.5.0",
            "_model_name": "DescriptionStyleModel",
            "_view_count": null,
            "_view_module": "@jupyter-widgets/base",
            "_view_module_version": "1.2.0",
            "_view_name": "StyleView",
            "description_width": ""
          }
        },
        "24e090a6647a40b287b5eb5959c40556": {
          "model_module": "@jupyter-widgets/controls",
          "model_name": "HBoxModel",
          "model_module_version": "1.5.0",
          "state": {
            "_dom_classes": [],
            "_model_module": "@jupyter-widgets/controls",
            "_model_module_version": "1.5.0",
            "_model_name": "HBoxModel",
            "_view_count": null,
            "_view_module": "@jupyter-widgets/controls",
            "_view_module_version": "1.5.0",
            "_view_name": "HBoxView",
            "box_style": "",
            "children": [
              "IPY_MODEL_d8ee32f816a841cf86ac7ca571ed00ac",
              "IPY_MODEL_8ab1a4226c484048a3f5f9d217df4dd9",
              "IPY_MODEL_592d3d9600ee4ea3b5e6bafbd98cc3ff"
            ],
            "layout": "IPY_MODEL_14e9cb2adb254a7aa2d8b08644cd674c"
          }
        },
        "d8ee32f816a841cf86ac7ca571ed00ac": {
          "model_module": "@jupyter-widgets/controls",
          "model_name": "HTMLModel",
          "model_module_version": "1.5.0",
          "state": {
            "_dom_classes": [],
            "_model_module": "@jupyter-widgets/controls",
            "_model_module_version": "1.5.0",
            "_model_name": "HTMLModel",
            "_view_count": null,
            "_view_module": "@jupyter-widgets/controls",
            "_view_module_version": "1.5.0",
            "_view_name": "HTMLView",
            "description": "",
            "description_tooltip": null,
            "layout": "IPY_MODEL_94f7808380b14483872be8cdfa8c3520",
            "placeholder": "​",
            "style": "IPY_MODEL_3783080b60a74cbf8716a1d9f0a98e1a",
            "value": "spiece.model: 100%"
          }
        },
        "8ab1a4226c484048a3f5f9d217df4dd9": {
          "model_module": "@jupyter-widgets/controls",
          "model_name": "FloatProgressModel",
          "model_module_version": "1.5.0",
          "state": {
            "_dom_classes": [],
            "_model_module": "@jupyter-widgets/controls",
            "_model_module_version": "1.5.0",
            "_model_name": "FloatProgressModel",
            "_view_count": null,
            "_view_module": "@jupyter-widgets/controls",
            "_view_module_version": "1.5.0",
            "_view_name": "ProgressView",
            "bar_style": "success",
            "description": "",
            "description_tooltip": null,
            "layout": "IPY_MODEL_051870f3036749d79d84fcae9b4a819c",
            "max": 791656,
            "min": 0,
            "orientation": "horizontal",
            "style": "IPY_MODEL_a82d1a0012af4173a5419295ebf4ee42",
            "value": 791656
          }
        },
        "592d3d9600ee4ea3b5e6bafbd98cc3ff": {
          "model_module": "@jupyter-widgets/controls",
          "model_name": "HTMLModel",
          "model_module_version": "1.5.0",
          "state": {
            "_dom_classes": [],
            "_model_module": "@jupyter-widgets/controls",
            "_model_module_version": "1.5.0",
            "_model_name": "HTMLModel",
            "_view_count": null,
            "_view_module": "@jupyter-widgets/controls",
            "_view_module_version": "1.5.0",
            "_view_name": "HTMLView",
            "description": "",
            "description_tooltip": null,
            "layout": "IPY_MODEL_751110778fb4487f80e92ab0242cef11",
            "placeholder": "​",
            "style": "IPY_MODEL_8bec27176e094823b1ef31ceee3fb267",
            "value": " 792k/792k [00:00&lt;00:00, 7.31MB/s]"
          }
        },
        "14e9cb2adb254a7aa2d8b08644cd674c": {
          "model_module": "@jupyter-widgets/base",
          "model_name": "LayoutModel",
          "model_module_version": "1.2.0",
          "state": {
            "_model_module": "@jupyter-widgets/base",
            "_model_module_version": "1.2.0",
            "_model_name": "LayoutModel",
            "_view_count": null,
            "_view_module": "@jupyter-widgets/base",
            "_view_module_version": "1.2.0",
            "_view_name": "LayoutView",
            "align_content": null,
            "align_items": null,
            "align_self": null,
            "border": null,
            "bottom": null,
            "display": null,
            "flex": null,
            "flex_flow": null,
            "grid_area": null,
            "grid_auto_columns": null,
            "grid_auto_flow": null,
            "grid_auto_rows": null,
            "grid_column": null,
            "grid_gap": null,
            "grid_row": null,
            "grid_template_areas": null,
            "grid_template_columns": null,
            "grid_template_rows": null,
            "height": null,
            "justify_content": null,
            "justify_items": null,
            "left": null,
            "margin": null,
            "max_height": null,
            "max_width": null,
            "min_height": null,
            "min_width": null,
            "object_fit": null,
            "object_position": null,
            "order": null,
            "overflow": null,
            "overflow_x": null,
            "overflow_y": null,
            "padding": null,
            "right": null,
            "top": null,
            "visibility": null,
            "width": null
          }
        },
        "94f7808380b14483872be8cdfa8c3520": {
          "model_module": "@jupyter-widgets/base",
          "model_name": "LayoutModel",
          "model_module_version": "1.2.0",
          "state": {
            "_model_module": "@jupyter-widgets/base",
            "_model_module_version": "1.2.0",
            "_model_name": "LayoutModel",
            "_view_count": null,
            "_view_module": "@jupyter-widgets/base",
            "_view_module_version": "1.2.0",
            "_view_name": "LayoutView",
            "align_content": null,
            "align_items": null,
            "align_self": null,
            "border": null,
            "bottom": null,
            "display": null,
            "flex": null,
            "flex_flow": null,
            "grid_area": null,
            "grid_auto_columns": null,
            "grid_auto_flow": null,
            "grid_auto_rows": null,
            "grid_column": null,
            "grid_gap": null,
            "grid_row": null,
            "grid_template_areas": null,
            "grid_template_columns": null,
            "grid_template_rows": null,
            "height": null,
            "justify_content": null,
            "justify_items": null,
            "left": null,
            "margin": null,
            "max_height": null,
            "max_width": null,
            "min_height": null,
            "min_width": null,
            "object_fit": null,
            "object_position": null,
            "order": null,
            "overflow": null,
            "overflow_x": null,
            "overflow_y": null,
            "padding": null,
            "right": null,
            "top": null,
            "visibility": null,
            "width": null
          }
        },
        "3783080b60a74cbf8716a1d9f0a98e1a": {
          "model_module": "@jupyter-widgets/controls",
          "model_name": "DescriptionStyleModel",
          "model_module_version": "1.5.0",
          "state": {
            "_model_module": "@jupyter-widgets/controls",
            "_model_module_version": "1.5.0",
            "_model_name": "DescriptionStyleModel",
            "_view_count": null,
            "_view_module": "@jupyter-widgets/base",
            "_view_module_version": "1.2.0",
            "_view_name": "StyleView",
            "description_width": ""
          }
        },
        "051870f3036749d79d84fcae9b4a819c": {
          "model_module": "@jupyter-widgets/base",
          "model_name": "LayoutModel",
          "model_module_version": "1.2.0",
          "state": {
            "_model_module": "@jupyter-widgets/base",
            "_model_module_version": "1.2.0",
            "_model_name": "LayoutModel",
            "_view_count": null,
            "_view_module": "@jupyter-widgets/base",
            "_view_module_version": "1.2.0",
            "_view_name": "LayoutView",
            "align_content": null,
            "align_items": null,
            "align_self": null,
            "border": null,
            "bottom": null,
            "display": null,
            "flex": null,
            "flex_flow": null,
            "grid_area": null,
            "grid_auto_columns": null,
            "grid_auto_flow": null,
            "grid_auto_rows": null,
            "grid_column": null,
            "grid_gap": null,
            "grid_row": null,
            "grid_template_areas": null,
            "grid_template_columns": null,
            "grid_template_rows": null,
            "height": null,
            "justify_content": null,
            "justify_items": null,
            "left": null,
            "margin": null,
            "max_height": null,
            "max_width": null,
            "min_height": null,
            "min_width": null,
            "object_fit": null,
            "object_position": null,
            "order": null,
            "overflow": null,
            "overflow_x": null,
            "overflow_y": null,
            "padding": null,
            "right": null,
            "top": null,
            "visibility": null,
            "width": null
          }
        },
        "a82d1a0012af4173a5419295ebf4ee42": {
          "model_module": "@jupyter-widgets/controls",
          "model_name": "ProgressStyleModel",
          "model_module_version": "1.5.0",
          "state": {
            "_model_module": "@jupyter-widgets/controls",
            "_model_module_version": "1.5.0",
            "_model_name": "ProgressStyleModel",
            "_view_count": null,
            "_view_module": "@jupyter-widgets/base",
            "_view_module_version": "1.2.0",
            "_view_name": "StyleView",
            "bar_color": null,
            "description_width": ""
          }
        },
        "751110778fb4487f80e92ab0242cef11": {
          "model_module": "@jupyter-widgets/base",
          "model_name": "LayoutModel",
          "model_module_version": "1.2.0",
          "state": {
            "_model_module": "@jupyter-widgets/base",
            "_model_module_version": "1.2.0",
            "_model_name": "LayoutModel",
            "_view_count": null,
            "_view_module": "@jupyter-widgets/base",
            "_view_module_version": "1.2.0",
            "_view_name": "LayoutView",
            "align_content": null,
            "align_items": null,
            "align_self": null,
            "border": null,
            "bottom": null,
            "display": null,
            "flex": null,
            "flex_flow": null,
            "grid_area": null,
            "grid_auto_columns": null,
            "grid_auto_flow": null,
            "grid_auto_rows": null,
            "grid_column": null,
            "grid_gap": null,
            "grid_row": null,
            "grid_template_areas": null,
            "grid_template_columns": null,
            "grid_template_rows": null,
            "height": null,
            "justify_content": null,
            "justify_items": null,
            "left": null,
            "margin": null,
            "max_height": null,
            "max_width": null,
            "min_height": null,
            "min_width": null,
            "object_fit": null,
            "object_position": null,
            "order": null,
            "overflow": null,
            "overflow_x": null,
            "overflow_y": null,
            "padding": null,
            "right": null,
            "top": null,
            "visibility": null,
            "width": null
          }
        },
        "8bec27176e094823b1ef31ceee3fb267": {
          "model_module": "@jupyter-widgets/controls",
          "model_name": "DescriptionStyleModel",
          "model_module_version": "1.5.0",
          "state": {
            "_model_module": "@jupyter-widgets/controls",
            "_model_module_version": "1.5.0",
            "_model_name": "DescriptionStyleModel",
            "_view_count": null,
            "_view_module": "@jupyter-widgets/base",
            "_view_module_version": "1.2.0",
            "_view_name": "StyleView",
            "description_width": ""
          }
        },
        "7929760073aa4e54b1e0fdacfdf1c716": {
          "model_module": "@jupyter-widgets/controls",
          "model_name": "HBoxModel",
          "model_module_version": "1.5.0",
          "state": {
            "_dom_classes": [],
            "_model_module": "@jupyter-widgets/controls",
            "_model_module_version": "1.5.0",
            "_model_name": "HBoxModel",
            "_view_count": null,
            "_view_module": "@jupyter-widgets/controls",
            "_view_module_version": "1.5.0",
            "_view_name": "HBoxView",
            "box_style": "",
            "children": [
              "IPY_MODEL_c52ffba861934412be1fd92a02d11ada",
              "IPY_MODEL_070bbd523c39444ba951e809ff1b4f2f",
              "IPY_MODEL_80ba997e3d2b4382a3abc072cc3f64ce"
            ],
            "layout": "IPY_MODEL_f8ae13f1a1e0417c862180508a9b9e29"
          }
        },
        "c52ffba861934412be1fd92a02d11ada": {
          "model_module": "@jupyter-widgets/controls",
          "model_name": "HTMLModel",
          "model_module_version": "1.5.0",
          "state": {
            "_dom_classes": [],
            "_model_module": "@jupyter-widgets/controls",
            "_model_module_version": "1.5.0",
            "_model_name": "HTMLModel",
            "_view_count": null,
            "_view_module": "@jupyter-widgets/controls",
            "_view_module_version": "1.5.0",
            "_view_name": "HTMLView",
            "description": "",
            "description_tooltip": null,
            "layout": "IPY_MODEL_8d17d430e5aa40d4af95d8223103fdc0",
            "placeholder": "​",
            "style": "IPY_MODEL_40718d0591cd41b6b34a6e69ceb9ddb5",
            "value": "tokenizer.json: 100%"
          }
        },
        "070bbd523c39444ba951e809ff1b4f2f": {
          "model_module": "@jupyter-widgets/controls",
          "model_name": "FloatProgressModel",
          "model_module_version": "1.5.0",
          "state": {
            "_dom_classes": [],
            "_model_module": "@jupyter-widgets/controls",
            "_model_module_version": "1.5.0",
            "_model_name": "FloatProgressModel",
            "_view_count": null,
            "_view_module": "@jupyter-widgets/controls",
            "_view_module_version": "1.5.0",
            "_view_name": "ProgressView",
            "bar_style": "success",
            "description": "",
            "description_tooltip": null,
            "layout": "IPY_MODEL_675ccc0ba1df47428f5515795426be50",
            "max": 1389353,
            "min": 0,
            "orientation": "horizontal",
            "style": "IPY_MODEL_8548abab8d2743659b913846c29d32df",
            "value": 1389353
          }
        },
        "80ba997e3d2b4382a3abc072cc3f64ce": {
          "model_module": "@jupyter-widgets/controls",
          "model_name": "HTMLModel",
          "model_module_version": "1.5.0",
          "state": {
            "_dom_classes": [],
            "_model_module": "@jupyter-widgets/controls",
            "_model_module_version": "1.5.0",
            "_model_name": "HTMLModel",
            "_view_count": null,
            "_view_module": "@jupyter-widgets/controls",
            "_view_module_version": "1.5.0",
            "_view_name": "HTMLView",
            "description": "",
            "description_tooltip": null,
            "layout": "IPY_MODEL_1b845c78c8ce422985c7eb4e46dbf3e9",
            "placeholder": "​",
            "style": "IPY_MODEL_6e8b08a3cd214bc695dc9a62a9aeb2c2",
            "value": " 1.39M/1.39M [00:00&lt;00:00, 24.8MB/s]"
          }
        },
        "f8ae13f1a1e0417c862180508a9b9e29": {
          "model_module": "@jupyter-widgets/base",
          "model_name": "LayoutModel",
          "model_module_version": "1.2.0",
          "state": {
            "_model_module": "@jupyter-widgets/base",
            "_model_module_version": "1.2.0",
            "_model_name": "LayoutModel",
            "_view_count": null,
            "_view_module": "@jupyter-widgets/base",
            "_view_module_version": "1.2.0",
            "_view_name": "LayoutView",
            "align_content": null,
            "align_items": null,
            "align_self": null,
            "border": null,
            "bottom": null,
            "display": null,
            "flex": null,
            "flex_flow": null,
            "grid_area": null,
            "grid_auto_columns": null,
            "grid_auto_flow": null,
            "grid_auto_rows": null,
            "grid_column": null,
            "grid_gap": null,
            "grid_row": null,
            "grid_template_areas": null,
            "grid_template_columns": null,
            "grid_template_rows": null,
            "height": null,
            "justify_content": null,
            "justify_items": null,
            "left": null,
            "margin": null,
            "max_height": null,
            "max_width": null,
            "min_height": null,
            "min_width": null,
            "object_fit": null,
            "object_position": null,
            "order": null,
            "overflow": null,
            "overflow_x": null,
            "overflow_y": null,
            "padding": null,
            "right": null,
            "top": null,
            "visibility": null,
            "width": null
          }
        },
        "8d17d430e5aa40d4af95d8223103fdc0": {
          "model_module": "@jupyter-widgets/base",
          "model_name": "LayoutModel",
          "model_module_version": "1.2.0",
          "state": {
            "_model_module": "@jupyter-widgets/base",
            "_model_module_version": "1.2.0",
            "_model_name": "LayoutModel",
            "_view_count": null,
            "_view_module": "@jupyter-widgets/base",
            "_view_module_version": "1.2.0",
            "_view_name": "LayoutView",
            "align_content": null,
            "align_items": null,
            "align_self": null,
            "border": null,
            "bottom": null,
            "display": null,
            "flex": null,
            "flex_flow": null,
            "grid_area": null,
            "grid_auto_columns": null,
            "grid_auto_flow": null,
            "grid_auto_rows": null,
            "grid_column": null,
            "grid_gap": null,
            "grid_row": null,
            "grid_template_areas": null,
            "grid_template_columns": null,
            "grid_template_rows": null,
            "height": null,
            "justify_content": null,
            "justify_items": null,
            "left": null,
            "margin": null,
            "max_height": null,
            "max_width": null,
            "min_height": null,
            "min_width": null,
            "object_fit": null,
            "object_position": null,
            "order": null,
            "overflow": null,
            "overflow_x": null,
            "overflow_y": null,
            "padding": null,
            "right": null,
            "top": null,
            "visibility": null,
            "width": null
          }
        },
        "40718d0591cd41b6b34a6e69ceb9ddb5": {
          "model_module": "@jupyter-widgets/controls",
          "model_name": "DescriptionStyleModel",
          "model_module_version": "1.5.0",
          "state": {
            "_model_module": "@jupyter-widgets/controls",
            "_model_module_version": "1.5.0",
            "_model_name": "DescriptionStyleModel",
            "_view_count": null,
            "_view_module": "@jupyter-widgets/base",
            "_view_module_version": "1.2.0",
            "_view_name": "StyleView",
            "description_width": ""
          }
        },
        "675ccc0ba1df47428f5515795426be50": {
          "model_module": "@jupyter-widgets/base",
          "model_name": "LayoutModel",
          "model_module_version": "1.2.0",
          "state": {
            "_model_module": "@jupyter-widgets/base",
            "_model_module_version": "1.2.0",
            "_model_name": "LayoutModel",
            "_view_count": null,
            "_view_module": "@jupyter-widgets/base",
            "_view_module_version": "1.2.0",
            "_view_name": "LayoutView",
            "align_content": null,
            "align_items": null,
            "align_self": null,
            "border": null,
            "bottom": null,
            "display": null,
            "flex": null,
            "flex_flow": null,
            "grid_area": null,
            "grid_auto_columns": null,
            "grid_auto_flow": null,
            "grid_auto_rows": null,
            "grid_column": null,
            "grid_gap": null,
            "grid_row": null,
            "grid_template_areas": null,
            "grid_template_columns": null,
            "grid_template_rows": null,
            "height": null,
            "justify_content": null,
            "justify_items": null,
            "left": null,
            "margin": null,
            "max_height": null,
            "max_width": null,
            "min_height": null,
            "min_width": null,
            "object_fit": null,
            "object_position": null,
            "order": null,
            "overflow": null,
            "overflow_x": null,
            "overflow_y": null,
            "padding": null,
            "right": null,
            "top": null,
            "visibility": null,
            "width": null
          }
        },
        "8548abab8d2743659b913846c29d32df": {
          "model_module": "@jupyter-widgets/controls",
          "model_name": "ProgressStyleModel",
          "model_module_version": "1.5.0",
          "state": {
            "_model_module": "@jupyter-widgets/controls",
            "_model_module_version": "1.5.0",
            "_model_name": "ProgressStyleModel",
            "_view_count": null,
            "_view_module": "@jupyter-widgets/base",
            "_view_module_version": "1.2.0",
            "_view_name": "StyleView",
            "bar_color": null,
            "description_width": ""
          }
        },
        "1b845c78c8ce422985c7eb4e46dbf3e9": {
          "model_module": "@jupyter-widgets/base",
          "model_name": "LayoutModel",
          "model_module_version": "1.2.0",
          "state": {
            "_model_module": "@jupyter-widgets/base",
            "_model_module_version": "1.2.0",
            "_model_name": "LayoutModel",
            "_view_count": null,
            "_view_module": "@jupyter-widgets/base",
            "_view_module_version": "1.2.0",
            "_view_name": "LayoutView",
            "align_content": null,
            "align_items": null,
            "align_self": null,
            "border": null,
            "bottom": null,
            "display": null,
            "flex": null,
            "flex_flow": null,
            "grid_area": null,
            "grid_auto_columns": null,
            "grid_auto_flow": null,
            "grid_auto_rows": null,
            "grid_column": null,
            "grid_gap": null,
            "grid_row": null,
            "grid_template_areas": null,
            "grid_template_columns": null,
            "grid_template_rows": null,
            "height": null,
            "justify_content": null,
            "justify_items": null,
            "left": null,
            "margin": null,
            "max_height": null,
            "max_width": null,
            "min_height": null,
            "min_width": null,
            "object_fit": null,
            "object_position": null,
            "order": null,
            "overflow": null,
            "overflow_x": null,
            "overflow_y": null,
            "padding": null,
            "right": null,
            "top": null,
            "visibility": null,
            "width": null
          }
        },
        "6e8b08a3cd214bc695dc9a62a9aeb2c2": {
          "model_module": "@jupyter-widgets/controls",
          "model_name": "DescriptionStyleModel",
          "model_module_version": "1.5.0",
          "state": {
            "_model_module": "@jupyter-widgets/controls",
            "_model_module_version": "1.5.0",
            "_model_name": "DescriptionStyleModel",
            "_view_count": null,
            "_view_module": "@jupyter-widgets/base",
            "_view_module_version": "1.2.0",
            "_view_name": "StyleView",
            "description_width": ""
          }
        },
        "b00417eef367435b82cbae12f672f6b8": {
          "model_module": "@jupyter-widgets/controls",
          "model_name": "HBoxModel",
          "model_module_version": "1.5.0",
          "state": {
            "_dom_classes": [],
            "_model_module": "@jupyter-widgets/controls",
            "_model_module_version": "1.5.0",
            "_model_name": "HBoxModel",
            "_view_count": null,
            "_view_module": "@jupyter-widgets/controls",
            "_view_module_version": "1.5.0",
            "_view_name": "HBoxView",
            "box_style": "",
            "children": [
              "IPY_MODEL_4e0e364de15f43c594193e384bd40929",
              "IPY_MODEL_a68705466a54464286544270dde7d191",
              "IPY_MODEL_b62bdab76fec4353a19dc5bdd3026d24"
            ],
            "layout": "IPY_MODEL_c932997baccf4c269b9770cac98499c0"
          }
        },
        "4e0e364de15f43c594193e384bd40929": {
          "model_module": "@jupyter-widgets/controls",
          "model_name": "HTMLModel",
          "model_module_version": "1.5.0",
          "state": {
            "_dom_classes": [],
            "_model_module": "@jupyter-widgets/controls",
            "_model_module_version": "1.5.0",
            "_model_name": "HTMLModel",
            "_view_count": null,
            "_view_module": "@jupyter-widgets/controls",
            "_view_module_version": "1.5.0",
            "_view_name": "HTMLView",
            "description": "",
            "description_tooltip": null,
            "layout": "IPY_MODEL_f9db1d57e77a4449b21edd47dbcd6ff8",
            "placeholder": "​",
            "style": "IPY_MODEL_0b21c75b4b904cc98f1bf191ab5b8339",
            "value": "config.json: 100%"
          }
        },
        "a68705466a54464286544270dde7d191": {
          "model_module": "@jupyter-widgets/controls",
          "model_name": "FloatProgressModel",
          "model_module_version": "1.5.0",
          "state": {
            "_dom_classes": [],
            "_model_module": "@jupyter-widgets/controls",
            "_model_module_version": "1.5.0",
            "_model_name": "FloatProgressModel",
            "_view_count": null,
            "_view_module": "@jupyter-widgets/controls",
            "_view_module_version": "1.5.0",
            "_view_name": "ProgressView",
            "bar_style": "success",
            "description": "",
            "description_tooltip": null,
            "layout": "IPY_MODEL_6f452a4d34a0409f8b3782b83466cf35",
            "max": 1208,
            "min": 0,
            "orientation": "horizontal",
            "style": "IPY_MODEL_fdf9f249315a4033b12be922f79cfec0",
            "value": 1208
          }
        },
        "b62bdab76fec4353a19dc5bdd3026d24": {
          "model_module": "@jupyter-widgets/controls",
          "model_name": "HTMLModel",
          "model_module_version": "1.5.0",
          "state": {
            "_dom_classes": [],
            "_model_module": "@jupyter-widgets/controls",
            "_model_module_version": "1.5.0",
            "_model_name": "HTMLModel",
            "_view_count": null,
            "_view_module": "@jupyter-widgets/controls",
            "_view_module_version": "1.5.0",
            "_view_name": "HTMLView",
            "description": "",
            "description_tooltip": null,
            "layout": "IPY_MODEL_0acb5ce498534bfaab574dfe2a51d6d2",
            "placeholder": "​",
            "style": "IPY_MODEL_7d5130c50c2a4c9f9a17aabf2ffff15a",
            "value": " 1.21k/1.21k [00:00&lt;00:00, 27.4kB/s]"
          }
        },
        "c932997baccf4c269b9770cac98499c0": {
          "model_module": "@jupyter-widgets/base",
          "model_name": "LayoutModel",
          "model_module_version": "1.2.0",
          "state": {
            "_model_module": "@jupyter-widgets/base",
            "_model_module_version": "1.2.0",
            "_model_name": "LayoutModel",
            "_view_count": null,
            "_view_module": "@jupyter-widgets/base",
            "_view_module_version": "1.2.0",
            "_view_name": "LayoutView",
            "align_content": null,
            "align_items": null,
            "align_self": null,
            "border": null,
            "bottom": null,
            "display": null,
            "flex": null,
            "flex_flow": null,
            "grid_area": null,
            "grid_auto_columns": null,
            "grid_auto_flow": null,
            "grid_auto_rows": null,
            "grid_column": null,
            "grid_gap": null,
            "grid_row": null,
            "grid_template_areas": null,
            "grid_template_columns": null,
            "grid_template_rows": null,
            "height": null,
            "justify_content": null,
            "justify_items": null,
            "left": null,
            "margin": null,
            "max_height": null,
            "max_width": null,
            "min_height": null,
            "min_width": null,
            "object_fit": null,
            "object_position": null,
            "order": null,
            "overflow": null,
            "overflow_x": null,
            "overflow_y": null,
            "padding": null,
            "right": null,
            "top": null,
            "visibility": null,
            "width": null
          }
        },
        "f9db1d57e77a4449b21edd47dbcd6ff8": {
          "model_module": "@jupyter-widgets/base",
          "model_name": "LayoutModel",
          "model_module_version": "1.2.0",
          "state": {
            "_model_module": "@jupyter-widgets/base",
            "_model_module_version": "1.2.0",
            "_model_name": "LayoutModel",
            "_view_count": null,
            "_view_module": "@jupyter-widgets/base",
            "_view_module_version": "1.2.0",
            "_view_name": "LayoutView",
            "align_content": null,
            "align_items": null,
            "align_self": null,
            "border": null,
            "bottom": null,
            "display": null,
            "flex": null,
            "flex_flow": null,
            "grid_area": null,
            "grid_auto_columns": null,
            "grid_auto_flow": null,
            "grid_auto_rows": null,
            "grid_column": null,
            "grid_gap": null,
            "grid_row": null,
            "grid_template_areas": null,
            "grid_template_columns": null,
            "grid_template_rows": null,
            "height": null,
            "justify_content": null,
            "justify_items": null,
            "left": null,
            "margin": null,
            "max_height": null,
            "max_width": null,
            "min_height": null,
            "min_width": null,
            "object_fit": null,
            "object_position": null,
            "order": null,
            "overflow": null,
            "overflow_x": null,
            "overflow_y": null,
            "padding": null,
            "right": null,
            "top": null,
            "visibility": null,
            "width": null
          }
        },
        "0b21c75b4b904cc98f1bf191ab5b8339": {
          "model_module": "@jupyter-widgets/controls",
          "model_name": "DescriptionStyleModel",
          "model_module_version": "1.5.0",
          "state": {
            "_model_module": "@jupyter-widgets/controls",
            "_model_module_version": "1.5.0",
            "_model_name": "DescriptionStyleModel",
            "_view_count": null,
            "_view_module": "@jupyter-widgets/base",
            "_view_module_version": "1.2.0",
            "_view_name": "StyleView",
            "description_width": ""
          }
        },
        "6f452a4d34a0409f8b3782b83466cf35": {
          "model_module": "@jupyter-widgets/base",
          "model_name": "LayoutModel",
          "model_module_version": "1.2.0",
          "state": {
            "_model_module": "@jupyter-widgets/base",
            "_model_module_version": "1.2.0",
            "_model_name": "LayoutModel",
            "_view_count": null,
            "_view_module": "@jupyter-widgets/base",
            "_view_module_version": "1.2.0",
            "_view_name": "LayoutView",
            "align_content": null,
            "align_items": null,
            "align_self": null,
            "border": null,
            "bottom": null,
            "display": null,
            "flex": null,
            "flex_flow": null,
            "grid_area": null,
            "grid_auto_columns": null,
            "grid_auto_flow": null,
            "grid_auto_rows": null,
            "grid_column": null,
            "grid_gap": null,
            "grid_row": null,
            "grid_template_areas": null,
            "grid_template_columns": null,
            "grid_template_rows": null,
            "height": null,
            "justify_content": null,
            "justify_items": null,
            "left": null,
            "margin": null,
            "max_height": null,
            "max_width": null,
            "min_height": null,
            "min_width": null,
            "object_fit": null,
            "object_position": null,
            "order": null,
            "overflow": null,
            "overflow_x": null,
            "overflow_y": null,
            "padding": null,
            "right": null,
            "top": null,
            "visibility": null,
            "width": null
          }
        },
        "fdf9f249315a4033b12be922f79cfec0": {
          "model_module": "@jupyter-widgets/controls",
          "model_name": "ProgressStyleModel",
          "model_module_version": "1.5.0",
          "state": {
            "_model_module": "@jupyter-widgets/controls",
            "_model_module_version": "1.5.0",
            "_model_name": "ProgressStyleModel",
            "_view_count": null,
            "_view_module": "@jupyter-widgets/base",
            "_view_module_version": "1.2.0",
            "_view_name": "StyleView",
            "bar_color": null,
            "description_width": ""
          }
        },
        "0acb5ce498534bfaab574dfe2a51d6d2": {
          "model_module": "@jupyter-widgets/base",
          "model_name": "LayoutModel",
          "model_module_version": "1.2.0",
          "state": {
            "_model_module": "@jupyter-widgets/base",
            "_model_module_version": "1.2.0",
            "_model_name": "LayoutModel",
            "_view_count": null,
            "_view_module": "@jupyter-widgets/base",
            "_view_module_version": "1.2.0",
            "_view_name": "LayoutView",
            "align_content": null,
            "align_items": null,
            "align_self": null,
            "border": null,
            "bottom": null,
            "display": null,
            "flex": null,
            "flex_flow": null,
            "grid_area": null,
            "grid_auto_columns": null,
            "grid_auto_flow": null,
            "grid_auto_rows": null,
            "grid_column": null,
            "grid_gap": null,
            "grid_row": null,
            "grid_template_areas": null,
            "grid_template_columns": null,
            "grid_template_rows": null,
            "height": null,
            "justify_content": null,
            "justify_items": null,
            "left": null,
            "margin": null,
            "max_height": null,
            "max_width": null,
            "min_height": null,
            "min_width": null,
            "object_fit": null,
            "object_position": null,
            "order": null,
            "overflow": null,
            "overflow_x": null,
            "overflow_y": null,
            "padding": null,
            "right": null,
            "top": null,
            "visibility": null,
            "width": null
          }
        },
        "7d5130c50c2a4c9f9a17aabf2ffff15a": {
          "model_module": "@jupyter-widgets/controls",
          "model_name": "DescriptionStyleModel",
          "model_module_version": "1.5.0",
          "state": {
            "_model_module": "@jupyter-widgets/controls",
            "_model_module_version": "1.5.0",
            "_model_name": "DescriptionStyleModel",
            "_view_count": null,
            "_view_module": "@jupyter-widgets/base",
            "_view_module_version": "1.2.0",
            "_view_name": "StyleView",
            "description_width": ""
          }
        },
        "96f7353f790245ed874e2cc8c6ac705c": {
          "model_module": "@jupyter-widgets/controls",
          "model_name": "HBoxModel",
          "model_module_version": "1.5.0",
          "state": {
            "_dom_classes": [],
            "_model_module": "@jupyter-widgets/controls",
            "_model_module_version": "1.5.0",
            "_model_name": "HBoxModel",
            "_view_count": null,
            "_view_module": "@jupyter-widgets/controls",
            "_view_module_version": "1.5.0",
            "_view_name": "HBoxView",
            "box_style": "",
            "children": [
              "IPY_MODEL_0e948b9f190c4a5fa44dec7df1e278ac",
              "IPY_MODEL_34aa2e2628ec4cbb8cde4021fbbc892e",
              "IPY_MODEL_52900608baef401da1da6979316f294e"
            ],
            "layout": "IPY_MODEL_3bb3c3660a5c4928a19cae14df2faee2"
          }
        },
        "0e948b9f190c4a5fa44dec7df1e278ac": {
          "model_module": "@jupyter-widgets/controls",
          "model_name": "HTMLModel",
          "model_module_version": "1.5.0",
          "state": {
            "_dom_classes": [],
            "_model_module": "@jupyter-widgets/controls",
            "_model_module_version": "1.5.0",
            "_model_name": "HTMLModel",
            "_view_count": null,
            "_view_module": "@jupyter-widgets/controls",
            "_view_module_version": "1.5.0",
            "_view_name": "HTMLView",
            "description": "",
            "description_tooltip": null,
            "layout": "IPY_MODEL_cdc8ee78e85845319714932ecf3d064f",
            "placeholder": "​",
            "style": "IPY_MODEL_e8d733a09e0d49169b40a68ef76f85c0",
            "value": "model.safetensors: 100%"
          }
        },
        "34aa2e2628ec4cbb8cde4021fbbc892e": {
          "model_module": "@jupyter-widgets/controls",
          "model_name": "FloatProgressModel",
          "model_module_version": "1.5.0",
          "state": {
            "_dom_classes": [],
            "_model_module": "@jupyter-widgets/controls",
            "_model_module_version": "1.5.0",
            "_model_name": "FloatProgressModel",
            "_view_count": null,
            "_view_module": "@jupyter-widgets/controls",
            "_view_module_version": "1.5.0",
            "_view_name": "ProgressView",
            "bar_style": "success",
            "description": "",
            "description_tooltip": null,
            "layout": "IPY_MODEL_f452018c65e44bf589e485e82f9ca9c0",
            "max": 891646390,
            "min": 0,
            "orientation": "horizontal",
            "style": "IPY_MODEL_74c64e51600743958ba4c3d53095e244",
            "value": 891646390
          }
        },
        "52900608baef401da1da6979316f294e": {
          "model_module": "@jupyter-widgets/controls",
          "model_name": "HTMLModel",
          "model_module_version": "1.5.0",
          "state": {
            "_dom_classes": [],
            "_model_module": "@jupyter-widgets/controls",
            "_model_module_version": "1.5.0",
            "_model_name": "HTMLModel",
            "_view_count": null,
            "_view_module": "@jupyter-widgets/controls",
            "_view_module_version": "1.5.0",
            "_view_name": "HTMLView",
            "description": "",
            "description_tooltip": null,
            "layout": "IPY_MODEL_9a35595e1a7a4baba8203a9e50341cb2",
            "placeholder": "​",
            "style": "IPY_MODEL_aa3010d62f634c8197468febe1791365",
            "value": " 892M/892M [00:06&lt;00:00, 135MB/s]"
          }
        },
        "3bb3c3660a5c4928a19cae14df2faee2": {
          "model_module": "@jupyter-widgets/base",
          "model_name": "LayoutModel",
          "model_module_version": "1.2.0",
          "state": {
            "_model_module": "@jupyter-widgets/base",
            "_model_module_version": "1.2.0",
            "_model_name": "LayoutModel",
            "_view_count": null,
            "_view_module": "@jupyter-widgets/base",
            "_view_module_version": "1.2.0",
            "_view_name": "LayoutView",
            "align_content": null,
            "align_items": null,
            "align_self": null,
            "border": null,
            "bottom": null,
            "display": null,
            "flex": null,
            "flex_flow": null,
            "grid_area": null,
            "grid_auto_columns": null,
            "grid_auto_flow": null,
            "grid_auto_rows": null,
            "grid_column": null,
            "grid_gap": null,
            "grid_row": null,
            "grid_template_areas": null,
            "grid_template_columns": null,
            "grid_template_rows": null,
            "height": null,
            "justify_content": null,
            "justify_items": null,
            "left": null,
            "margin": null,
            "max_height": null,
            "max_width": null,
            "min_height": null,
            "min_width": null,
            "object_fit": null,
            "object_position": null,
            "order": null,
            "overflow": null,
            "overflow_x": null,
            "overflow_y": null,
            "padding": null,
            "right": null,
            "top": null,
            "visibility": null,
            "width": null
          }
        },
        "cdc8ee78e85845319714932ecf3d064f": {
          "model_module": "@jupyter-widgets/base",
          "model_name": "LayoutModel",
          "model_module_version": "1.2.0",
          "state": {
            "_model_module": "@jupyter-widgets/base",
            "_model_module_version": "1.2.0",
            "_model_name": "LayoutModel",
            "_view_count": null,
            "_view_module": "@jupyter-widgets/base",
            "_view_module_version": "1.2.0",
            "_view_name": "LayoutView",
            "align_content": null,
            "align_items": null,
            "align_self": null,
            "border": null,
            "bottom": null,
            "display": null,
            "flex": null,
            "flex_flow": null,
            "grid_area": null,
            "grid_auto_columns": null,
            "grid_auto_flow": null,
            "grid_auto_rows": null,
            "grid_column": null,
            "grid_gap": null,
            "grid_row": null,
            "grid_template_areas": null,
            "grid_template_columns": null,
            "grid_template_rows": null,
            "height": null,
            "justify_content": null,
            "justify_items": null,
            "left": null,
            "margin": null,
            "max_height": null,
            "max_width": null,
            "min_height": null,
            "min_width": null,
            "object_fit": null,
            "object_position": null,
            "order": null,
            "overflow": null,
            "overflow_x": null,
            "overflow_y": null,
            "padding": null,
            "right": null,
            "top": null,
            "visibility": null,
            "width": null
          }
        },
        "e8d733a09e0d49169b40a68ef76f85c0": {
          "model_module": "@jupyter-widgets/controls",
          "model_name": "DescriptionStyleModel",
          "model_module_version": "1.5.0",
          "state": {
            "_model_module": "@jupyter-widgets/controls",
            "_model_module_version": "1.5.0",
            "_model_name": "DescriptionStyleModel",
            "_view_count": null,
            "_view_module": "@jupyter-widgets/base",
            "_view_module_version": "1.2.0",
            "_view_name": "StyleView",
            "description_width": ""
          }
        },
        "f452018c65e44bf589e485e82f9ca9c0": {
          "model_module": "@jupyter-widgets/base",
          "model_name": "LayoutModel",
          "model_module_version": "1.2.0",
          "state": {
            "_model_module": "@jupyter-widgets/base",
            "_model_module_version": "1.2.0",
            "_model_name": "LayoutModel",
            "_view_count": null,
            "_view_module": "@jupyter-widgets/base",
            "_view_module_version": "1.2.0",
            "_view_name": "LayoutView",
            "align_content": null,
            "align_items": null,
            "align_self": null,
            "border": null,
            "bottom": null,
            "display": null,
            "flex": null,
            "flex_flow": null,
            "grid_area": null,
            "grid_auto_columns": null,
            "grid_auto_flow": null,
            "grid_auto_rows": null,
            "grid_column": null,
            "grid_gap": null,
            "grid_row": null,
            "grid_template_areas": null,
            "grid_template_columns": null,
            "grid_template_rows": null,
            "height": null,
            "justify_content": null,
            "justify_items": null,
            "left": null,
            "margin": null,
            "max_height": null,
            "max_width": null,
            "min_height": null,
            "min_width": null,
            "object_fit": null,
            "object_position": null,
            "order": null,
            "overflow": null,
            "overflow_x": null,
            "overflow_y": null,
            "padding": null,
            "right": null,
            "top": null,
            "visibility": null,
            "width": null
          }
        },
        "74c64e51600743958ba4c3d53095e244": {
          "model_module": "@jupyter-widgets/controls",
          "model_name": "ProgressStyleModel",
          "model_module_version": "1.5.0",
          "state": {
            "_model_module": "@jupyter-widgets/controls",
            "_model_module_version": "1.5.0",
            "_model_name": "ProgressStyleModel",
            "_view_count": null,
            "_view_module": "@jupyter-widgets/base",
            "_view_module_version": "1.2.0",
            "_view_name": "StyleView",
            "bar_color": null,
            "description_width": ""
          }
        },
        "9a35595e1a7a4baba8203a9e50341cb2": {
          "model_module": "@jupyter-widgets/base",
          "model_name": "LayoutModel",
          "model_module_version": "1.2.0",
          "state": {
            "_model_module": "@jupyter-widgets/base",
            "_model_module_version": "1.2.0",
            "_model_name": "LayoutModel",
            "_view_count": null,
            "_view_module": "@jupyter-widgets/base",
            "_view_module_version": "1.2.0",
            "_view_name": "LayoutView",
            "align_content": null,
            "align_items": null,
            "align_self": null,
            "border": null,
            "bottom": null,
            "display": null,
            "flex": null,
            "flex_flow": null,
            "grid_area": null,
            "grid_auto_columns": null,
            "grid_auto_flow": null,
            "grid_auto_rows": null,
            "grid_column": null,
            "grid_gap": null,
            "grid_row": null,
            "grid_template_areas": null,
            "grid_template_columns": null,
            "grid_template_rows": null,
            "height": null,
            "justify_content": null,
            "justify_items": null,
            "left": null,
            "margin": null,
            "max_height": null,
            "max_width": null,
            "min_height": null,
            "min_width": null,
            "object_fit": null,
            "object_position": null,
            "order": null,
            "overflow": null,
            "overflow_x": null,
            "overflow_y": null,
            "padding": null,
            "right": null,
            "top": null,
            "visibility": null,
            "width": null
          }
        },
        "aa3010d62f634c8197468febe1791365": {
          "model_module": "@jupyter-widgets/controls",
          "model_name": "DescriptionStyleModel",
          "model_module_version": "1.5.0",
          "state": {
            "_model_module": "@jupyter-widgets/controls",
            "_model_module_version": "1.5.0",
            "_model_name": "DescriptionStyleModel",
            "_view_count": null,
            "_view_module": "@jupyter-widgets/base",
            "_view_module_version": "1.2.0",
            "_view_name": "StyleView",
            "description_width": ""
          }
        },
        "aa1bce41639b4bdbaa61ad9cdb3d1c4e": {
          "model_module": "@jupyter-widgets/controls",
          "model_name": "HBoxModel",
          "model_module_version": "1.5.0",
          "state": {
            "_dom_classes": [],
            "_model_module": "@jupyter-widgets/controls",
            "_model_module_version": "1.5.0",
            "_model_name": "HBoxModel",
            "_view_count": null,
            "_view_module": "@jupyter-widgets/controls",
            "_view_module_version": "1.5.0",
            "_view_name": "HBoxView",
            "box_style": "",
            "children": [
              "IPY_MODEL_4b6c0188e07a412fb7022947c13e94ae",
              "IPY_MODEL_d6e606d6ce40485ba9180818d7424f8e",
              "IPY_MODEL_98a20135ba97447ab0bf15b125915d38"
            ],
            "layout": "IPY_MODEL_e687118c069444c6bfb78e46d7caa143"
          }
        },
        "4b6c0188e07a412fb7022947c13e94ae": {
          "model_module": "@jupyter-widgets/controls",
          "model_name": "HTMLModel",
          "model_module_version": "1.5.0",
          "state": {
            "_dom_classes": [],
            "_model_module": "@jupyter-widgets/controls",
            "_model_module_version": "1.5.0",
            "_model_name": "HTMLModel",
            "_view_count": null,
            "_view_module": "@jupyter-widgets/controls",
            "_view_module_version": "1.5.0",
            "_view_name": "HTMLView",
            "description": "",
            "description_tooltip": null,
            "layout": "IPY_MODEL_8c2c542e24584f9a9b34011e66864998",
            "placeholder": "​",
            "style": "IPY_MODEL_a0a42b8b78834fb3b079337a455c64bf",
            "value": "generation_config.json: 100%"
          }
        },
        "d6e606d6ce40485ba9180818d7424f8e": {
          "model_module": "@jupyter-widgets/controls",
          "model_name": "FloatProgressModel",
          "model_module_version": "1.5.0",
          "state": {
            "_dom_classes": [],
            "_model_module": "@jupyter-widgets/controls",
            "_model_module_version": "1.5.0",
            "_model_name": "FloatProgressModel",
            "_view_count": null,
            "_view_module": "@jupyter-widgets/controls",
            "_view_module_version": "1.5.0",
            "_view_name": "ProgressView",
            "bar_style": "success",
            "description": "",
            "description_tooltip": null,
            "layout": "IPY_MODEL_229a0bd7dfb2448a9ce96e7a4b4bea6a",
            "max": 147,
            "min": 0,
            "orientation": "horizontal",
            "style": "IPY_MODEL_ee7674c01c0b4d25ada787ca50e2f145",
            "value": 147
          }
        },
        "98a20135ba97447ab0bf15b125915d38": {
          "model_module": "@jupyter-widgets/controls",
          "model_name": "HTMLModel",
          "model_module_version": "1.5.0",
          "state": {
            "_dom_classes": [],
            "_model_module": "@jupyter-widgets/controls",
            "_model_module_version": "1.5.0",
            "_model_name": "HTMLModel",
            "_view_count": null,
            "_view_module": "@jupyter-widgets/controls",
            "_view_module_version": "1.5.0",
            "_view_name": "HTMLView",
            "description": "",
            "description_tooltip": null,
            "layout": "IPY_MODEL_1c03fb3362b348819403e43e33cd1ceb",
            "placeholder": "​",
            "style": "IPY_MODEL_ac51fe3938ed4d6aac2775f2cc287cfd",
            "value": " 147/147 [00:00&lt;00:00, 8.54kB/s]"
          }
        },
        "e687118c069444c6bfb78e46d7caa143": {
          "model_module": "@jupyter-widgets/base",
          "model_name": "LayoutModel",
          "model_module_version": "1.2.0",
          "state": {
            "_model_module": "@jupyter-widgets/base",
            "_model_module_version": "1.2.0",
            "_model_name": "LayoutModel",
            "_view_count": null,
            "_view_module": "@jupyter-widgets/base",
            "_view_module_version": "1.2.0",
            "_view_name": "LayoutView",
            "align_content": null,
            "align_items": null,
            "align_self": null,
            "border": null,
            "bottom": null,
            "display": null,
            "flex": null,
            "flex_flow": null,
            "grid_area": null,
            "grid_auto_columns": null,
            "grid_auto_flow": null,
            "grid_auto_rows": null,
            "grid_column": null,
            "grid_gap": null,
            "grid_row": null,
            "grid_template_areas": null,
            "grid_template_columns": null,
            "grid_template_rows": null,
            "height": null,
            "justify_content": null,
            "justify_items": null,
            "left": null,
            "margin": null,
            "max_height": null,
            "max_width": null,
            "min_height": null,
            "min_width": null,
            "object_fit": null,
            "object_position": null,
            "order": null,
            "overflow": null,
            "overflow_x": null,
            "overflow_y": null,
            "padding": null,
            "right": null,
            "top": null,
            "visibility": null,
            "width": null
          }
        },
        "8c2c542e24584f9a9b34011e66864998": {
          "model_module": "@jupyter-widgets/base",
          "model_name": "LayoutModel",
          "model_module_version": "1.2.0",
          "state": {
            "_model_module": "@jupyter-widgets/base",
            "_model_module_version": "1.2.0",
            "_model_name": "LayoutModel",
            "_view_count": null,
            "_view_module": "@jupyter-widgets/base",
            "_view_module_version": "1.2.0",
            "_view_name": "LayoutView",
            "align_content": null,
            "align_items": null,
            "align_self": null,
            "border": null,
            "bottom": null,
            "display": null,
            "flex": null,
            "flex_flow": null,
            "grid_area": null,
            "grid_auto_columns": null,
            "grid_auto_flow": null,
            "grid_auto_rows": null,
            "grid_column": null,
            "grid_gap": null,
            "grid_row": null,
            "grid_template_areas": null,
            "grid_template_columns": null,
            "grid_template_rows": null,
            "height": null,
            "justify_content": null,
            "justify_items": null,
            "left": null,
            "margin": null,
            "max_height": null,
            "max_width": null,
            "min_height": null,
            "min_width": null,
            "object_fit": null,
            "object_position": null,
            "order": null,
            "overflow": null,
            "overflow_x": null,
            "overflow_y": null,
            "padding": null,
            "right": null,
            "top": null,
            "visibility": null,
            "width": null
          }
        },
        "a0a42b8b78834fb3b079337a455c64bf": {
          "model_module": "@jupyter-widgets/controls",
          "model_name": "DescriptionStyleModel",
          "model_module_version": "1.5.0",
          "state": {
            "_model_module": "@jupyter-widgets/controls",
            "_model_module_version": "1.5.0",
            "_model_name": "DescriptionStyleModel",
            "_view_count": null,
            "_view_module": "@jupyter-widgets/base",
            "_view_module_version": "1.2.0",
            "_view_name": "StyleView",
            "description_width": ""
          }
        },
        "229a0bd7dfb2448a9ce96e7a4b4bea6a": {
          "model_module": "@jupyter-widgets/base",
          "model_name": "LayoutModel",
          "model_module_version": "1.2.0",
          "state": {
            "_model_module": "@jupyter-widgets/base",
            "_model_module_version": "1.2.0",
            "_model_name": "LayoutModel",
            "_view_count": null,
            "_view_module": "@jupyter-widgets/base",
            "_view_module_version": "1.2.0",
            "_view_name": "LayoutView",
            "align_content": null,
            "align_items": null,
            "align_self": null,
            "border": null,
            "bottom": null,
            "display": null,
            "flex": null,
            "flex_flow": null,
            "grid_area": null,
            "grid_auto_columns": null,
            "grid_auto_flow": null,
            "grid_auto_rows": null,
            "grid_column": null,
            "grid_gap": null,
            "grid_row": null,
            "grid_template_areas": null,
            "grid_template_columns": null,
            "grid_template_rows": null,
            "height": null,
            "justify_content": null,
            "justify_items": null,
            "left": null,
            "margin": null,
            "max_height": null,
            "max_width": null,
            "min_height": null,
            "min_width": null,
            "object_fit": null,
            "object_position": null,
            "order": null,
            "overflow": null,
            "overflow_x": null,
            "overflow_y": null,
            "padding": null,
            "right": null,
            "top": null,
            "visibility": null,
            "width": null
          }
        },
        "ee7674c01c0b4d25ada787ca50e2f145": {
          "model_module": "@jupyter-widgets/controls",
          "model_name": "ProgressStyleModel",
          "model_module_version": "1.5.0",
          "state": {
            "_model_module": "@jupyter-widgets/controls",
            "_model_module_version": "1.5.0",
            "_model_name": "ProgressStyleModel",
            "_view_count": null,
            "_view_module": "@jupyter-widgets/base",
            "_view_module_version": "1.2.0",
            "_view_name": "StyleView",
            "bar_color": null,
            "description_width": ""
          }
        },
        "1c03fb3362b348819403e43e33cd1ceb": {
          "model_module": "@jupyter-widgets/base",
          "model_name": "LayoutModel",
          "model_module_version": "1.2.0",
          "state": {
            "_model_module": "@jupyter-widgets/base",
            "_model_module_version": "1.2.0",
            "_model_name": "LayoutModel",
            "_view_count": null,
            "_view_module": "@jupyter-widgets/base",
            "_view_module_version": "1.2.0",
            "_view_name": "LayoutView",
            "align_content": null,
            "align_items": null,
            "align_self": null,
            "border": null,
            "bottom": null,
            "display": null,
            "flex": null,
            "flex_flow": null,
            "grid_area": null,
            "grid_auto_columns": null,
            "grid_auto_flow": null,
            "grid_auto_rows": null,
            "grid_column": null,
            "grid_gap": null,
            "grid_row": null,
            "grid_template_areas": null,
            "grid_template_columns": null,
            "grid_template_rows": null,
            "height": null,
            "justify_content": null,
            "justify_items": null,
            "left": null,
            "margin": null,
            "max_height": null,
            "max_width": null,
            "min_height": null,
            "min_width": null,
            "object_fit": null,
            "object_position": null,
            "order": null,
            "overflow": null,
            "overflow_x": null,
            "overflow_y": null,
            "padding": null,
            "right": null,
            "top": null,
            "visibility": null,
            "width": null
          }
        },
        "ac51fe3938ed4d6aac2775f2cc287cfd": {
          "model_module": "@jupyter-widgets/controls",
          "model_name": "DescriptionStyleModel",
          "model_module_version": "1.5.0",
          "state": {
            "_model_module": "@jupyter-widgets/controls",
            "_model_module_version": "1.5.0",
            "_model_name": "DescriptionStyleModel",
            "_view_count": null,
            "_view_module": "@jupyter-widgets/base",
            "_view_module_version": "1.2.0",
            "_view_name": "StyleView",
            "description_width": ""
          }
        }
      }
    }
  },
  "cells": [
    {
      "cell_type": "markdown",
      "source": [
        "## **T5-base Fine-tuning on ToTTo**\n",
        "\n",
        "From : [JooYoung Song](https://github.com/Song-Joo-Young/ToTTo-Fine-tuning-in-colab/tree/main)\n",
        "\n",
        "Code Reference :\n",
        "* ToTTo : https://github.com/google-research-datasets/ToTTo\n",
        "* Prompt-Tuning-on-ToTTo : https://github.com/ChainsmokersAI/Prompt-Tuning-on-ToTTo"
      ],
      "metadata": {
        "id": "tRiIL3GkTTA0"
      }
    },
    {
      "cell_type": "code",
      "source": [
        "# Google Drive Mount\n",
        "\n",
        "from google.colab import drive\n",
        "drive.mount('/content/drive')"
      ],
      "metadata": {
        "colab": {
          "base_uri": "https://localhost:8080/"
        },
        "id": "hgHe6df5gl9I",
        "outputId": "d1421aa4-2da3-45b2-9239-eec947117c6f"
      },
      "execution_count": 1,
      "outputs": [
        {
          "output_type": "stream",
          "name": "stdout",
          "text": [
            "Mounted at /content/drive\n"
          ]
        }
      ]
    },
    {
      "cell_type": "code",
      "source": [
        "# Get Dataset\n",
        "\n",
        "!wget https://storage.googleapis.com/totto-public/totto_data.zip\n",
        "!unzip totto_data.zip"
      ],
      "metadata": {
        "colab": {
          "base_uri": "https://localhost:8080/"
        },
        "id": "CsYkg24SX36S",
        "outputId": "b1548c7e-8329-451d-d987-bb11397a1d2b"
      },
      "execution_count": 5,
      "outputs": [
        {
          "output_type": "stream",
          "name": "stdout",
          "text": [
            "--2024-02-01 01:51:35--  https://storage.googleapis.com/totto-public/totto_data.zip\n",
            "Resolving storage.googleapis.com (storage.googleapis.com)... 142.251.2.207, 2607:f8b0:4023:c0d::cf, 2607:f8b0:4023:c06::cf\n",
            "Connecting to storage.googleapis.com (storage.googleapis.com)|142.251.2.207|:443... connected.\n",
            "HTTP request sent, awaiting response... 200 OK\n",
            "Length: 187724372 (179M) [application/zip]\n",
            "Saving to: ‘totto_data.zip’\n",
            "\n",
            "totto_data.zip      100%[===================>] 179.03M  73.9MB/s    in 2.4s    \n",
            "\n",
            "2024-02-01 01:51:38 (73.9 MB/s) - ‘totto_data.zip’ saved [187724372/187724372]\n",
            "\n",
            "Archive:  totto_data.zip\n",
            "  inflating: totto_data/totto_dev_data.jsonl  \n",
            "  inflating: totto_data/totto_train_data.jsonl  \n",
            "  inflating: totto_data/unlabeled_totto_test_data.jsonl  \n"
          ]
        }
      ]
    },
    {
      "cell_type": "code",
      "source": [
        "# 드라이브에 데이터셋 저장 추후 가중치도 저장할 폴더\n",
        "# Copy Dataset to your Google Drive\n",
        "import shutil\n",
        "import os\n",
        "\n",
        "source_folder = '/content/totto_data'\n",
        "destination_folder = '/content/drive/MyDrive/ToTTo_T5-base'\n",
        "\n",
        "if os.path.exists(destination_folder):\n",
        "    shutil.rmtree(destination_folder)\n",
        "\n",
        "shutil.copytree(source_folder, destination_folder)"
      ],
      "metadata": {
        "id": "HSDPyw28Xclb"
      },
      "execution_count": null,
      "outputs": []
    },
    {
      "cell_type": "markdown",
      "source": [
        "### **1. Preprocessing**"
      ],
      "metadata": {
        "id": "SifiwLhvTfAL"
      }
    },
    {
      "cell_type": "code",
      "execution_count": 2,
      "metadata": {
        "colab": {
          "base_uri": "https://localhost:8080/"
        },
        "id": "sJOHz_ZYCiOV",
        "outputId": "6a63bbc5-f1c9-4e86-cb39-5c3dec05f3d0"
      },
      "outputs": [
        {
          "output_type": "stream",
          "name": "stdout",
          "text": [
            "Requirement already satisfied: transformers in /usr/local/lib/python3.10/dist-packages (4.35.2)\n",
            "Collecting datasets\n",
            "  Downloading datasets-2.16.1-py3-none-any.whl (507 kB)\n",
            "\u001b[2K     \u001b[90m━━━━━━━━━━━━━━━━━━━━━━━━━━━━━━━━━━━━━━━━\u001b[0m \u001b[32m507.1/507.1 kB\u001b[0m \u001b[31m3.6 MB/s\u001b[0m eta \u001b[36m0:00:00\u001b[0m\n",
            "\u001b[?25hRequirement already satisfied: sentencepiece in /usr/local/lib/python3.10/dist-packages (0.1.99)\n",
            "Requirement already satisfied: filelock in /usr/local/lib/python3.10/dist-packages (from transformers) (3.13.1)\n",
            "Requirement already satisfied: huggingface-hub<1.0,>=0.16.4 in /usr/local/lib/python3.10/dist-packages (from transformers) (0.20.3)\n",
            "Requirement already satisfied: numpy>=1.17 in /usr/local/lib/python3.10/dist-packages (from transformers) (1.23.5)\n",
            "Requirement already satisfied: packaging>=20.0 in /usr/local/lib/python3.10/dist-packages (from transformers) (23.2)\n",
            "Requirement already satisfied: pyyaml>=5.1 in /usr/local/lib/python3.10/dist-packages (from transformers) (6.0.1)\n",
            "Requirement already satisfied: regex!=2019.12.17 in /usr/local/lib/python3.10/dist-packages (from transformers) (2023.6.3)\n",
            "Requirement already satisfied: requests in /usr/local/lib/python3.10/dist-packages (from transformers) (2.31.0)\n",
            "Requirement already satisfied: tokenizers<0.19,>=0.14 in /usr/local/lib/python3.10/dist-packages (from transformers) (0.15.1)\n",
            "Requirement already satisfied: safetensors>=0.3.1 in /usr/local/lib/python3.10/dist-packages (from transformers) (0.4.2)\n",
            "Requirement already satisfied: tqdm>=4.27 in /usr/local/lib/python3.10/dist-packages (from transformers) (4.66.1)\n",
            "Requirement already satisfied: pyarrow>=8.0.0 in /usr/local/lib/python3.10/dist-packages (from datasets) (10.0.1)\n",
            "Requirement already satisfied: pyarrow-hotfix in /usr/local/lib/python3.10/dist-packages (from datasets) (0.6)\n",
            "Collecting dill<0.3.8,>=0.3.0 (from datasets)\n",
            "  Downloading dill-0.3.7-py3-none-any.whl (115 kB)\n",
            "\u001b[2K     \u001b[90m━━━━━━━━━━━━━━━━━━━━━━━━━━━━━━━━━━━━━━━━\u001b[0m \u001b[32m115.3/115.3 kB\u001b[0m \u001b[31m16.7 MB/s\u001b[0m eta \u001b[36m0:00:00\u001b[0m\n",
            "\u001b[?25hRequirement already satisfied: pandas in /usr/local/lib/python3.10/dist-packages (from datasets) (1.5.3)\n",
            "Requirement already satisfied: xxhash in /usr/local/lib/python3.10/dist-packages (from datasets) (3.4.1)\n",
            "Collecting multiprocess (from datasets)\n",
            "  Downloading multiprocess-0.70.16-py310-none-any.whl (134 kB)\n",
            "\u001b[2K     \u001b[90m━━━━━━━━━━━━━━━━━━━━━━━━━━━━━━━━━━━━━━━━\u001b[0m \u001b[32m134.8/134.8 kB\u001b[0m \u001b[31m19.3 MB/s\u001b[0m eta \u001b[36m0:00:00\u001b[0m\n",
            "\u001b[?25hRequirement already satisfied: fsspec[http]<=2023.10.0,>=2023.1.0 in /usr/local/lib/python3.10/dist-packages (from datasets) (2023.6.0)\n",
            "Requirement already satisfied: aiohttp in /usr/local/lib/python3.10/dist-packages (from datasets) (3.9.1)\n",
            "Requirement already satisfied: attrs>=17.3.0 in /usr/local/lib/python3.10/dist-packages (from aiohttp->datasets) (23.2.0)\n",
            "Requirement already satisfied: multidict<7.0,>=4.5 in /usr/local/lib/python3.10/dist-packages (from aiohttp->datasets) (6.0.4)\n",
            "Requirement already satisfied: yarl<2.0,>=1.0 in /usr/local/lib/python3.10/dist-packages (from aiohttp->datasets) (1.9.4)\n",
            "Requirement already satisfied: frozenlist>=1.1.1 in /usr/local/lib/python3.10/dist-packages (from aiohttp->datasets) (1.4.1)\n",
            "Requirement already satisfied: aiosignal>=1.1.2 in /usr/local/lib/python3.10/dist-packages (from aiohttp->datasets) (1.3.1)\n",
            "Requirement already satisfied: async-timeout<5.0,>=4.0 in /usr/local/lib/python3.10/dist-packages (from aiohttp->datasets) (4.0.3)\n",
            "Requirement already satisfied: typing-extensions>=3.7.4.3 in /usr/local/lib/python3.10/dist-packages (from huggingface-hub<1.0,>=0.16.4->transformers) (4.5.0)\n",
            "Requirement already satisfied: charset-normalizer<4,>=2 in /usr/local/lib/python3.10/dist-packages (from requests->transformers) (3.3.2)\n",
            "Requirement already satisfied: idna<4,>=2.5 in /usr/local/lib/python3.10/dist-packages (from requests->transformers) (3.6)\n",
            "Requirement already satisfied: urllib3<3,>=1.21.1 in /usr/local/lib/python3.10/dist-packages (from requests->transformers) (2.0.7)\n",
            "Requirement already satisfied: certifi>=2017.4.17 in /usr/local/lib/python3.10/dist-packages (from requests->transformers) (2023.11.17)\n",
            "INFO: pip is looking at multiple versions of multiprocess to determine which version is compatible with other requirements. This could take a while.\n",
            "  Downloading multiprocess-0.70.15-py310-none-any.whl (134 kB)\n",
            "\u001b[2K     \u001b[90m━━━━━━━━━━━━━━━━━━━━━━━━━━━━━━━━━━━━━━━━\u001b[0m \u001b[32m134.8/134.8 kB\u001b[0m \u001b[31m22.4 MB/s\u001b[0m eta \u001b[36m0:00:00\u001b[0m\n",
            "\u001b[?25hRequirement already satisfied: python-dateutil>=2.8.1 in /usr/local/lib/python3.10/dist-packages (from pandas->datasets) (2.8.2)\n",
            "Requirement already satisfied: pytz>=2020.1 in /usr/local/lib/python3.10/dist-packages (from pandas->datasets) (2023.3.post1)\n",
            "Requirement already satisfied: six>=1.5 in /usr/local/lib/python3.10/dist-packages (from python-dateutil>=2.8.1->pandas->datasets) (1.16.0)\n",
            "Installing collected packages: dill, multiprocess, datasets\n",
            "Successfully installed datasets-2.16.1 dill-0.3.7 multiprocess-0.70.15\n"
          ]
        }
      ],
      "source": [
        "!pip install transformers datasets sentencepiece"
      ]
    },
    {
      "cell_type": "code",
      "source": [
        "# Load Train Set\n",
        "# with open('/content/totto_data/totto_train_data.jsonl', 'r') as f:\n",
        "with open('/content/drive/MyDrive/ToTTo_T5-base/totto_train_data.jsonl', 'r') as f:\n",
        "    data_train=f.read().splitlines()\n",
        "    f.close()\n",
        "\n",
        "# Number of Train Data\n",
        "len(data_train)"
      ],
      "metadata": {
        "colab": {
          "base_uri": "https://localhost:8080/"
        },
        "id": "73SN1-ioXipz",
        "outputId": "de9d789f-562c-4bef-ba99-bbe34504bb80"
      },
      "execution_count": 3,
      "outputs": [
        {
          "output_type": "execute_result",
          "data": {
            "text/plain": [
              "120761"
            ]
          },
          "metadata": {},
          "execution_count": 3
        }
      ]
    },
    {
      "cell_type": "code",
      "source": [
        "import json\n",
        "\n",
        "# Sample Data\n",
        "data_sample=json.loads(data_train[-1])\n",
        "\n",
        "# Key-Value Set\n",
        "for key, value in data_sample.items():\n",
        "    # if key=='table': continue\n",
        "\n",
        "    print('→', key, '\\n \\t ', value)"
      ],
      "metadata": {
        "colab": {
          "base_uri": "https://localhost:8080/"
        },
        "id": "I3iIU_s2CliG",
        "outputId": "938ece56-fb28-4438-deac-b0dba2f5ff55"
      },
      "execution_count": 4,
      "outputs": [
        {
          "output_type": "stream",
          "name": "stdout",
          "text": [
            "→ table \n",
            " \t  [[{'value': 'Rank', 'is_header': True, 'column_span': 1, 'row_span': 1}, {'value': 'Lane', 'is_header': True, 'column_span': 1, 'row_span': 1}, {'value': 'Name', 'is_header': True, 'column_span': 1, 'row_span': 1}, {'value': 'Nationality', 'is_header': True, 'column_span': 1, 'row_span': 1}, {'value': 'Time', 'is_header': True, 'column_span': 1, 'row_span': 1}, {'value': 'Notes', 'is_header': True, 'column_span': 1, 'row_span': 1}], [{'value': '', 'is_header': False, 'column_span': 1, 'row_span': 1}, {'value': '4', 'is_header': False, 'column_span': 1, 'row_span': 1}, {'value': 'Matt Grevers', 'is_header': False, 'column_span': 1, 'row_span': 1}, {'value': 'United States', 'is_header': False, 'column_span': 1, 'row_span': 1}, {'value': '52.16', 'is_header': False, 'column_span': 1, 'row_span': 1}, {'value': 'OR', 'is_header': False, 'column_span': 1, 'row_span': 1}], [{'value': '', 'is_header': False, 'column_span': 1, 'row_span': 1}, {'value': '2', 'is_header': False, 'column_span': 1, 'row_span': 1}, {'value': 'Nick Thoman', 'is_header': False, 'column_span': 1, 'row_span': 1}, {'value': 'United States', 'is_header': False, 'column_span': 1, 'row_span': 1}, {'value': '52.92', 'is_header': False, 'column_span': 1, 'row_span': 1}, {'value': '', 'is_header': False, 'column_span': 1, 'row_span': 1}], [{'value': '', 'is_header': False, 'column_span': 1, 'row_span': 1}, {'value': '6', 'is_header': False, 'column_span': 1, 'row_span': 1}, {'value': 'Ryosuke Irie', 'is_header': False, 'column_span': 1, 'row_span': 1}, {'value': 'Japan', 'is_header': False, 'column_span': 1, 'row_span': 1}, {'value': '52.97', 'is_header': False, 'column_span': 1, 'row_span': 1}, {'value': '', 'is_header': False, 'column_span': 1, 'row_span': 1}], [{'value': '4', 'is_header': False, 'column_span': 1, 'row_span': 1}, {'value': '5', 'is_header': False, 'column_span': 1, 'row_span': 1}, {'value': 'Camille Lacourt', 'is_header': False, 'column_span': 1, 'row_span': 1}, {'value': 'France', 'is_header': False, 'column_span': 1, 'row_span': 1}, {'value': '53.08', 'is_header': False, 'column_span': 1, 'row_span': 1}, {'value': '', 'is_header': False, 'column_span': 1, 'row_span': 1}], [{'value': '5', 'is_header': False, 'column_span': 1, 'row_span': 1}, {'value': '3', 'is_header': False, 'column_span': 1, 'row_span': 1}, {'value': 'Liam Tancock', 'is_header': False, 'column_span': 1, 'row_span': 1}, {'value': 'Great Britain', 'is_header': False, 'column_span': 1, 'row_span': 1}, {'value': '53.35', 'is_header': False, 'column_span': 1, 'row_span': 1}, {'value': '', 'is_header': False, 'column_span': 1, 'row_span': 1}], [{'value': '6', 'is_header': False, 'column_span': 1, 'row_span': 1}, {'value': '1', 'is_header': False, 'column_span': 1, 'row_span': 1}, {'value': 'Helge Meeuw', 'is_header': False, 'column_span': 1, 'row_span': 1}, {'value': 'Germany', 'is_header': False, 'column_span': 1, 'row_span': 1}, {'value': '53.48', 'is_header': False, 'column_span': 1, 'row_span': 1}, {'value': '', 'is_header': False, 'column_span': 1, 'row_span': 1}], [{'value': '7', 'is_header': False, 'column_span': 1, 'row_span': 1}, {'value': '8', 'is_header': False, 'column_span': 1, 'row_span': 1}, {'value': 'Hayden Stoeckel', 'is_header': False, 'column_span': 1, 'row_span': 1}, {'value': 'Australia', 'is_header': False, 'column_span': 1, 'row_span': 1}, {'value': '53.55', 'is_header': False, 'column_span': 1, 'row_span': 1}, {'value': '', 'is_header': False, 'column_span': 1, 'row_span': 1}], [{'value': '8', 'is_header': False, 'column_span': 1, 'row_span': 1}, {'value': '7', 'is_header': False, 'column_span': 1, 'row_span': 1}, {'value': 'Cheng Feiyi', 'is_header': False, 'column_span': 1, 'row_span': 1}, {'value': 'China', 'is_header': False, 'column_span': 1, 'row_span': 1}, {'value': '53.77', 'is_header': False, 'column_span': 1, 'row_span': 1}, {'value': '', 'is_header': False, 'column_span': 1, 'row_span': 1}]]\n",
            "→ table_webpage_url \n",
            " \t  http://en.wikipedia.org/wiki/Swimming_at_the_2012_Summer_Olympics_%E2%80%93_Men's_100_metre_backstroke\n",
            "→ table_page_title \n",
            " \t  Swimming at the 2012 Summer Olympics – Men's 100 metre backstroke\n",
            "→ table_section_title \n",
            " \t  Final\n",
            "→ table_section_text \n",
            " \t  \n",
            "→ highlighted_cells \n",
            " \t  [[4, 0], [4, 2], [4, 4]]\n",
            "→ example_id \n",
            " \t  -2235792344822110317\n",
            "→ sentence_annotations \n",
            " \t  [{'original_sentence': 'Leading the race early on the initial length, Lacourt dropped off the podium to a fourth-place time in 53.08.', 'sentence_after_deletion': 'Lacourt dropped to a fourth-place time in 53.08.', 'sentence_after_ambiguity': 'Lacourt was dropped to a fourth-place time in 53.08.', 'final_sentence': 'Lacourt was dropped to a fourth-place time in 53.08.'}]\n"
          ]
        }
      ]
    },
    {
      "cell_type": "code",
      "source": [
        "# Google's Official Preprocess Codes\n",
        "# https://github.com/google-research/language/blob/master/language/totto/baseline_preprocessing/preprocess_utils.py\n",
        "\n",
        "import copy\n",
        "\n",
        "def _add_adjusted_col_offsets(table):\n",
        "  \"\"\"Add adjusted column offsets to take into account multi-column cells.\"\"\"\n",
        "  adjusted_table = []\n",
        "  for row in table:\n",
        "    real_col_index = 0\n",
        "    adjusted_row = []\n",
        "    for cell in row:\n",
        "      adjusted_cell = copy.deepcopy(cell)\n",
        "      adjusted_cell[\"adjusted_col_start\"] = real_col_index\n",
        "      adjusted_cell[\"adjusted_col_end\"] = (\n",
        "          adjusted_cell[\"adjusted_col_start\"] + adjusted_cell[\"column_span\"])\n",
        "      real_col_index += adjusted_cell[\"column_span\"]\n",
        "      adjusted_row.append(adjusted_cell)\n",
        "    adjusted_table.append(adjusted_row)\n",
        "  return adjusted_table\n",
        "\n",
        "\n",
        "def _get_heuristic_row_headers(adjusted_table, row_index, col_index):\n",
        "  \"\"\"Heuristic to find row headers.\"\"\"\n",
        "  row_headers = []\n",
        "  row = adjusted_table[row_index]\n",
        "  for i in range(0, col_index):\n",
        "    if row[i][\"is_header\"]:\n",
        "      row_headers.append(row[i])\n",
        "  return row_headers\n",
        "\n",
        "\n",
        "def _get_heuristic_col_headers(adjusted_table, row_index, col_index):\n",
        "  \"\"\"Heuristic to find column headers.\"\"\"\n",
        "  adjusted_cell = adjusted_table[row_index][col_index]\n",
        "  adjusted_col_start = adjusted_cell[\"adjusted_col_start\"]\n",
        "  adjusted_col_end = adjusted_cell[\"adjusted_col_end\"]\n",
        "  col_headers = []\n",
        "  for r in range(0, row_index):\n",
        "    row = adjusted_table[r]\n",
        "    for cell in row:\n",
        "      if (cell[\"adjusted_col_start\"] < adjusted_col_end and\n",
        "          cell[\"adjusted_col_end\"] > adjusted_col_start):\n",
        "        if cell[\"is_header\"]:\n",
        "          col_headers.append(cell)\n",
        "\n",
        "  return col_headers\n",
        "\n",
        "\n",
        "def get_highlighted_subtable(table, cell_indices, with_heuristic_headers=False):\n",
        "  \"\"\"Extract out the highlighted part of a table.\"\"\"\n",
        "  highlighted_table = []\n",
        "\n",
        "  adjusted_table = _add_adjusted_col_offsets(table)\n",
        "\n",
        "  for (row_index, col_index) in cell_indices:\n",
        "    cell = table[row_index][col_index]\n",
        "    if with_heuristic_headers:\n",
        "      row_headers = _get_heuristic_row_headers(adjusted_table, row_index,\n",
        "                                               col_index)\n",
        "      col_headers = _get_heuristic_col_headers(adjusted_table, row_index,\n",
        "                                               col_index)\n",
        "    else:\n",
        "      row_headers = []\n",
        "      col_headers = []\n",
        "\n",
        "    highlighted_cell = {\n",
        "        \"cell\": cell,\n",
        "        \"row_headers\": row_headers,\n",
        "        \"col_headers\": col_headers\n",
        "    }\n",
        "    highlighted_table.append(highlighted_cell)\n",
        "\n",
        "  return highlighted_table\n",
        "\n",
        "\n",
        "def linearize_full_table(table, cell_indices, table_page_title,\n",
        "                         table_section_title):\n",
        "  \"\"\"Linearize full table with localized headers and return a string.\"\"\"\n",
        "  table_str = \"\"\n",
        "  if table_page_title:\n",
        "    table_str += \"<page_title> \" + table_page_title + \" </page_title> \"\n",
        "  if table_section_title:\n",
        "    table_str += \"<section_title> \" + table_section_title + \" </section_title> \"\n",
        "\n",
        "  table_str += \"<table> \"\n",
        "  adjusted_table = _add_adjusted_col_offsets(table)\n",
        "  for r_index, row in enumerate(table):\n",
        "    row_str = \"<row> \"\n",
        "    for c_index, col in enumerate(row):\n",
        "\n",
        "      row_headers = _get_heuristic_row_headers(adjusted_table, r_index, c_index)\n",
        "      col_headers = _get_heuristic_col_headers(adjusted_table, r_index, c_index)\n",
        "\n",
        "      # Distinguish between highlighted and non-highlighted cells.\n",
        "      if [r_index, c_index] in cell_indices:\n",
        "        start_cell_marker = \"<highlighted_cell> \"\n",
        "        end_cell_marker = \"</highlighted_cell> \"\n",
        "      else:\n",
        "        start_cell_marker = \"<cell> \"\n",
        "        end_cell_marker = \"</cell> \"\n",
        "\n",
        "      # The value of the cell.\n",
        "      item_str = start_cell_marker + col[\"value\"] + \" \"\n",
        "\n",
        "      # All the column headers associated with this cell.\n",
        "      for col_header in col_headers:\n",
        "        item_str += \"<col_header> \" + col_header[\"value\"] + \" </col_header> \"\n",
        "\n",
        "      # All the row headers associated with this cell.\n",
        "      for row_header in row_headers:\n",
        "        item_str += \"<row_header> \" + row_header[\"value\"] + \" </row_header> \"\n",
        "\n",
        "      item_str += end_cell_marker\n",
        "      row_str += item_str\n",
        "\n",
        "    row_str += \"</row> \"\n",
        "    table_str += row_str\n",
        "\n",
        "  table_str += \"</table>\"\n",
        "  if cell_indices:\n",
        "    assert \"<highlighted_cell>\" in table_str\n",
        "  return table_str\n",
        "\n",
        "\n",
        "def linearize_subtable(subtable, table_page_title, table_section_title):\n",
        "  \"\"\"Linearize the highlighted subtable and return a string of its contents.\"\"\"\n",
        "  table_str = \"\"\n",
        "  if table_page_title:\n",
        "    table_str += \"<page_title> \" + table_page_title + \" </page_title> \"\n",
        "  if table_section_title:\n",
        "    table_str += \"<section_title> \" + table_section_title + \" </section_title> \"\n",
        "  table_str += \"<table> \"\n",
        "\n",
        "  for item in subtable:\n",
        "    cell = item[\"cell\"]\n",
        "    row_headers = item[\"row_headers\"]\n",
        "    col_headers = item[\"col_headers\"]\n",
        "\n",
        "    # The value of the cell.\n",
        "    item_str = \"<cell> \" + cell[\"value\"] + \" \"\n",
        "\n",
        "    # All the column headers associated with this cell.\n",
        "    for col_header in col_headers:\n",
        "      item_str += \"<col_header> \" + col_header[\"value\"] + \" </col_header> \"\n",
        "\n",
        "    # All the row headers associated with this cell.\n",
        "    for row_header in row_headers:\n",
        "      item_str += \"<row_header> \" + row_header[\"value\"] + \" </row_header> \"\n",
        "\n",
        "    item_str += \"</cell> \"\n",
        "    table_str += item_str\n",
        "\n",
        "  table_str += \"</table>\"\n",
        "  return table_str"
      ],
      "metadata": {
        "id": "tHA8DvraYjJs"
      },
      "execution_count": 5,
      "outputs": []
    },
    {
      "cell_type": "code",
      "source": [
        "# from preprocess_utils import get_highlighted_subtable, linearize_subtable\n",
        "\n",
        "print('→', 'Highlighted Cells')\n",
        "for (index_row, index_col) in data_sample['highlighted_cells']:\n",
        "    print(data_sample['table'][index_row][index_col])\n",
        "\n",
        "print('\\n→', 'Linearized (Preprocessed) Cells')\n",
        "subtable=get_highlighted_subtable(table=data_sample['table'], cell_indices=data_sample['highlighted_cells'], with_heuristic_headers=True)\n",
        "cells_linearized=linearize_subtable(\n",
        "    subtable=subtable,\n",
        "    table_page_title=data_sample['table_page_title'],\n",
        "    table_section_title=data_sample['table_section_title']\n",
        ")\n",
        "print(cells_linearized)\n",
        "\n",
        "print('\\n→', 'Final (Label) Sentence')\n",
        "for sentence in data_sample['sentence_annotations']:\n",
        "    print(sentence['final_sentence'])"
      ],
      "metadata": {
        "colab": {
          "base_uri": "https://localhost:8080/"
        },
        "id": "nkf__eetM00D",
        "outputId": "3809550b-7e5b-497d-d517-7756bd96b993"
      },
      "execution_count": 6,
      "outputs": [
        {
          "output_type": "stream",
          "name": "stdout",
          "text": [
            "→ Highlighted Cells\n",
            "{'value': '4', 'is_header': False, 'column_span': 1, 'row_span': 1}\n",
            "{'value': 'Camille Lacourt', 'is_header': False, 'column_span': 1, 'row_span': 1}\n",
            "{'value': '53.08', 'is_header': False, 'column_span': 1, 'row_span': 1}\n",
            "\n",
            "→ Linearized (Preprocessed) Cells\n",
            "<page_title> Swimming at the 2012 Summer Olympics – Men's 100 metre backstroke </page_title> <section_title> Final </section_title> <table> <cell> 4 <col_header> Rank </col_header> </cell> <cell> Camille Lacourt <col_header> Name </col_header> </cell> <cell> 53.08 <col_header> Time </col_header> </cell> </table>\n",
            "\n",
            "→ Final (Label) Sentence\n",
            "Lacourt was dropped to a fourth-place time in 53.08.\n"
          ]
        }
      ]
    },
    {
      "cell_type": "code",
      "source": [
        "# Prepare for Training\n",
        "from transformers import T5Tokenizer\n",
        "\n",
        "# T5 Tokenizer\n",
        "tokenizer=T5Tokenizer.from_pretrained('t5-base')\n",
        "\n",
        "# Vocab Size\n",
        "len(tokenizer)"
      ],
      "metadata": {
        "colab": {
          "base_uri": "https://localhost:8080/",
          "height": 409,
          "referenced_widgets": [
            "24e090a6647a40b287b5eb5959c40556",
            "d8ee32f816a841cf86ac7ca571ed00ac",
            "8ab1a4226c484048a3f5f9d217df4dd9",
            "592d3d9600ee4ea3b5e6bafbd98cc3ff",
            "14e9cb2adb254a7aa2d8b08644cd674c",
            "94f7808380b14483872be8cdfa8c3520",
            "3783080b60a74cbf8716a1d9f0a98e1a",
            "051870f3036749d79d84fcae9b4a819c",
            "a82d1a0012af4173a5419295ebf4ee42",
            "751110778fb4487f80e92ab0242cef11",
            "8bec27176e094823b1ef31ceee3fb267",
            "7929760073aa4e54b1e0fdacfdf1c716",
            "c52ffba861934412be1fd92a02d11ada",
            "070bbd523c39444ba951e809ff1b4f2f",
            "80ba997e3d2b4382a3abc072cc3f64ce",
            "f8ae13f1a1e0417c862180508a9b9e29",
            "8d17d430e5aa40d4af95d8223103fdc0",
            "40718d0591cd41b6b34a6e69ceb9ddb5",
            "675ccc0ba1df47428f5515795426be50",
            "8548abab8d2743659b913846c29d32df",
            "1b845c78c8ce422985c7eb4e46dbf3e9",
            "6e8b08a3cd214bc695dc9a62a9aeb2c2",
            "b00417eef367435b82cbae12f672f6b8",
            "4e0e364de15f43c594193e384bd40929",
            "a68705466a54464286544270dde7d191",
            "b62bdab76fec4353a19dc5bdd3026d24",
            "c932997baccf4c269b9770cac98499c0",
            "f9db1d57e77a4449b21edd47dbcd6ff8",
            "0b21c75b4b904cc98f1bf191ab5b8339",
            "6f452a4d34a0409f8b3782b83466cf35",
            "fdf9f249315a4033b12be922f79cfec0",
            "0acb5ce498534bfaab574dfe2a51d6d2",
            "7d5130c50c2a4c9f9a17aabf2ffff15a"
          ]
        },
        "id": "I116KPIMOqvU",
        "outputId": "127ec709-bca7-405f-eff0-15b688abcfbe"
      },
      "execution_count": 7,
      "outputs": [
        {
          "output_type": "stream",
          "name": "stderr",
          "text": [
            "/usr/local/lib/python3.10/dist-packages/huggingface_hub/utils/_token.py:88: UserWarning: \n",
            "The secret `HF_TOKEN` does not exist in your Colab secrets.\n",
            "To authenticate with the Hugging Face Hub, create a token in your settings tab (https://huggingface.co/settings/tokens), set it as secret in your Google Colab and restart your session.\n",
            "You will be able to reuse this secret in all of your notebooks.\n",
            "Please note that authentication is recommended but still optional to access public models or datasets.\n",
            "  warnings.warn(\n"
          ]
        },
        {
          "output_type": "display_data",
          "data": {
            "text/plain": [
              "spiece.model:   0%|          | 0.00/792k [00:00<?, ?B/s]"
            ],
            "application/vnd.jupyter.widget-view+json": {
              "version_major": 2,
              "version_minor": 0,
              "model_id": "24e090a6647a40b287b5eb5959c40556"
            }
          },
          "metadata": {}
        },
        {
          "output_type": "display_data",
          "data": {
            "text/plain": [
              "tokenizer.json:   0%|          | 0.00/1.39M [00:00<?, ?B/s]"
            ],
            "application/vnd.jupyter.widget-view+json": {
              "version_major": 2,
              "version_minor": 0,
              "model_id": "7929760073aa4e54b1e0fdacfdf1c716"
            }
          },
          "metadata": {}
        },
        {
          "output_type": "display_data",
          "data": {
            "text/plain": [
              "config.json:   0%|          | 0.00/1.21k [00:00<?, ?B/s]"
            ],
            "application/vnd.jupyter.widget-view+json": {
              "version_major": 2,
              "version_minor": 0,
              "model_id": "b00417eef367435b82cbae12f672f6b8"
            }
          },
          "metadata": {}
        },
        {
          "output_type": "stream",
          "name": "stderr",
          "text": [
            "/usr/local/lib/python3.10/dist-packages/transformers/models/t5/tokenization_t5.py:240: FutureWarning: This tokenizer was incorrectly instantiated with a model max length of 512 which will be corrected in Transformers v5.\n",
            "For now, this behavior is kept to avoid breaking backwards compatibility when padding/encoding with `truncation is True`.\n",
            "- Be aware that you SHOULD NOT rely on t5-base automatically truncating your input to 512 when padding/encoding.\n",
            "- If you want to encode/pad to sequences longer than 512 you can either instantiate this tokenizer with `model_max_length` or pass `max_length` when encoding/padding.\n",
            "- To avoid this warning, please instantiate this tokenizer with `model_max_length` set to your preferred value.\n",
            "  warnings.warn(\n",
            "You are using the default legacy behaviour of the <class 'transformers.models.t5.tokenization_t5.T5Tokenizer'>. This is expected, and simply means that the `legacy` (previous) behavior will be used so nothing changes for you. If you want to use the new behaviour, set `legacy=False`. This should only be set if you understand what it means, and thouroughly read the reason why this was added as explained in https://github.com/huggingface/transformers/pull/24565\n",
            "Special tokens have been added in the vocabulary, make sure the associated word embeddings are fine-tuned or trained.\n"
          ]
        },
        {
          "output_type": "execute_result",
          "data": {
            "text/plain": [
              "32100"
            ]
          },
          "metadata": {},
          "execution_count": 7
        }
      ]
    },
    {
      "cell_type": "code",
      "source": [
        "# Add Special Tokens: Table Tags\n",
        "tokenizer.add_special_tokens({\n",
        "    'additional_special_tokens': [\n",
        "        '<page_title>',\n",
        "        '</page_title>',\n",
        "        '<section_title>',\n",
        "        '</section_title>',\n",
        "        '<table>',\n",
        "        '</table>',\n",
        "        '<cell>',\n",
        "        '</cell>',\n",
        "        '<col_header>',\n",
        "        '</col_header>',\n",
        "        '<row_header>',\n",
        "        '</row_header>'\n",
        "    ]\n",
        "})\n",
        "# When Training, Resize PLM's Embedding Layer\n",
        "# model.resize_token_embeddings(len(tokenizer))\n",
        "\n",
        "# Vocab Size\n",
        "len(tokenizer)"
      ],
      "metadata": {
        "colab": {
          "base_uri": "https://localhost:8080/"
        },
        "id": "mchun5jlP7BW",
        "outputId": "0d3786fb-700c-46a3-cef4-4e84de2159ae"
      },
      "execution_count": 8,
      "outputs": [
        {
          "output_type": "execute_result",
          "data": {
            "text/plain": [
              "32112"
            ]
          },
          "metadata": {},
          "execution_count": 8
        }
      ]
    },
    {
      "cell_type": "code",
      "source": [
        "# Tokenize Linearized Cells\n",
        "print(tokenizer.tokenize(cells_linearized))"
      ],
      "metadata": {
        "colab": {
          "base_uri": "https://localhost:8080/"
        },
        "id": "nf-NoD4eQ3QV",
        "outputId": "d4142a52-cc24-4229-f9cf-b83892e3c679"
      },
      "execution_count": 9,
      "outputs": [
        {
          "output_type": "stream",
          "name": "stdout",
          "text": [
            "['<page_title>', '▁Swimming', '▁at', '▁the', '▁2012', '▁Summer', '▁Olympics', '▁', '–', '▁Men', \"'\", 's', '▁100', '▁', 'metre', '▁back', 'stroke', '</page_title>', '<section_title>', '▁Final', '</section_title>', '<table>', '<cell>', '▁4', '<col_header>', '▁', 'Rank', '</col_header>', '</cell>', '<cell>', '▁Camill', 'e', '▁La', 'court', '<col_header>', '▁Name', '</col_header>', '</cell>', '<cell>', '▁53', '.', '08', '<col_header>', '▁Time', '</col_header>', '</cell>', '</table>']\n"
          ]
        }
      ]
    },
    {
      "cell_type": "markdown",
      "source": [
        "### **2. Finetuning (t5-base)**"
      ],
      "metadata": {
        "id": "UlpUM6frTjeo"
      }
    },
    {
      "cell_type": "code",
      "source": [
        "import json\n",
        "\n",
        "import torch\n",
        "from torch.utils.data import Dataset, DataLoader\n",
        "from torch.utils.tensorboard import SummaryWriter\n",
        "\n",
        "from transformers import T5Tokenizer, T5ForConditionalGeneration, AdamW, get_linear_schedule_with_warmup\n",
        "\n",
        "# Google's Official Preprocess Codes\n",
        "# https://github.com/google-research/language/blob/master/language/totto/baseline_preprocessing/preprocess_utils.py\n",
        "# from preprocess_utils import get_highlighted_subtable, linearize_subtable"
      ],
      "metadata": {
        "id": "Nsu1CqVgTmBy"
      },
      "execution_count": 10,
      "outputs": []
    },
    {
      "cell_type": "code",
      "source": [
        "# Train Config\n",
        "device=torch.device('cuda:0')\n",
        "lr=1e-4\n",
        "batch_size=8 # 3 for 't5-large' and make 'accumulation_steps' larger\n",
        "accumulation_steps=3\n",
        "epochs=5"
      ],
      "metadata": {
        "id": "q3YreboETwT2"
      },
      "execution_count": 11,
      "outputs": []
    },
    {
      "cell_type": "code",
      "source": [
        "# Pre-Trained T5 Tokenizer\n",
        "tokenizer=T5Tokenizer.from_pretrained('t5-base')\n",
        "# Add Special Tokens: Table Tags\n",
        "tokenizer.add_special_tokens({\n",
        "    'additional_special_tokens': [\n",
        "        '<page_title>',\n",
        "        '</page_title>',\n",
        "        '<section_title>',\n",
        "        '</section_title>',\n",
        "        '<table>',\n",
        "        '</table>',\n",
        "        '<cell>',\n",
        "        '</cell>',\n",
        "        '<col_header>',\n",
        "        '</col_header>',\n",
        "        '<row_header>',\n",
        "        '</row_header>'\n",
        "    ]\n",
        "})"
      ],
      "metadata": {
        "colab": {
          "base_uri": "https://localhost:8080/"
        },
        "id": "jhH0WM1nTwWu",
        "outputId": "636ab77e-daae-4104-9975-4bc0518172d0"
      },
      "execution_count": 12,
      "outputs": [
        {
          "output_type": "stream",
          "name": "stderr",
          "text": [
            "/usr/local/lib/python3.10/dist-packages/transformers/models/t5/tokenization_t5.py:240: FutureWarning: This tokenizer was incorrectly instantiated with a model max length of 512 which will be corrected in Transformers v5.\n",
            "For now, this behavior is kept to avoid breaking backwards compatibility when padding/encoding with `truncation is True`.\n",
            "- Be aware that you SHOULD NOT rely on t5-base automatically truncating your input to 512 when padding/encoding.\n",
            "- If you want to encode/pad to sequences longer than 512 you can either instantiate this tokenizer with `model_max_length` or pass `max_length` when encoding/padding.\n",
            "- To avoid this warning, please instantiate this tokenizer with `model_max_length` set to your preferred value.\n",
            "  warnings.warn(\n",
            "Special tokens have been added in the vocabulary, make sure the associated word embeddings are fine-tuned or trained.\n"
          ]
        },
        {
          "output_type": "execute_result",
          "data": {
            "text/plain": [
              "12"
            ]
          },
          "metadata": {},
          "execution_count": 12
        }
      ]
    },
    {
      "cell_type": "code",
      "source": [
        "class ToTToDataset(Dataset):\n",
        "    def __init__(self, path_data, tokenizer):\n",
        "        #\n",
        "        self.data=[]\n",
        "        self.label=[]\n",
        "\n",
        "        # Load Dataset\n",
        "        with open(path_data, 'r') as f:\n",
        "            dataset=f.read().splitlines()\n",
        "            f.close()\n",
        "\n",
        "        for _data in dataset:\n",
        "            data=json.loads(_data)\n",
        "\n",
        "            # Preprocess\n",
        "            subtable=get_highlighted_subtable(table=data['table'], cell_indices=data['highlighted_cells'], with_heuristic_headers=True)\n",
        "            cells_linearized=linearize_subtable(\n",
        "                subtable=subtable,\n",
        "                table_page_title=data['table_page_title'],\n",
        "                table_section_title=data['table_section_title']\n",
        "            )\n",
        "\n",
        "            # Encode\n",
        "            encoded=tokenizer.encode(cells_linearized)\n",
        "            if len(encoded)>512:\n",
        "                # Truncate\n",
        "                encoded=encoded[:511]+[tokenizer.eos_token_id]\n",
        "            self.data.append(encoded)\n",
        "            self.label.append(tokenizer.encode(data['sentence_annotations'][0]['final_sentence']))\n",
        "\n",
        "        print(len(self.data), 'datas')\n",
        "        print(len(self.label), 'labels')\n",
        "\n",
        "    def __getitem__(self, idx):\n",
        "        return self.data[idx], self.label[idx]\n",
        "\n",
        "    def __len__(self):\n",
        "        return len(self.data)"
      ],
      "metadata": {
        "id": "qP--yu2yWKqe"
      },
      "execution_count": 13,
      "outputs": []
    },
    {
      "cell_type": "code",
      "source": [
        "def collate_fn(batch):\n",
        "    \"\"\"\n",
        "    Same Sequence Length on Same Batch\n",
        "    \"\"\"\n",
        "    max_len_data=0\n",
        "    max_len_label=0\n",
        "    for data, label in batch:\n",
        "        if len(data)>max_len_data: max_len_data=len(data)\n",
        "        if len(label)>max_len_label: max_len_label=len(label)\n",
        "\n",
        "    datas=[]\n",
        "    attn_masks=[]\n",
        "    labels=[]\n",
        "    for data, label in batch:\n",
        "        data.extend([tokenizer.pad_token_id]*(max_len_data-len(data)))\n",
        "        datas.append(data)\n",
        "\n",
        "        attn_mask=[int(e!=tokenizer.pad_token_id) for e in data]\n",
        "        attn_masks.append(attn_mask)\n",
        "\n",
        "        label.extend([-100]*(max_len_label-len(label)))\n",
        "        labels.append(label)\n",
        "\n",
        "    return torch.tensor(datas), torch.tensor(attn_masks), torch.tensor(labels)"
      ],
      "metadata": {
        "id": "de5vg2oaUpGj"
      },
      "execution_count": 14,
      "outputs": []
    },
    {
      "cell_type": "code",
      "source": [
        "# Pre-Trained T5 Model\n",
        "model=T5ForConditionalGeneration.from_pretrained('t5-base')\n",
        "# Resize PLM's Embedding Layer\n",
        "model.resize_token_embeddings(len(tokenizer))"
      ],
      "metadata": {
        "colab": {
          "base_uri": "https://localhost:8080/",
          "height": 99,
          "referenced_widgets": [
            "96f7353f790245ed874e2cc8c6ac705c",
            "0e948b9f190c4a5fa44dec7df1e278ac",
            "34aa2e2628ec4cbb8cde4021fbbc892e",
            "52900608baef401da1da6979316f294e",
            "3bb3c3660a5c4928a19cae14df2faee2",
            "cdc8ee78e85845319714932ecf3d064f",
            "e8d733a09e0d49169b40a68ef76f85c0",
            "f452018c65e44bf589e485e82f9ca9c0",
            "74c64e51600743958ba4c3d53095e244",
            "9a35595e1a7a4baba8203a9e50341cb2",
            "aa3010d62f634c8197468febe1791365",
            "aa1bce41639b4bdbaa61ad9cdb3d1c4e",
            "4b6c0188e07a412fb7022947c13e94ae",
            "d6e606d6ce40485ba9180818d7424f8e",
            "98a20135ba97447ab0bf15b125915d38",
            "e687118c069444c6bfb78e46d7caa143",
            "8c2c542e24584f9a9b34011e66864998",
            "a0a42b8b78834fb3b079337a455c64bf",
            "229a0bd7dfb2448a9ce96e7a4b4bea6a",
            "ee7674c01c0b4d25ada787ca50e2f145",
            "1c03fb3362b348819403e43e33cd1ceb",
            "ac51fe3938ed4d6aac2775f2cc287cfd"
          ]
        },
        "id": "wriQ2rUOqXpI",
        "outputId": "2b00847a-62f0-4076-d6cb-3f06133c57a8"
      },
      "execution_count": 15,
      "outputs": [
        {
          "output_type": "display_data",
          "data": {
            "text/plain": [
              "model.safetensors:   0%|          | 0.00/892M [00:00<?, ?B/s]"
            ],
            "application/vnd.jupyter.widget-view+json": {
              "version_major": 2,
              "version_minor": 0,
              "model_id": "96f7353f790245ed874e2cc8c6ac705c"
            }
          },
          "metadata": {}
        },
        {
          "output_type": "display_data",
          "data": {
            "text/plain": [
              "generation_config.json:   0%|          | 0.00/147 [00:00<?, ?B/s]"
            ],
            "application/vnd.jupyter.widget-view+json": {
              "version_major": 2,
              "version_minor": 0,
              "model_id": "aa1bce41639b4bdbaa61ad9cdb3d1c4e"
            }
          },
          "metadata": {}
        },
        {
          "output_type": "execute_result",
          "data": {
            "text/plain": [
              "Embedding(32112, 768)"
            ]
          },
          "metadata": {},
          "execution_count": 15
        }
      ]
    },
    {
      "cell_type": "code",
      "source": [
        "print(model)"
      ],
      "metadata": {
        "colab": {
          "base_uri": "https://localhost:8080/"
        },
        "id": "T5BfP1eUDSbX",
        "outputId": "e0c76564-9e40-4b71-a63c-7b00a1566ddd"
      },
      "execution_count": 16,
      "outputs": [
        {
          "output_type": "stream",
          "name": "stdout",
          "text": [
            "T5ForConditionalGeneration(\n",
            "  (shared): Embedding(32112, 768)\n",
            "  (encoder): T5Stack(\n",
            "    (embed_tokens): Embedding(32112, 768)\n",
            "    (block): ModuleList(\n",
            "      (0): T5Block(\n",
            "        (layer): ModuleList(\n",
            "          (0): T5LayerSelfAttention(\n",
            "            (SelfAttention): T5Attention(\n",
            "              (q): Linear(in_features=768, out_features=768, bias=False)\n",
            "              (k): Linear(in_features=768, out_features=768, bias=False)\n",
            "              (v): Linear(in_features=768, out_features=768, bias=False)\n",
            "              (o): Linear(in_features=768, out_features=768, bias=False)\n",
            "              (relative_attention_bias): Embedding(32, 12)\n",
            "            )\n",
            "            (layer_norm): T5LayerNorm()\n",
            "            (dropout): Dropout(p=0.1, inplace=False)\n",
            "          )\n",
            "          (1): T5LayerFF(\n",
            "            (DenseReluDense): T5DenseActDense(\n",
            "              (wi): Linear(in_features=768, out_features=3072, bias=False)\n",
            "              (wo): Linear(in_features=3072, out_features=768, bias=False)\n",
            "              (dropout): Dropout(p=0.1, inplace=False)\n",
            "              (act): ReLU()\n",
            "            )\n",
            "            (layer_norm): T5LayerNorm()\n",
            "            (dropout): Dropout(p=0.1, inplace=False)\n",
            "          )\n",
            "        )\n",
            "      )\n",
            "      (1-11): 11 x T5Block(\n",
            "        (layer): ModuleList(\n",
            "          (0): T5LayerSelfAttention(\n",
            "            (SelfAttention): T5Attention(\n",
            "              (q): Linear(in_features=768, out_features=768, bias=False)\n",
            "              (k): Linear(in_features=768, out_features=768, bias=False)\n",
            "              (v): Linear(in_features=768, out_features=768, bias=False)\n",
            "              (o): Linear(in_features=768, out_features=768, bias=False)\n",
            "            )\n",
            "            (layer_norm): T5LayerNorm()\n",
            "            (dropout): Dropout(p=0.1, inplace=False)\n",
            "          )\n",
            "          (1): T5LayerFF(\n",
            "            (DenseReluDense): T5DenseActDense(\n",
            "              (wi): Linear(in_features=768, out_features=3072, bias=False)\n",
            "              (wo): Linear(in_features=3072, out_features=768, bias=False)\n",
            "              (dropout): Dropout(p=0.1, inplace=False)\n",
            "              (act): ReLU()\n",
            "            )\n",
            "            (layer_norm): T5LayerNorm()\n",
            "            (dropout): Dropout(p=0.1, inplace=False)\n",
            "          )\n",
            "        )\n",
            "      )\n",
            "    )\n",
            "    (final_layer_norm): T5LayerNorm()\n",
            "    (dropout): Dropout(p=0.1, inplace=False)\n",
            "  )\n",
            "  (decoder): T5Stack(\n",
            "    (embed_tokens): Embedding(32112, 768)\n",
            "    (block): ModuleList(\n",
            "      (0): T5Block(\n",
            "        (layer): ModuleList(\n",
            "          (0): T5LayerSelfAttention(\n",
            "            (SelfAttention): T5Attention(\n",
            "              (q): Linear(in_features=768, out_features=768, bias=False)\n",
            "              (k): Linear(in_features=768, out_features=768, bias=False)\n",
            "              (v): Linear(in_features=768, out_features=768, bias=False)\n",
            "              (o): Linear(in_features=768, out_features=768, bias=False)\n",
            "              (relative_attention_bias): Embedding(32, 12)\n",
            "            )\n",
            "            (layer_norm): T5LayerNorm()\n",
            "            (dropout): Dropout(p=0.1, inplace=False)\n",
            "          )\n",
            "          (1): T5LayerCrossAttention(\n",
            "            (EncDecAttention): T5Attention(\n",
            "              (q): Linear(in_features=768, out_features=768, bias=False)\n",
            "              (k): Linear(in_features=768, out_features=768, bias=False)\n",
            "              (v): Linear(in_features=768, out_features=768, bias=False)\n",
            "              (o): Linear(in_features=768, out_features=768, bias=False)\n",
            "            )\n",
            "            (layer_norm): T5LayerNorm()\n",
            "            (dropout): Dropout(p=0.1, inplace=False)\n",
            "          )\n",
            "          (2): T5LayerFF(\n",
            "            (DenseReluDense): T5DenseActDense(\n",
            "              (wi): Linear(in_features=768, out_features=3072, bias=False)\n",
            "              (wo): Linear(in_features=3072, out_features=768, bias=False)\n",
            "              (dropout): Dropout(p=0.1, inplace=False)\n",
            "              (act): ReLU()\n",
            "            )\n",
            "            (layer_norm): T5LayerNorm()\n",
            "            (dropout): Dropout(p=0.1, inplace=False)\n",
            "          )\n",
            "        )\n",
            "      )\n",
            "      (1-11): 11 x T5Block(\n",
            "        (layer): ModuleList(\n",
            "          (0): T5LayerSelfAttention(\n",
            "            (SelfAttention): T5Attention(\n",
            "              (q): Linear(in_features=768, out_features=768, bias=False)\n",
            "              (k): Linear(in_features=768, out_features=768, bias=False)\n",
            "              (v): Linear(in_features=768, out_features=768, bias=False)\n",
            "              (o): Linear(in_features=768, out_features=768, bias=False)\n",
            "            )\n",
            "            (layer_norm): T5LayerNorm()\n",
            "            (dropout): Dropout(p=0.1, inplace=False)\n",
            "          )\n",
            "          (1): T5LayerCrossAttention(\n",
            "            (EncDecAttention): T5Attention(\n",
            "              (q): Linear(in_features=768, out_features=768, bias=False)\n",
            "              (k): Linear(in_features=768, out_features=768, bias=False)\n",
            "              (v): Linear(in_features=768, out_features=768, bias=False)\n",
            "              (o): Linear(in_features=768, out_features=768, bias=False)\n",
            "            )\n",
            "            (layer_norm): T5LayerNorm()\n",
            "            (dropout): Dropout(p=0.1, inplace=False)\n",
            "          )\n",
            "          (2): T5LayerFF(\n",
            "            (DenseReluDense): T5DenseActDense(\n",
            "              (wi): Linear(in_features=768, out_features=3072, bias=False)\n",
            "              (wo): Linear(in_features=3072, out_features=768, bias=False)\n",
            "              (dropout): Dropout(p=0.1, inplace=False)\n",
            "              (act): ReLU()\n",
            "            )\n",
            "            (layer_norm): T5LayerNorm()\n",
            "            (dropout): Dropout(p=0.1, inplace=False)\n",
            "          )\n",
            "        )\n",
            "      )\n",
            "    )\n",
            "    (final_layer_norm): T5LayerNorm()\n",
            "    (dropout): Dropout(p=0.1, inplace=False)\n",
            "  )\n",
            "  (lm_head): Linear(in_features=768, out_features=32112, bias=False)\n",
            ")\n"
          ]
        }
      ]
    },
    {
      "cell_type": "code",
      "source": [
        "# dataset_train=ToTToDataset(path_data='/content/totto_data/totto_train_data.jsonl', tokenizer=tokenizer)\n",
        "dataset_train=ToTToDataset(path_data='/content/drive/MyDrive/ToTTo_T5-base/totto_train_data.jsonl', tokenizer=tokenizer)\n",
        "dataloader_train=DataLoader(dataset_train, batch_size=batch_size, shuffle=True, collate_fn=collate_fn)"
      ],
      "metadata": {
        "colab": {
          "base_uri": "https://localhost:8080/"
        },
        "id": "1oNWBFxPUtEd",
        "outputId": "f6a703df-e783-44ca-f42b-c6951c6d15f9"
      },
      "execution_count": 17,
      "outputs": [
        {
          "output_type": "stream",
          "name": "stderr",
          "text": [
            "Token indices sequence length is longer than the specified maximum sequence length for this model (578 > 512). Running this sequence through the model will result in indexing errors\n"
          ]
        },
        {
          "output_type": "stream",
          "name": "stdout",
          "text": [
            "120761 datas\n",
            "120761 labels\n"
          ]
        }
      ]
    },
    {
      "cell_type": "code",
      "source": [
        "# Optim, Scheduler\n",
        "optimizer=AdamW(model.parameters(), lr=lr)\n",
        "scheduler=get_linear_schedule_with_warmup(\n",
        "    optimizer=optimizer,\n",
        "    num_warmup_steps=1000,\n",
        "    num_training_steps=int(epochs*len(dataset_train)/(accumulation_steps*batch_size))\n",
        ")"
      ],
      "metadata": {
        "id": "gISlbOSSni9c",
        "colab": {
          "base_uri": "https://localhost:8080/"
        },
        "outputId": "b475b80d-3008-49b9-9083-6ec72a23d7b2"
      },
      "execution_count": 18,
      "outputs": [
        {
          "output_type": "stream",
          "name": "stderr",
          "text": [
            "/usr/local/lib/python3.10/dist-packages/transformers/optimization.py:411: FutureWarning: This implementation of AdamW is deprecated and will be removed in a future version. Use the PyTorch implementation torch.optim.AdamW instead, or set `no_deprecation_warning=True` to disable this warning\n",
            "  warnings.warn(\n"
          ]
        }
      ]
    },
    {
      "cell_type": "code",
      "source": [
        "from tqdm import tqdm\n",
        "\n",
        "step_global=0\n",
        "\n",
        "for epoch in range(epochs):\n",
        "    # Train Phase\n",
        "    model.train()\n",
        "    model.to(device)\n",
        "\n",
        "    loss_train = 0\n",
        "    optimizer.zero_grad()\n",
        "\n",
        "    tqdm_dataloader_train = tqdm(dataloader_train, desc=f'Epoch {epoch + 1}')\n",
        "\n",
        "    for step, (data, attn_mask, label) in enumerate(tqdm_dataloader_train):\n",
        "        data = data.to(device)\n",
        "        attn_mask = attn_mask.to(device)\n",
        "        label = label.to(device)\n",
        "\n",
        "        outputs = model(input_ids=data, attention_mask=attn_mask, labels=label)\n",
        "\n",
        "        loss = outputs[0] / accumulation_steps\n",
        "        loss.backward()\n",
        "\n",
        "        loss_train += loss.item()\n",
        "\n",
        "        if (step + 1) % accumulation_steps == 0:\n",
        "            step_global += 1\n",
        "\n",
        "            # Console\n",
        "            if step_global % 1000 == 0:\n",
        "                print(f'\\n Epoch {epoch + 1}  Step {step_global} Train loss {loss_train:.4f}')\n",
        "            # Set Loss to 0\n",
        "            loss_train = 0\n",
        "\n",
        "            optimizer.step()\n",
        "            scheduler.step()\n",
        "\n",
        "            optimizer.zero_grad()\n",
        "\n",
        "    # Save Model\n",
        "    model.to(torch.device('cpu'))\n",
        "    torch.save(model.state_dict(), f'/content/drive/MyDrive/ToTTo_T5-base/model/T5-base_Fine-Tuning_lr{lr}_batch{int(accumulation_steps*batch_size)}_epoch{epoch+1}.pth')\n"
      ],
      "metadata": {
        "colab": {
          "base_uri": "https://localhost:8080/"
        },
        "id": "OQjNS_qfnfMy",
        "outputId": "ba48dc26-d538-4554-e2ac-5a7da1642b81"
      },
      "execution_count": 19,
      "outputs": [
        {
          "metadata": {
            "tags": null
          },
          "name": "stderr",
          "output_type": "stream",
          "text": [
            "Epoch 1:  20%|█▉        | 3000/15096 [17:43<1:12:46,  2.77it/s]"
          ]
        },
        {
          "metadata": {
            "tags": null
          },
          "name": "stdout",
          "output_type": "stream",
          "text": [
            "\n",
            " Epoch 1  Step 1000 Train loss 1.1804\n"
          ]
        },
        {
          "metadata": {
            "tags": null
          },
          "name": "stderr",
          "output_type": "stream",
          "text": [
            "Epoch 1:  40%|███▉      | 6000/15096 [35:59<44:31,  3.40it/s]"
          ]
        },
        {
          "metadata": {
            "tags": null
          },
          "name": "stdout",
          "output_type": "stream",
          "text": [
            "\n",
            " Epoch 1  Step 2000 Train loss 1.3387\n"
          ]
        },
        {
          "metadata": {
            "tags": null
          },
          "name": "stderr",
          "output_type": "stream",
          "text": [
            "Epoch 1:  60%|█████▉    | 9000/15096 [54:18<37:02,  2.74it/s]"
          ]
        },
        {
          "metadata": {
            "tags": null
          },
          "name": "stdout",
          "output_type": "stream",
          "text": [
            "\n",
            " Epoch 1  Step 3000 Train loss 1.0142\n"
          ]
        },
        {
          "metadata": {
            "tags": null
          },
          "name": "stderr",
          "output_type": "stream",
          "text": [
            "Epoch 1:  79%|███████▉  | 12000/15096 [1:12:38<14:09,  3.64it/s]"
          ]
        },
        {
          "metadata": {
            "tags": null
          },
          "name": "stdout",
          "output_type": "stream",
          "text": [
            "\n",
            " Epoch 1  Step 4000 Train loss 1.0326\n"
          ]
        },
        {
          "metadata": {
            "tags": null
          },
          "name": "stderr",
          "output_type": "stream",
          "text": [
            "Epoch 1:  99%|█████████▉| 15000/15096 [1:30:50<00:32,  2.92it/s]"
          ]
        },
        {
          "metadata": {
            "tags": null
          },
          "name": "stdout",
          "output_type": "stream",
          "text": [
            "\n",
            " Epoch 1  Step 5000 Train loss 1.1553\n"
          ]
        },
        {
          "metadata": {
            "tags": null
          },
          "name": "stderr",
          "output_type": "stream",
          "text": [
            "Epoch 1: 100%|██████████| 15096/15096 [1:31:25<00:00,  2.75it/s]\n",
            "Epoch 2:  19%|█▉        | 2904/15096 [36:39<2:14:08,  1.51it/s]"
          ]
        },
        {
          "metadata": {
            "tags": null
          },
          "name": "stdout",
          "output_type": "stream",
          "text": [
            "\n",
            " Epoch 2  Step 6000 Train loss 1.1510\n"
          ]
        },
        {
          "metadata": {
            "tags": null
          },
          "name": "stderr",
          "output_type": "stream",
          "text": [
            "Epoch 2:  39%|███▉      | 5904/15096 [1:13:45<2:06:08,  1.21it/s]"
          ]
        },
        {
          "metadata": {
            "tags": null
          },
          "name": "stdout",
          "output_type": "stream",
          "text": [
            "\n",
            " Epoch 2  Step 7000 Train loss 1.0231\n"
          ]
        },
        {
          "metadata": {
            "tags": null
          },
          "name": "stderr",
          "output_type": "stream",
          "text": [
            "Epoch 2:  59%|█████▉    | 8904/15096 [1:50:49<1:32:17,  1.12it/s]"
          ]
        },
        {
          "metadata": {
            "tags": null
          },
          "name": "stdout",
          "output_type": "stream",
          "text": [
            "\n",
            " Epoch 2  Step 8000 Train loss 0.9752\n"
          ]
        },
        {
          "metadata": {
            "tags": null
          },
          "name": "stderr",
          "output_type": "stream",
          "text": [
            "Epoch 2:  79%|███████▉  | 11904/15096 [2:28:19<36:22,  1.46it/s]"
          ]
        },
        {
          "metadata": {
            "tags": null
          },
          "name": "stdout",
          "output_type": "stream",
          "text": [
            "\n",
            " Epoch 2  Step 9000 Train loss 0.9853\n"
          ]
        },
        {
          "metadata": {
            "tags": null
          },
          "name": "stderr",
          "output_type": "stream",
          "text": [
            "Epoch 2:  99%|█████████▊| 14904/15096 [3:05:42<01:59,  1.60it/s]"
          ]
        },
        {
          "metadata": {
            "tags": null
          },
          "name": "stdout",
          "output_type": "stream",
          "text": [
            "\n",
            " Epoch 2  Step 10000 Train loss 1.1179\n"
          ]
        },
        {
          "metadata": {
            "tags": null
          },
          "name": "stderr",
          "output_type": "stream",
          "text": [
            "Epoch 2: 100%|██████████| 15096/15096 [3:08:00<00:00,  1.34it/s]\n",
            "Epoch 3:  19%|█▊        | 2808/15096 [49:00<3:25:17,  1.00s/it]"
          ]
        },
        {
          "metadata": {
            "tags": null
          },
          "name": "stdout",
          "output_type": "stream",
          "text": [
            "\n",
            " Epoch 3  Step 11000 Train loss 1.0970\n"
          ]
        },
        {
          "metadata": {
            "tags": null
          },
          "name": "stderr",
          "output_type": "stream",
          "text": [
            "Epoch 3:  38%|███▊      | 5808/15096 [1:41:22<2:43:12,  1.05s/it]"
          ]
        },
        {
          "metadata": {
            "tags": null
          },
          "name": "stdout",
          "output_type": "stream",
          "text": [
            "\n",
            " Epoch 3  Step 12000 Train loss 0.9119\n"
          ]
        },
        {
          "metadata": {
            "tags": null
          },
          "name": "stderr",
          "output_type": "stream",
          "text": [
            "Epoch 3:  58%|█████▊    | 8808/15096 [2:33:45<1:50:47,  1.06s/it]"
          ]
        },
        {
          "metadata": {
            "tags": null
          },
          "name": "stdout",
          "output_type": "stream",
          "text": [
            "\n",
            " Epoch 3  Step 13000 Train loss 0.8262\n"
          ]
        },
        {
          "metadata": {
            "tags": null
          },
          "name": "stderr",
          "output_type": "stream",
          "text": [
            "Epoch 3:  78%|███████▊  | 11808/15096 [3:26:07<57:30,  1.05s/it]"
          ]
        },
        {
          "metadata": {
            "tags": null
          },
          "name": "stdout",
          "output_type": "stream",
          "text": [
            "\n",
            " Epoch 3  Step 14000 Train loss 0.9843\n"
          ]
        },
        {
          "metadata": {
            "tags": null
          },
          "name": "stderr",
          "output_type": "stream",
          "text": [
            "Epoch 3:  98%|█████████▊| 14808/15096 [4:18:33<05:02,  1.05s/it]"
          ]
        },
        {
          "metadata": {
            "tags": null
          },
          "name": "stdout",
          "output_type": "stream",
          "text": [
            "\n",
            " Epoch 3  Step 15000 Train loss 1.0589\n"
          ]
        },
        {
          "metadata": {
            "tags": null
          },
          "name": "stderr",
          "output_type": "stream",
          "text": [
            "Epoch 3: 100%|██████████| 15096/15096 [4:23:35<00:00,  1.05s/it]\n",
            "Epoch 4:  18%|█▊        | 2712/15096 [49:03<3:41:52,  1.07s/it]"
          ]
        },
        {
          "metadata": {
            "tags": null
          },
          "name": "stdout",
          "output_type": "stream",
          "text": [
            "\n",
            " Epoch 4  Step 16000 Train loss 0.7081\n"
          ]
        },
        {
          "metadata": {
            "tags": null
          },
          "name": "stderr",
          "output_type": "stream",
          "text": [
            "Epoch 4:  38%|███▊      | 5712/15096 [1:43:19<2:49:45,  1.09s/it]"
          ]
        },
        {
          "metadata": {
            "tags": null
          },
          "name": "stdout",
          "output_type": "stream",
          "text": [
            "\n",
            " Epoch 4  Step 17000 Train loss 1.0178\n"
          ]
        },
        {
          "metadata": {
            "tags": null
          },
          "name": "stderr",
          "output_type": "stream",
          "text": [
            "Epoch 4:  58%|█████▊    | 8712/15096 [2:37:35<1:56:31,  1.10s/it]"
          ]
        },
        {
          "metadata": {
            "tags": null
          },
          "name": "stdout",
          "output_type": "stream",
          "text": [
            "\n",
            " Epoch 4  Step 18000 Train loss 0.6478\n"
          ]
        },
        {
          "metadata": {
            "tags": null
          },
          "name": "stderr",
          "output_type": "stream",
          "text": [
            "Epoch 4:  78%|███████▊  | 11712/15096 [3:31:53<1:02:15,  1.10s/it]"
          ]
        },
        {
          "metadata": {
            "tags": null
          },
          "name": "stdout",
          "output_type": "stream",
          "text": [
            "\n",
            " Epoch 4  Step 19000 Train loss 0.8178\n"
          ]
        },
        {
          "metadata": {
            "tags": null
          },
          "name": "stderr",
          "output_type": "stream",
          "text": [
            "Epoch 4:  97%|█████████▋| 14712/15096 [4:26:10<06:56,  1.09s/it]"
          ]
        },
        {
          "metadata": {
            "tags": null
          },
          "name": "stdout",
          "output_type": "stream",
          "text": [
            "\n",
            " Epoch 4  Step 20000 Train loss 0.8123\n"
          ]
        },
        {
          "metadata": {
            "tags": null
          },
          "name": "stderr",
          "output_type": "stream",
          "text": [
            "Epoch 4: 100%|██████████| 15096/15096 [4:33:07<00:00,  1.09s/it]\n",
            "Epoch 5:  17%|█▋        | 2616/15096 [49:04<3:53:06,  1.12s/it]"
          ]
        },
        {
          "metadata": {
            "tags": null
          },
          "name": "stdout",
          "output_type": "stream",
          "text": [
            "\n",
            " Epoch 5  Step 21000 Train loss 0.7298\n"
          ]
        },
        {
          "metadata": {
            "tags": null
          },
          "name": "stderr",
          "output_type": "stream",
          "text": [
            "Epoch 5:  37%|███▋      | 5616/15096 [1:45:24<3:00:31,  1.14s/it]"
          ]
        },
        {
          "metadata": {
            "tags": null
          },
          "name": "stdout",
          "output_type": "stream",
          "text": [
            "\n",
            " Epoch 5  Step 22000 Train loss 0.8804\n"
          ]
        },
        {
          "output_type": "stream",
          "name": "stderr",
          "text": [
            "Epoch 5:  57%|█████▋    | 8616/15096 [2:41:46<2:00:27,  1.12s/it]"
          ]
        },
        {
          "output_type": "stream",
          "name": "stdout",
          "text": [
            "\n",
            " Epoch 5  Step 23000 Train loss 0.7858\n"
          ]
        },
        {
          "output_type": "stream",
          "name": "stderr",
          "text": [
            "Epoch 5:  77%|███████▋  | 11616/15096 [3:38:10<1:06:00,  1.14s/it]"
          ]
        },
        {
          "output_type": "stream",
          "name": "stdout",
          "text": [
            "\n",
            " Epoch 5  Step 24000 Train loss 0.7195\n"
          ]
        },
        {
          "output_type": "stream",
          "name": "stderr",
          "text": [
            "Epoch 5:  97%|█████████▋| 14616/15096 [4:34:33<09:03,  1.13s/it]"
          ]
        },
        {
          "output_type": "stream",
          "name": "stdout",
          "text": [
            "\n",
            " Epoch 5  Step 25000 Train loss 1.0546\n"
          ]
        },
        {
          "output_type": "stream",
          "name": "stderr",
          "text": [
            "Epoch 5: 100%|██████████| 15096/15096 [4:43:34<00:00,  1.13s/it]\n"
          ]
        }
      ]
    },
    {
      "cell_type": "markdown",
      "source": [
        "**1 EPOCH 이상 안 돌아가면 나눠서 학습 진행**\n",
        "\n",
        "* Split the training\n",
        "    * 1 epoch training at each runtime\n",
        "\n",
        "#### **Epoch 2**"
      ],
      "metadata": {
        "id": "RK7DAkqF12-p"
      }
    },
    {
      "cell_type": "code",
      "source": [
        "# EPOCH 2\n",
        "# Google Drive Mount\n",
        "from google.colab import drive\n",
        "drive.mount('/content/drive')"
      ],
      "metadata": {
        "colab": {
          "base_uri": "https://localhost:8080/"
        },
        "id": "rKP3WqTlaXjs",
        "outputId": "e0f22564-9394-48c8-af93-d35086675e36"
      },
      "execution_count": null,
      "outputs": [
        {
          "output_type": "stream",
          "name": "stdout",
          "text": [
            "Drive already mounted at /content/drive; to attempt to forcibly remount, call drive.mount(\"/content/drive\", force_remount=True).\n"
          ]
        }
      ]
    },
    {
      "cell_type": "code",
      "source": [
        "!pip install transformers datasets sentencepiece"
      ],
      "metadata": {
        "colab": {
          "base_uri": "https://localhost:8080/"
        },
        "id": "n4LrOo6TbQS5",
        "outputId": "20897507-8c03-464e-a3e7-466967f6fafb"
      },
      "execution_count": null,
      "outputs": [
        {
          "output_type": "stream",
          "name": "stdout",
          "text": [
            "Requirement already satisfied: transformers in /usr/local/lib/python3.10/dist-packages (4.35.2)\n",
            "Collecting datasets\n",
            "  Downloading datasets-2.16.1-py3-none-any.whl (507 kB)\n",
            "\u001b[2K     \u001b[90m━━━━━━━━━━━━━━━━━━━━━━━━━━━━━━━━━━━━━━━━\u001b[0m \u001b[32m507.1/507.1 kB\u001b[0m \u001b[31m8.5 MB/s\u001b[0m eta \u001b[36m0:00:00\u001b[0m\n",
            "\u001b[?25hCollecting sentencepiece\n",
            "  Downloading sentencepiece-0.1.99-cp310-cp310-manylinux_2_17_x86_64.manylinux2014_x86_64.whl (1.3 MB)\n",
            "\u001b[2K     \u001b[90m━━━━━━━━━━━━━━━━━━━━━━━━━━━━━━━━━━━━━━━━\u001b[0m \u001b[32m1.3/1.3 MB\u001b[0m \u001b[31m15.5 MB/s\u001b[0m eta \u001b[36m0:00:00\u001b[0m\n",
            "\u001b[?25hRequirement already satisfied: filelock in /usr/local/lib/python3.10/dist-packages (from transformers) (3.13.1)\n",
            "Requirement already satisfied: huggingface-hub<1.0,>=0.16.4 in /usr/local/lib/python3.10/dist-packages (from transformers) (0.20.3)\n",
            "Requirement already satisfied: numpy>=1.17 in /usr/local/lib/python3.10/dist-packages (from transformers) (1.23.5)\n",
            "Requirement already satisfied: packaging>=20.0 in /usr/local/lib/python3.10/dist-packages (from transformers) (23.2)\n",
            "Requirement already satisfied: pyyaml>=5.1 in /usr/local/lib/python3.10/dist-packages (from transformers) (6.0.1)\n",
            "Requirement already satisfied: regex!=2019.12.17 in /usr/local/lib/python3.10/dist-packages (from transformers) (2023.6.3)\n",
            "Requirement already satisfied: requests in /usr/local/lib/python3.10/dist-packages (from transformers) (2.31.0)\n",
            "Requirement already satisfied: tokenizers<0.19,>=0.14 in /usr/local/lib/python3.10/dist-packages (from transformers) (0.15.1)\n",
            "Requirement already satisfied: safetensors>=0.3.1 in /usr/local/lib/python3.10/dist-packages (from transformers) (0.4.1)\n",
            "Requirement already satisfied: tqdm>=4.27 in /usr/local/lib/python3.10/dist-packages (from transformers) (4.66.1)\n",
            "Requirement already satisfied: pyarrow>=8.0.0 in /usr/local/lib/python3.10/dist-packages (from datasets) (10.0.1)\n",
            "Requirement already satisfied: pyarrow-hotfix in /usr/local/lib/python3.10/dist-packages (from datasets) (0.6)\n",
            "Collecting dill<0.3.8,>=0.3.0 (from datasets)\n",
            "  Downloading dill-0.3.7-py3-none-any.whl (115 kB)\n",
            "\u001b[2K     \u001b[90m━━━━━━━━━━━━━━━━━━━━━━━━━━━━━━━━━━━━━━━━\u001b[0m \u001b[32m115.3/115.3 kB\u001b[0m \u001b[31m14.7 MB/s\u001b[0m eta \u001b[36m0:00:00\u001b[0m\n",
            "\u001b[?25hRequirement already satisfied: pandas in /usr/local/lib/python3.10/dist-packages (from datasets) (1.5.3)\n",
            "Requirement already satisfied: xxhash in /usr/local/lib/python3.10/dist-packages (from datasets) (3.4.1)\n",
            "Collecting multiprocess (from datasets)\n",
            "  Downloading multiprocess-0.70.16-py310-none-any.whl (134 kB)\n",
            "\u001b[2K     \u001b[90m━━━━━━━━━━━━━━━━━━━━━━━━━━━━━━━━━━━━━━━━\u001b[0m \u001b[32m134.8/134.8 kB\u001b[0m \u001b[31m15.1 MB/s\u001b[0m eta \u001b[36m0:00:00\u001b[0m\n",
            "\u001b[?25hRequirement already satisfied: fsspec[http]<=2023.10.0,>=2023.1.0 in /usr/local/lib/python3.10/dist-packages (from datasets) (2023.6.0)\n",
            "Requirement already satisfied: aiohttp in /usr/local/lib/python3.10/dist-packages (from datasets) (3.9.1)\n",
            "Requirement already satisfied: attrs>=17.3.0 in /usr/local/lib/python3.10/dist-packages (from aiohttp->datasets) (23.2.0)\n",
            "Requirement already satisfied: multidict<7.0,>=4.5 in /usr/local/lib/python3.10/dist-packages (from aiohttp->datasets) (6.0.4)\n",
            "Requirement already satisfied: yarl<2.0,>=1.0 in /usr/local/lib/python3.10/dist-packages (from aiohttp->datasets) (1.9.4)\n",
            "Requirement already satisfied: frozenlist>=1.1.1 in /usr/local/lib/python3.10/dist-packages (from aiohttp->datasets) (1.4.1)\n",
            "Requirement already satisfied: aiosignal>=1.1.2 in /usr/local/lib/python3.10/dist-packages (from aiohttp->datasets) (1.3.1)\n",
            "Requirement already satisfied: async-timeout<5.0,>=4.0 in /usr/local/lib/python3.10/dist-packages (from aiohttp->datasets) (4.0.3)\n",
            "Requirement already satisfied: typing-extensions>=3.7.4.3 in /usr/local/lib/python3.10/dist-packages (from huggingface-hub<1.0,>=0.16.4->transformers) (4.5.0)\n",
            "Requirement already satisfied: charset-normalizer<4,>=2 in /usr/local/lib/python3.10/dist-packages (from requests->transformers) (3.3.2)\n",
            "Requirement already satisfied: idna<4,>=2.5 in /usr/local/lib/python3.10/dist-packages (from requests->transformers) (3.6)\n",
            "Requirement already satisfied: urllib3<3,>=1.21.1 in /usr/local/lib/python3.10/dist-packages (from requests->transformers) (2.0.7)\n",
            "Requirement already satisfied: certifi>=2017.4.17 in /usr/local/lib/python3.10/dist-packages (from requests->transformers) (2023.11.17)\n",
            "INFO: pip is looking at multiple versions of multiprocess to determine which version is compatible with other requirements. This could take a while.\n",
            "  Downloading multiprocess-0.70.15-py310-none-any.whl (134 kB)\n",
            "\u001b[2K     \u001b[90m━━━━━━━━━━━━━━━━━━━━━━━━━━━━━━━━━━━━━━━━\u001b[0m \u001b[32m134.8/134.8 kB\u001b[0m \u001b[31m14.7 MB/s\u001b[0m eta \u001b[36m0:00:00\u001b[0m\n",
            "\u001b[?25hRequirement already satisfied: python-dateutil>=2.8.1 in /usr/local/lib/python3.10/dist-packages (from pandas->datasets) (2.8.2)\n",
            "Requirement already satisfied: pytz>=2020.1 in /usr/local/lib/python3.10/dist-packages (from pandas->datasets) (2023.3.post1)\n",
            "Requirement already satisfied: six>=1.5 in /usr/local/lib/python3.10/dist-packages (from python-dateutil>=2.8.1->pandas->datasets) (1.16.0)\n",
            "Installing collected packages: sentencepiece, dill, multiprocess, datasets\n",
            "Successfully installed datasets-2.16.1 dill-0.3.7 multiprocess-0.70.15 sentencepiece-0.1.99\n"
          ]
        }
      ]
    },
    {
      "cell_type": "code",
      "source": [
        "# Google's Official Preprocess Codes\n",
        "# https://github.com/google-research/language/blob/master/language/totto/baseline_preprocessing/preprocess_utils.py\n",
        "\n",
        "import copy\n",
        "\n",
        "def _add_adjusted_col_offsets(table):\n",
        "  \"\"\"Add adjusted column offsets to take into account multi-column cells.\"\"\"\n",
        "  adjusted_table = []\n",
        "  for row in table:\n",
        "    real_col_index = 0\n",
        "    adjusted_row = []\n",
        "    for cell in row:\n",
        "      adjusted_cell = copy.deepcopy(cell)\n",
        "      adjusted_cell[\"adjusted_col_start\"] = real_col_index\n",
        "      adjusted_cell[\"adjusted_col_end\"] = (\n",
        "          adjusted_cell[\"adjusted_col_start\"] + adjusted_cell[\"column_span\"])\n",
        "      real_col_index += adjusted_cell[\"column_span\"]\n",
        "      adjusted_row.append(adjusted_cell)\n",
        "    adjusted_table.append(adjusted_row)\n",
        "  return adjusted_table\n",
        "\n",
        "\n",
        "def _get_heuristic_row_headers(adjusted_table, row_index, col_index):\n",
        "  \"\"\"Heuristic to find row headers.\"\"\"\n",
        "  row_headers = []\n",
        "  row = adjusted_table[row_index]\n",
        "  for i in range(0, col_index):\n",
        "    if row[i][\"is_header\"]:\n",
        "      row_headers.append(row[i])\n",
        "  return row_headers\n",
        "\n",
        "\n",
        "def _get_heuristic_col_headers(adjusted_table, row_index, col_index):\n",
        "  \"\"\"Heuristic to find column headers.\"\"\"\n",
        "  adjusted_cell = adjusted_table[row_index][col_index]\n",
        "  adjusted_col_start = adjusted_cell[\"adjusted_col_start\"]\n",
        "  adjusted_col_end = adjusted_cell[\"adjusted_col_end\"]\n",
        "  col_headers = []\n",
        "  for r in range(0, row_index):\n",
        "    row = adjusted_table[r]\n",
        "    for cell in row:\n",
        "      if (cell[\"adjusted_col_start\"] < adjusted_col_end and\n",
        "          cell[\"adjusted_col_end\"] > adjusted_col_start):\n",
        "        if cell[\"is_header\"]:\n",
        "          col_headers.append(cell)\n",
        "\n",
        "  return col_headers\n",
        "\n",
        "\n",
        "def get_highlighted_subtable(table, cell_indices, with_heuristic_headers=False):\n",
        "  \"\"\"Extract out the highlighted part of a table.\"\"\"\n",
        "  highlighted_table = []\n",
        "\n",
        "  adjusted_table = _add_adjusted_col_offsets(table)\n",
        "\n",
        "  for (row_index, col_index) in cell_indices:\n",
        "    cell = table[row_index][col_index]\n",
        "    if with_heuristic_headers:\n",
        "      row_headers = _get_heuristic_row_headers(adjusted_table, row_index,\n",
        "                                               col_index)\n",
        "      col_headers = _get_heuristic_col_headers(adjusted_table, row_index,\n",
        "                                               col_index)\n",
        "    else:\n",
        "      row_headers = []\n",
        "      col_headers = []\n",
        "\n",
        "    highlighted_cell = {\n",
        "        \"cell\": cell,\n",
        "        \"row_headers\": row_headers,\n",
        "        \"col_headers\": col_headers\n",
        "    }\n",
        "    highlighted_table.append(highlighted_cell)\n",
        "\n",
        "  return highlighted_table\n",
        "\n",
        "\n",
        "def linearize_full_table(table, cell_indices, table_page_title,\n",
        "                         table_section_title):\n",
        "  \"\"\"Linearize full table with localized headers and return a string.\"\"\"\n",
        "  table_str = \"\"\n",
        "  if table_page_title:\n",
        "    table_str += \"<page_title> \" + table_page_title + \" </page_title> \"\n",
        "  if table_section_title:\n",
        "    table_str += \"<section_title> \" + table_section_title + \" </section_title> \"\n",
        "\n",
        "  table_str += \"<table> \"\n",
        "  adjusted_table = _add_adjusted_col_offsets(table)\n",
        "  for r_index, row in enumerate(table):\n",
        "    row_str = \"<row> \"\n",
        "    for c_index, col in enumerate(row):\n",
        "\n",
        "      row_headers = _get_heuristic_row_headers(adjusted_table, r_index, c_index)\n",
        "      col_headers = _get_heuristic_col_headers(adjusted_table, r_index, c_index)\n",
        "\n",
        "      # Distinguish between highlighted and non-highlighted cells.\n",
        "      if [r_index, c_index] in cell_indices:\n",
        "        start_cell_marker = \"<highlighted_cell> \"\n",
        "        end_cell_marker = \"</highlighted_cell> \"\n",
        "      else:\n",
        "        start_cell_marker = \"<cell> \"\n",
        "        end_cell_marker = \"</cell> \"\n",
        "\n",
        "      # The value of the cell.\n",
        "      item_str = start_cell_marker + col[\"value\"] + \" \"\n",
        "\n",
        "      # All the column headers associated with this cell.\n",
        "      for col_header in col_headers:\n",
        "        item_str += \"<col_header> \" + col_header[\"value\"] + \" </col_header> \"\n",
        "\n",
        "      # All the row headers associated with this cell.\n",
        "      for row_header in row_headers:\n",
        "        item_str += \"<row_header> \" + row_header[\"value\"] + \" </row_header> \"\n",
        "\n",
        "      item_str += end_cell_marker\n",
        "      row_str += item_str\n",
        "\n",
        "    row_str += \"</row> \"\n",
        "    table_str += row_str\n",
        "\n",
        "  table_str += \"</table>\"\n",
        "  if cell_indices:\n",
        "    assert \"<highlighted_cell>\" in table_str\n",
        "  return table_str\n",
        "\n",
        "\n",
        "def linearize_subtable(subtable, table_page_title, table_section_title):\n",
        "  \"\"\"Linearize the highlighted subtable and return a string of its contents.\"\"\"\n",
        "  table_str = \"\"\n",
        "  if table_page_title:\n",
        "    table_str += \"<page_title> \" + table_page_title + \" </page_title> \"\n",
        "  if table_section_title:\n",
        "    table_str += \"<section_title> \" + table_section_title + \" </section_title> \"\n",
        "  table_str += \"<table> \"\n",
        "\n",
        "  for item in subtable:\n",
        "    cell = item[\"cell\"]\n",
        "    row_headers = item[\"row_headers\"]\n",
        "    col_headers = item[\"col_headers\"]\n",
        "\n",
        "    # The value of the cell.\n",
        "    item_str = \"<cell> \" + cell[\"value\"] + \" \"\n",
        "\n",
        "    # All the column headers associated with this cell.\n",
        "    for col_header in col_headers:\n",
        "      item_str += \"<col_header> \" + col_header[\"value\"] + \" </col_header> \"\n",
        "\n",
        "    # All the row headers associated with this cell.\n",
        "    for row_header in row_headers:\n",
        "      item_str += \"<row_header> \" + row_header[\"value\"] + \" </row_header> \"\n",
        "\n",
        "    item_str += \"</cell> \"\n",
        "    table_str += item_str\n",
        "\n",
        "  table_str += \"</table>\"\n",
        "  return table_str"
      ],
      "metadata": {
        "id": "_x9RMPy-ba3q"
      },
      "execution_count": null,
      "outputs": []
    },
    {
      "cell_type": "code",
      "source": [
        "import json\n",
        "\n",
        "import torch\n",
        "from torch.utils.data import Dataset, DataLoader\n",
        "from torch.utils.tensorboard import SummaryWriter\n",
        "\n",
        "from transformers import T5Tokenizer, T5ForConditionalGeneration, AdamW, get_linear_schedule_with_warmup\n",
        "\n",
        "# Google's Official Preprocess Codes\n",
        "# https://github.com/google-research/language/blob/master/language/totto/baseline_preprocessing/preprocess_utils.py\n",
        "# from preprocess_utils import get_highlighted_subtable, linearize_subtable"
      ],
      "metadata": {
        "id": "Z9Z9PDk_bcF9"
      },
      "execution_count": null,
      "outputs": []
    },
    {
      "cell_type": "code",
      "source": [
        "class ToTToDataset(Dataset):\n",
        "    def __init__(self, path_data, tokenizer):\n",
        "        #\n",
        "        self.data=[]\n",
        "        self.label=[]\n",
        "\n",
        "        # Load Dataset\n",
        "        with open(path_data, 'r') as f:\n",
        "            dataset=f.read().splitlines()\n",
        "            f.close()\n",
        "\n",
        "        for _data in dataset:\n",
        "            data=json.loads(_data)\n",
        "\n",
        "            # Preprocess\n",
        "            subtable=get_highlighted_subtable(table=data['table'], cell_indices=data['highlighted_cells'], with_heuristic_headers=True)\n",
        "            cells_linearized=linearize_subtable(\n",
        "                subtable=subtable,\n",
        "                table_page_title=data['table_page_title'],\n",
        "                table_section_title=data['table_section_title']\n",
        "            )\n",
        "\n",
        "            # Encode\n",
        "            encoded=tokenizer.encode(cells_linearized)\n",
        "            if len(encoded)>512:\n",
        "                # Truncate\n",
        "                encoded=encoded[:511]+[tokenizer.eos_token_id]\n",
        "            self.data.append(encoded)\n",
        "            self.label.append(tokenizer.encode(data['sentence_annotations'][0]['final_sentence']))\n",
        "\n",
        "        print(len(self.data), 'datas')\n",
        "        print(len(self.label), 'labels')\n",
        "\n",
        "    def __getitem__(self, idx):\n",
        "        return self.data[idx], self.label[idx]\n",
        "\n",
        "    def __len__(self):\n",
        "        return len(self.data)\n",
        "\n",
        "\n",
        "def collate_fn(batch):\n",
        "    \"\"\"\n",
        "    Same Sequence Length on Same Batch\n",
        "    \"\"\"\n",
        "    max_len_data=0\n",
        "    max_len_label=0\n",
        "    for data, label in batch:\n",
        "        if len(data)>max_len_data: max_len_data=len(data)\n",
        "        if len(label)>max_len_label: max_len_label=len(label)\n",
        "\n",
        "    datas=[]\n",
        "    attn_masks=[]\n",
        "    labels=[]\n",
        "    for data, label in batch:\n",
        "        data.extend([tokenizer.pad_token_id]*(max_len_data-len(data)))\n",
        "        datas.append(data)\n",
        "\n",
        "        attn_mask=[int(e!=tokenizer.pad_token_id) for e in data]\n",
        "        attn_masks.append(attn_mask)\n",
        "\n",
        "        label.extend([-100]*(max_len_label-len(label)))\n",
        "        labels.append(label)\n",
        "\n",
        "    return torch.tensor(datas), torch.tensor(attn_masks), torch.tensor(labels)"
      ],
      "metadata": {
        "id": "538a8avbbwUI"
      },
      "execution_count": null,
      "outputs": []
    },
    {
      "cell_type": "code",
      "source": [
        "# Pre-Trained T5 Tokenizer\n",
        "tokenizer=T5Tokenizer.from_pretrained('t5-base')\n",
        "# Add Special Tokens: Table Tags\n",
        "tokenizer.add_special_tokens({\n",
        "    'additional_special_tokens': [\n",
        "        '<page_title>',\n",
        "        '</page_title>',\n",
        "        '<section_title>',\n",
        "        '</section_title>',\n",
        "        '<table>',\n",
        "        '</table>',\n",
        "        '<cell>',\n",
        "        '</cell>',\n",
        "        '<col_header>',\n",
        "        '</col_header>',\n",
        "        '<row_header>',\n",
        "        '</row_header>'\n",
        "    ]\n",
        "})"
      ],
      "metadata": {
        "colab": {
          "base_uri": "https://localhost:8080/",
          "height": 408,
          "referenced_widgets": [
            "9cdb831e13ef49579e325de9d57e5997",
            "f5357d4574794e15b25c1d00be78fcae",
            "d9fda786f2a44e77834eff29734d479c",
            "24dc7d9dba1d44659c130a1be7e695d1",
            "5b14a0ec1168407faebabe338ac5e941",
            "b1c3eea4b1984e859ab9eb499215c119",
            "060b0edda80241faad285fc3c4e3ebf3",
            "83f44f4f354e4c9987e9848e1c153eb9",
            "efd0e25630ee4571acf43afe286e9c54",
            "08f40021d420412fbfce17107d68f236",
            "24d413338770404eb845bf044be69b65",
            "4af2ec53f78f40cca714e663615a5222",
            "f5f661362f5f446595bce46e43bca6ef",
            "2324269514784639b915611736a34ac4",
            "69fe6f555aef429593893b075c830390",
            "2247763273224b51bb33b0ce91c9f369",
            "8d9d85c9d7ff49feb0b4983d8a35a699",
            "acaa6e1b8f8b42beabdd1ef3a515244d",
            "a9582717daa74a909dbe916f773919e3",
            "4ed21dcf38a74cb691f08c22416c73fb",
            "9abfb1b66ded4dae9a42efbca7ffd216",
            "f8c15fe2f64543258c832bbc63e435c8",
            "275381b42c4a4a2a95d71d50be9f0fce",
            "94fed2dc57c943cf90d936249d5a37de",
            "cc7bb77d26184d37b6c11a290f2bf7a3",
            "13c840e584b24adc806c932fd893b52c",
            "ec053f10957a4da7a040d130a44fce20",
            "f8343a877b414458b6add1b48cc61487",
            "5971344eb451447ca9d1af5ebe498e51",
            "1f70f728a8e84f8eb1022fb15be509c7",
            "ebe6f28b1162448f881bfd97f1a53002",
            "2280baa669c84b68b3a5b4791e6ab5bc",
            "e9bcecd7c1474b1a8b2c9b7bd7f6c259"
          ]
        },
        "id": "C51xzIqrbjzh",
        "outputId": "a75514f4-1298-45a7-9731-9b43742b71cc"
      },
      "execution_count": null,
      "outputs": [
        {
          "output_type": "stream",
          "name": "stderr",
          "text": [
            "/usr/local/lib/python3.10/dist-packages/huggingface_hub/utils/_token.py:88: UserWarning: \n",
            "The secret `HF_TOKEN` does not exist in your Colab secrets.\n",
            "To authenticate with the Hugging Face Hub, create a token in your settings tab (https://huggingface.co/settings/tokens), set it as secret in your Google Colab and restart your session.\n",
            "You will be able to reuse this secret in all of your notebooks.\n",
            "Please note that authentication is recommended but still optional to access public models or datasets.\n",
            "  warnings.warn(\n"
          ]
        },
        {
          "output_type": "display_data",
          "data": {
            "text/plain": [
              "spiece.model:   0%|          | 0.00/792k [00:00<?, ?B/s]"
            ],
            "application/vnd.jupyter.widget-view+json": {
              "version_major": 2,
              "version_minor": 0,
              "model_id": "9cdb831e13ef49579e325de9d57e5997"
            }
          },
          "metadata": {}
        },
        {
          "output_type": "display_data",
          "data": {
            "text/plain": [
              "tokenizer.json:   0%|          | 0.00/1.39M [00:00<?, ?B/s]"
            ],
            "application/vnd.jupyter.widget-view+json": {
              "version_major": 2,
              "version_minor": 0,
              "model_id": "4af2ec53f78f40cca714e663615a5222"
            }
          },
          "metadata": {}
        },
        {
          "output_type": "display_data",
          "data": {
            "text/plain": [
              "config.json:   0%|          | 0.00/1.21k [00:00<?, ?B/s]"
            ],
            "application/vnd.jupyter.widget-view+json": {
              "version_major": 2,
              "version_minor": 0,
              "model_id": "275381b42c4a4a2a95d71d50be9f0fce"
            }
          },
          "metadata": {}
        },
        {
          "output_type": "stream",
          "name": "stderr",
          "text": [
            "/usr/local/lib/python3.10/dist-packages/transformers/models/t5/tokenization_t5.py:240: FutureWarning: This tokenizer was incorrectly instantiated with a model max length of 512 which will be corrected in Transformers v5.\n",
            "For now, this behavior is kept to avoid breaking backwards compatibility when padding/encoding with `truncation is True`.\n",
            "- Be aware that you SHOULD NOT rely on t5-base automatically truncating your input to 512 when padding/encoding.\n",
            "- If you want to encode/pad to sequences longer than 512 you can either instantiate this tokenizer with `model_max_length` or pass `max_length` when encoding/padding.\n",
            "- To avoid this warning, please instantiate this tokenizer with `model_max_length` set to your preferred value.\n",
            "  warnings.warn(\n",
            "You are using the default legacy behaviour of the <class 'transformers.models.t5.tokenization_t5.T5Tokenizer'>. This is expected, and simply means that the `legacy` (previous) behavior will be used so nothing changes for you. If you want to use the new behaviour, set `legacy=False`. This should only be set if you understand what it means, and thouroughly read the reason why this was added as explained in https://github.com/huggingface/transformers/pull/24565\n",
            "Special tokens have been added in the vocabulary, make sure the associated word embeddings are fine-tuned or trained.\n"
          ]
        },
        {
          "output_type": "execute_result",
          "data": {
            "text/plain": [
              "12"
            ]
          },
          "metadata": {},
          "execution_count": 8
        }
      ]
    },
    {
      "cell_type": "code",
      "source": [
        "# Train Config\n",
        "device=torch.device('cuda:0')\n",
        "lr=1e-4\n",
        "batch_size=8 # 3 for 't5-large' and make 'accumulation_steps' larger\n",
        "accumulation_steps=3\n",
        "epochs=1"
      ],
      "metadata": {
        "id": "JH8lSIoCcLKs"
      },
      "execution_count": null,
      "outputs": []
    },
    {
      "cell_type": "code",
      "source": [
        "# Pre-Trained T5 Model\n",
        "model=T5ForConditionalGeneration.from_pretrained('t5-base').to(device)\n",
        "# Resize PLM's Embedding Layer\n",
        "model.resize_token_embeddings(len(tokenizer))"
      ],
      "metadata": {
        "colab": {
          "base_uri": "https://localhost:8080/",
          "height": 99,
          "referenced_widgets": [
            "a26e8eb2cb184bcf84f085249d3d4cbc",
            "52230781f4e7474394ccd96fdb81b8ab",
            "9031cea14ac24f718f8fbe0192495ee3",
            "5145a0c5d19f4b129620d6ec3fea7b39",
            "81e0ce969d8b44759e9255a4e63944af",
            "5dfd1864fd6b42089de500b1b4d3a4fa",
            "876b1cef2beb4aa78199a086552f6c50",
            "f0b9f88965cf466b9bf12a3511b86b33",
            "cffb1ff543d84d2bb0c99e8bb8b754ee",
            "ef0ffa99b9a6487bb6747cc9c839d912",
            "aa502b7af6f1498d954bc2fe40bf4a9e",
            "eba8f7f6856542ce9f6deb98605d3d4f",
            "ce3314a709d24ca28021a585c004512d",
            "460918c21d0d4f93a9167ec28ce109c2",
            "007293871cb24ec281471f2ff2ef763c",
            "c36754648a454f78a43a49c414f7e250",
            "8b163877da604cde89f43589441d2e4f",
            "bc74ddf4b36f4275aaefb7a6c4419f46",
            "e675da2e11024af2bf651b3f31d42a55",
            "ffa6b0d2966b470aabd0ea5ad5326517",
            "c8e485e02ff0462c948bcc0622c09e1b",
            "3b620d9e9a24498ca2c821bceb0ff655"
          ]
        },
        "id": "qMUOu-nLcCuT",
        "outputId": "3e65768b-855c-4ea4-b0ca-21b01c70e160"
      },
      "execution_count": null,
      "outputs": [
        {
          "output_type": "display_data",
          "data": {
            "text/plain": [
              "model.safetensors:   0%|          | 0.00/892M [00:00<?, ?B/s]"
            ],
            "application/vnd.jupyter.widget-view+json": {
              "version_major": 2,
              "version_minor": 0,
              "model_id": "a26e8eb2cb184bcf84f085249d3d4cbc"
            }
          },
          "metadata": {}
        },
        {
          "output_type": "display_data",
          "data": {
            "text/plain": [
              "generation_config.json:   0%|          | 0.00/147 [00:00<?, ?B/s]"
            ],
            "application/vnd.jupyter.widget-view+json": {
              "version_major": 2,
              "version_minor": 0,
              "model_id": "eba8f7f6856542ce9f6deb98605d3d4f"
            }
          },
          "metadata": {}
        },
        {
          "output_type": "execute_result",
          "data": {
            "text/plain": [
              "Embedding(32112, 768)"
            ]
          },
          "metadata": {},
          "execution_count": 10
        }
      ]
    },
    {
      "cell_type": "code",
      "source": [
        "# dataset_train=ToTToDataset(path_data='/content/totto_data/totto_train_data.jsonl', tokenizer=tokenizer)\n",
        "dataset_train=ToTToDataset(path_data='/content/drive/MyDrive/ToTTo_T5-base/totto_train_data.jsonl', tokenizer=tokenizer)\n",
        "dataloader_train=DataLoader(dataset_train, batch_size=batch_size, shuffle=True, collate_fn=collate_fn)"
      ],
      "metadata": {
        "colab": {
          "base_uri": "https://localhost:8080/"
        },
        "id": "2b2R9XeKb96Q",
        "outputId": "d6652432-1ba9-452d-cbd4-155e50bef6b7"
      },
      "execution_count": null,
      "outputs": [
        {
          "output_type": "stream",
          "name": "stderr",
          "text": [
            "Token indices sequence length is longer than the specified maximum sequence length for this model (578 > 512). Running this sequence through the model will result in indexing errors\n"
          ]
        },
        {
          "output_type": "stream",
          "name": "stdout",
          "text": [
            "120761 datas\n",
            "120761 labels\n"
          ]
        }
      ]
    },
    {
      "cell_type": "code",
      "source": [
        "# Optim, Scheduler\n",
        "optimizer=AdamW(model.parameters(), lr=lr)\n",
        "scheduler=get_linear_schedule_with_warmup(\n",
        "    optimizer=optimizer,\n",
        "    num_warmup_steps=1000,\n",
        "    num_training_steps=int(epochs*len(dataset_train)/(accumulation_steps*batch_size))\n",
        ")"
      ],
      "metadata": {
        "colab": {
          "base_uri": "https://localhost:8080/"
        },
        "id": "M8R2g_h7cGUJ",
        "outputId": "eb08fc6d-d995-43b1-a565-c9f01b2601dc"
      },
      "execution_count": null,
      "outputs": [
        {
          "output_type": "stream",
          "name": "stderr",
          "text": [
            "/usr/local/lib/python3.10/dist-packages/transformers/optimization.py:411: FutureWarning: This implementation of AdamW is deprecated and will be removed in a future version. Use the PyTorch implementation torch.optim.AdamW instead, or set `no_deprecation_warning=True` to disable this warning\n",
            "  warnings.warn(\n"
          ]
        }
      ]
    },
    {
      "cell_type": "code",
      "source": [
        "# 저장된 가중치 파일 로드\n",
        "model = T5ForConditionalGeneration.from_pretrained('t5-base')\n",
        "\n",
        "model_path = '/content/drive/MyDrive/ToTTo_T5-base/model/T5-base_Fine-Tuning_lr0.0001_batch24_epoch2.pth'\n",
        "model.load_state_dict(torch.load(model_path))\n",
        "\n",
        "model = model.to(device)"
      ],
      "metadata": {
        "id": "AEzgXODgcLsr"
      },
      "execution_count": null,
      "outputs": []
    },
    {
      "cell_type": "code",
      "source": [
        "from tqdm import tqdm\n",
        "\n",
        "step_global=0\n",
        "\n",
        "for epoch in range(epochs):\n",
        "    # Train Phase\n",
        "    model.train()\n",
        "    model.to(device)\n",
        "\n",
        "    loss_train = 0\n",
        "    optimizer.zero_grad()\n",
        "\n",
        "    tqdm_dataloader_train = tqdm(dataloader_train, desc=f'Epoch {epoch + 1}')\n",
        "\n",
        "    for step, (data, attn_mask, label) in enumerate(tqdm_dataloader_train):\n",
        "        data = data.to(device)\n",
        "        attn_mask = attn_mask.to(device)\n",
        "        label = label.to(device)\n",
        "\n",
        "        outputs = model(input_ids=data, attention_mask=attn_mask, labels=label)\n",
        "\n",
        "        loss = outputs[0] / accumulation_steps\n",
        "        loss.backward()\n",
        "\n",
        "        loss_train += loss.item()\n",
        "\n",
        "        if (step + 1) % accumulation_steps == 0:\n",
        "            step_global += 1\n",
        "\n",
        "            # Console\n",
        "            if step_global % 1000 == 0:\n",
        "                print(f'\\n Epoch {epoch + 1}  Step {step_global} Train loss {loss_train:.4f}')\n",
        "            # Set Loss to 0\n",
        "            loss_train = 0\n",
        "\n",
        "            optimizer.step()\n",
        "            scheduler.step()\n",
        "\n",
        "            optimizer.zero_grad()\n",
        "\n",
        "    # Save Model\n",
        "    model.to(torch.device('cpu'))\n",
        "    torch.save(model.state_dict(), f'/content/drive/MyDrive/ToTTo_T5-base/model/T5-base_Fine-Tuning_lr{lr}_batch{int(accumulation_steps*batch_size)}_epoch{epoch+1}.pth')"
      ],
      "metadata": {
        "colab": {
          "base_uri": "https://localhost:8080/"
        },
        "id": "jSKeahxucfnk",
        "outputId": "ff2ae27c-5622-4cd4-d6ad-4a9a427f30be"
      },
      "execution_count": null,
      "outputs": [
        {
          "output_type": "stream",
          "name": "stderr",
          "text": [
            "Epoch 2:  20%|█▉        | 3000/15096 [16:34<1:08:08,  2.96it/s]"
          ]
        },
        {
          "output_type": "stream",
          "name": "stdout",
          "text": [
            "\t Epoch 2  \t Step 1000 \t Train loss 0.9454\n"
          ]
        },
        {
          "output_type": "stream",
          "name": "stderr",
          "text": [
            "Epoch 2:  40%|███▉      | 6000/15096 [33:27<37:22,  4.06it/s]"
          ]
        },
        {
          "output_type": "stream",
          "name": "stdout",
          "text": [
            "\t Epoch 2  \t Step 2000 \t Train loss 0.9558\n"
          ]
        },
        {
          "output_type": "stream",
          "name": "stderr",
          "text": [
            "Epoch 2:  60%|█████▉    | 9000/15096 [50:33<31:08,  3.26it/s]"
          ]
        },
        {
          "output_type": "stream",
          "name": "stdout",
          "text": [
            "\t Epoch 2  \t Step 3000 \t Train loss 0.9974\n"
          ]
        },
        {
          "output_type": "stream",
          "name": "stderr",
          "text": [
            "Epoch 2:  79%|███████▉  | 12000/15096 [1:07:42<18:00,  2.86it/s]"
          ]
        },
        {
          "output_type": "stream",
          "name": "stdout",
          "text": [
            "\t Epoch 2  \t Step 4000 \t Train loss 1.0023\n"
          ]
        },
        {
          "output_type": "stream",
          "name": "stderr",
          "text": [
            "Epoch 2:  99%|█████████▉| 15001/15096 [1:24:23<00:38,  2.47it/s]"
          ]
        },
        {
          "output_type": "stream",
          "name": "stdout",
          "text": [
            "\t Epoch 2  \t Step 5000 \t Train loss 0.8843\n"
          ]
        },
        {
          "output_type": "stream",
          "name": "stderr",
          "text": [
            "Epoch 2: 100%|██████████| 15096/15096 [1:24:54<00:00,  2.96it/s]\n"
          ]
        }
      ]
    },
    {
      "cell_type": "markdown",
      "source": [
        "#### **Epoch 3**"
      ],
      "metadata": {
        "id": "7a2pYXHGAyD4"
      }
    },
    {
      "cell_type": "code",
      "source": [
        "# EPOCH 3\n",
        "# Google Drive Mount\n",
        "from google.colab import drive\n",
        "drive.mount('/content/drive')"
      ],
      "metadata": {
        "colab": {
          "base_uri": "https://localhost:8080/"
        },
        "id": "XOOLFGAyA3Vo",
        "outputId": "555fd17c-119c-4265-9773-7a3854238943"
      },
      "execution_count": null,
      "outputs": [
        {
          "output_type": "stream",
          "name": "stdout",
          "text": [
            "Mounted at /content/drive\n"
          ]
        }
      ]
    },
    {
      "cell_type": "code",
      "source": [
        "# 런타임 리셋 후 필요한 코드는 Epoch 2에서 실행\n",
        "# After resetting the runtime, the required code runs on Epoch 2"
      ],
      "metadata": {
        "id": "dJdmvyP9A52r"
      },
      "execution_count": null,
      "outputs": []
    },
    {
      "cell_type": "code",
      "source": [
        "# 저장된 가중치 파일 로드\n",
        "model = T5ForConditionalGeneration.from_pretrained('t5-base')\n",
        "\n",
        "model_path = '/content/drive/MyDrive/ToTTo_T5-base/model/T5-base_Fine-Tuning_lr0.0001_batch24_epoch3.pth'\n",
        "model.load_state_dict(torch.load(model_path))\n",
        "\n",
        "model = model.to(device)"
      ],
      "metadata": {
        "id": "6DV8lqevBKzu"
      },
      "execution_count": null,
      "outputs": []
    },
    {
      "cell_type": "code",
      "source": [
        "from tqdm import tqdm\n",
        "\n",
        "step_global=0\n",
        "\n",
        "for epoch in range(epochs):\n",
        "    # Train Phase\n",
        "    model.train()\n",
        "    model.to(device)\n",
        "\n",
        "    loss_train = 0\n",
        "    optimizer.zero_grad()\n",
        "\n",
        "    tqdm_dataloader_train = tqdm(dataloader_train, desc=f'Epoch {epoch + 1}')\n",
        "\n",
        "    for step, (data, attn_mask, label) in enumerate(tqdm_dataloader_train):\n",
        "        data = data.to(device)\n",
        "        attn_mask = attn_mask.to(device)\n",
        "        label = label.to(device)\n",
        "\n",
        "        outputs = model(input_ids=data, attention_mask=attn_mask, labels=label)\n",
        "\n",
        "        loss = outputs[0] / accumulation_steps\n",
        "        loss.backward()\n",
        "\n",
        "        loss_train += loss.item()\n",
        "\n",
        "        if (step + 1) % accumulation_steps == 0:\n",
        "            step_global += 1\n",
        "\n",
        "            # Console\n",
        "            if step_global % 1000 == 0:\n",
        "                print(f'\\n Epoch {epoch + 1}  Step {step_global} Train loss {loss_train:.4f}')\n",
        "            # Set Loss to 0\n",
        "            loss_train = 0\n",
        "\n",
        "            optimizer.step()\n",
        "            scheduler.step()\n",
        "\n",
        "            optimizer.zero_grad()\n",
        "\n",
        "    # Save Model\n",
        "    model.to(torch.device('cpu'))\n",
        "    torch.save(model.state_dict(), f'/content/drive/MyDrive/ToTTo_T5-base/model/T5-base_Fine-Tuning_lr{lr}_batch{int(accumulation_steps*batch_size)}_epoch{epoch+1}.pth')"
      ],
      "metadata": {
        "colab": {
          "base_uri": "https://localhost:8080/"
        },
        "id": "KNFDw2QxBOl3",
        "outputId": "c648fa0d-b6ef-4e56-b9d5-0a532f931b11"
      },
      "execution_count": null,
      "outputs": [
        {
          "output_type": "stream",
          "name": "stderr",
          "text": [
            "Epoch 3:  20%|█▉        | 3001/15096 [18:06<56:20,  3.58it/s]  "
          ]
        },
        {
          "output_type": "stream",
          "name": "stdout",
          "text": [
            "\t Epoch 3  \t Step 1000 \t Train loss 0.9134\n"
          ]
        },
        {
          "output_type": "stream",
          "name": "stderr",
          "text": [
            "Epoch 3:  40%|███▉      | 6000/15096 [35:55<1:35:31,  1.59it/s]"
          ]
        },
        {
          "output_type": "stream",
          "name": "stdout",
          "text": [
            "\t Epoch 3  \t Step 2000 \t Train loss 0.9819\n"
          ]
        },
        {
          "output_type": "stream",
          "name": "stderr",
          "text": [
            "Epoch 3:  60%|█████▉    | 9001/15096 [54:07<31:01,  3.27it/s]"
          ]
        },
        {
          "output_type": "stream",
          "name": "stdout",
          "text": [
            "\t Epoch 3  \t Step 3000 \t Train loss 0.9991\n"
          ]
        },
        {
          "output_type": "stream",
          "name": "stderr",
          "text": [
            "Epoch 3:  79%|███████▉  | 12000/15096 [1:12:04<14:45,  3.50it/s]"
          ]
        },
        {
          "output_type": "stream",
          "name": "stdout",
          "text": [
            "\t Epoch 3  \t Step 4000 \t Train loss 1.1929\n"
          ]
        },
        {
          "output_type": "stream",
          "name": "stderr",
          "text": [
            "Epoch 3:  99%|█████████▉| 15000/15096 [1:30:09<00:28,  3.35it/s]"
          ]
        },
        {
          "output_type": "stream",
          "name": "stdout",
          "text": [
            "\t Epoch 3  \t Step 5000 \t Train loss 1.1185\n"
          ]
        },
        {
          "output_type": "stream",
          "name": "stderr",
          "text": [
            "Epoch 3: 100%|██████████| 15096/15096 [1:30:48<00:00,  2.77it/s]\n"
          ]
        }
      ]
    },
    {
      "cell_type": "markdown",
      "source": [
        "#### **Epoch 4**"
      ],
      "metadata": {
        "id": "FzsBy09oD1mp"
      }
    },
    {
      "cell_type": "code",
      "source": [
        "# EPOCH 4\n",
        "# Google Drive Mount\n",
        "from google.colab import drive\n",
        "drive.mount('/content/drive')"
      ],
      "metadata": {
        "colab": {
          "base_uri": "https://localhost:8080/"
        },
        "id": "joWwwEgtD315",
        "outputId": "5b4fb643-2dfb-418e-e939-581d7b038cc9"
      },
      "execution_count": null,
      "outputs": [
        {
          "output_type": "stream",
          "name": "stdout",
          "text": [
            "Mounted at /content/drive\n"
          ]
        }
      ]
    },
    {
      "cell_type": "code",
      "source": [
        "# 런타임 리셋 후 필요한 코드는 Epoch 2에서 실행\n",
        "# After resetting the runtime, the required code runs on Epoch 2"
      ],
      "metadata": {
        "id": "6IzSNMfJD69H"
      },
      "execution_count": null,
      "outputs": []
    },
    {
      "cell_type": "code",
      "source": [
        "# 저장된 가중치 파일 로드\n",
        "model = T5ForConditionalGeneration.from_pretrained('t5-base')\n",
        "\n",
        "model_path = '/content/drive/MyDrive/ToTTo_T5-base/model/T5-base_Fine-Tuning_lr0.0001_batch24_epoch4.pth'\n",
        "model.load_state_dict(torch.load(model_path))\n",
        "\n",
        "model = model.to(device)"
      ],
      "metadata": {
        "id": "MpxMyobUD9P7"
      },
      "execution_count": null,
      "outputs": []
    },
    {
      "cell_type": "code",
      "source": [
        "from tqdm import tqdm\n",
        "\n",
        "step_global=0\n",
        "\n",
        "for epoch in range(epochs):\n",
        "    # Train Phase\n",
        "    model.train()\n",
        "    model.to(device)\n",
        "\n",
        "    loss_train = 0\n",
        "    optimizer.zero_grad()\n",
        "\n",
        "    tqdm_dataloader_train = tqdm(dataloader_train, desc=f'Epoch {epoch + 1}')\n",
        "\n",
        "    for step, (data, attn_mask, label) in enumerate(tqdm_dataloader_train):\n",
        "        data = data.to(device)\n",
        "        attn_mask = attn_mask.to(device)\n",
        "        label = label.to(device)\n",
        "\n",
        "        outputs = model(input_ids=data, attention_mask=attn_mask, labels=label)\n",
        "\n",
        "        loss = outputs[0] / accumulation_steps\n",
        "        loss.backward()\n",
        "\n",
        "        loss_train += loss.item()\n",
        "\n",
        "        if (step + 1) % accumulation_steps == 0:\n",
        "            step_global += 1\n",
        "\n",
        "            # Console\n",
        "            if step_global % 1000 == 0:\n",
        "                print(f'\\n Epoch {epoch + 1}  Step {step_global} Train loss {loss_train:.4f}')\n",
        "            # Set Loss to 0\n",
        "            loss_train = 0\n",
        "\n",
        "            optimizer.step()\n",
        "            scheduler.step()\n",
        "\n",
        "            optimizer.zero_grad()\n",
        "\n",
        "    # Save Model\n",
        "    model.to(torch.device('cpu'))\n",
        "    torch.save(model.state_dict(), f'/content/drive/MyDrive/ToTTo_T5-base/model/T5-base_Fine-Tuning_lr{lr}_batch{int(accumulation_steps*batch_size)}_epoch{epoch+1}.pth')"
      ],
      "metadata": {
        "colab": {
          "base_uri": "https://localhost:8080/"
        },
        "id": "o861VaguD_fS",
        "outputId": "b2ae1123-1cc3-4956-ee9f-3706e9923fd0"
      },
      "execution_count": null,
      "outputs": [
        {
          "output_type": "stream",
          "name": "stderr",
          "text": [
            "Epoch 4:  20%|█▉        | 3000/15096 [17:45<1:01:23,  3.28it/s]"
          ]
        },
        {
          "output_type": "stream",
          "name": "stdout",
          "text": [
            "\t Epoch 4  \t Step 1000 \t Train loss 0.9015\n"
          ]
        },
        {
          "output_type": "stream",
          "name": "stderr",
          "text": [
            "Epoch 4:  40%|███▉      | 6000/15096 [35:44<48:09,  3.15it/s]"
          ]
        },
        {
          "output_type": "stream",
          "name": "stdout",
          "text": [
            "\t Epoch 4  \t Step 2000 \t Train loss 0.9649\n"
          ]
        },
        {
          "output_type": "stream",
          "name": "stderr",
          "text": [
            "Epoch 4:  60%|█████▉    | 9000/15096 [53:47<40:44,  2.49it/s]"
          ]
        },
        {
          "output_type": "stream",
          "name": "stdout",
          "text": [
            "\t Epoch 4  \t Step 3000 \t Train loss 1.1325\n"
          ]
        },
        {
          "output_type": "stream",
          "name": "stderr",
          "text": [
            "Epoch 4:  79%|███████▉  | 12000/15096 [1:11:46<17:57,  2.87it/s]"
          ]
        },
        {
          "output_type": "stream",
          "name": "stdout",
          "text": [
            "\t Epoch 4  \t Step 4000 \t Train loss 0.9925\n"
          ]
        },
        {
          "output_type": "stream",
          "name": "stderr",
          "text": [
            "Epoch 4:  99%|█████████▉| 15000/15096 [1:29:36<00:43,  2.21it/s]"
          ]
        },
        {
          "output_type": "stream",
          "name": "stdout",
          "text": [
            "\t Epoch 4  \t Step 5000 \t Train loss 1.0296\n"
          ]
        },
        {
          "output_type": "stream",
          "name": "stderr",
          "text": [
            "Epoch 4: 100%|██████████| 15096/15096 [1:30:09<00:00,  2.79it/s]\n"
          ]
        }
      ]
    },
    {
      "cell_type": "markdown",
      "source": [
        "#### **Epoch 5**"
      ],
      "metadata": {
        "id": "xR3MMqHhECVJ"
      }
    },
    {
      "cell_type": "code",
      "source": [
        "# EPOCH 5\n",
        "# Google Drive Mount\n",
        "from google.colab import drive\n",
        "drive.mount('/content/drive')"
      ],
      "metadata": {
        "colab": {
          "base_uri": "https://localhost:8080/"
        },
        "id": "Y3AlAut2EErF",
        "outputId": "64921968-e8bf-4843-e11a-652bd80e279f"
      },
      "execution_count": null,
      "outputs": [
        {
          "output_type": "stream",
          "name": "stdout",
          "text": [
            "Mounted at /content/drive\n"
          ]
        }
      ]
    },
    {
      "cell_type": "code",
      "source": [
        "# 런타임 리셋 후 필요한 코드는 Epoch 2에서 실행\n",
        "# After resetting the runtime, the required code runs on Epoch 2"
      ],
      "metadata": {
        "id": "txYnQ0naEIZs"
      },
      "execution_count": null,
      "outputs": []
    },
    {
      "cell_type": "code",
      "source": [
        "# 저장된 가중치 파일 로드\n",
        "model = T5ForConditionalGeneration.from_pretrained('t5-base')\n",
        "\n",
        "model_path = '/content/drive/MyDrive/ToTTo_T5-base/model/T5-base_Fine-Tuning_lr0.0001_batch24_epoch5.pth'\n",
        "model.load_state_dict(torch.load(model_path))\n",
        "\n",
        "model = model.to(device)"
      ],
      "metadata": {
        "id": "QUacAK2zEp-k"
      },
      "execution_count": null,
      "outputs": []
    },
    {
      "cell_type": "code",
      "source": [
        "from tqdm import tqdm\n",
        "\n",
        "step_global=0\n",
        "\n",
        "for epoch in range(epochs):\n",
        "    # Train Phase\n",
        "    model.train()\n",
        "    model.to(device)\n",
        "\n",
        "    loss_train = 0\n",
        "    optimizer.zero_grad()\n",
        "\n",
        "    tqdm_dataloader_train = tqdm(dataloader_train, desc=f'Epoch {epoch + 1}')\n",
        "\n",
        "    for step, (data, attn_mask, label) in enumerate(tqdm_dataloader_train):\n",
        "        data = data.to(device)\n",
        "        attn_mask = attn_mask.to(device)\n",
        "        label = label.to(device)\n",
        "\n",
        "        outputs = model(input_ids=data, attention_mask=attn_mask, labels=label)\n",
        "\n",
        "        loss = outputs[0] / accumulation_steps\n",
        "        loss.backward()\n",
        "\n",
        "        loss_train += loss.item()\n",
        "\n",
        "        if (step + 1) % accumulation_steps == 0:\n",
        "            step_global += 1\n",
        "\n",
        "            # Console\n",
        "            if step_global % 1000 == 0:\n",
        "                print(f'\\n Epoch {epoch + 1}  Step {step_global} Train loss {loss_train:.4f}')\n",
        "            # Set Loss to 0\n",
        "            loss_train = 0\n",
        "\n",
        "            optimizer.step()\n",
        "            scheduler.step()\n",
        "\n",
        "            optimizer.zero_grad()\n",
        "\n",
        "    # Save Model\n",
        "    model.to(torch.device('cpu'))\n",
        "    torch.save(model.state_dict(), f'/content/drive/MyDrive/ToTTo_T5-base/model/T5-base_Fine-Tuning_lr{lr}_batch{int(accumulation_steps*batch_size)}_epoch{epoch+1}.pth')"
      ],
      "metadata": {
        "colab": {
          "base_uri": "https://localhost:8080/"
        },
        "id": "3NAeKXmvErS7",
        "outputId": "7a48ff12-6c4c-4e15-ce0e-2ab93769aed7"
      },
      "execution_count": null,
      "outputs": [
        {
          "output_type": "stream",
          "name": "stderr",
          "text": [
            "Epoch 5:  20%|█▉        | 3000/15096 [17:25<1:49:47,  1.84it/s]"
          ]
        },
        {
          "output_type": "stream",
          "name": "stdout",
          "text": [
            "\t Epoch 5  \t Step 1000 \t Train loss 1.0678\n"
          ]
        },
        {
          "output_type": "stream",
          "name": "stderr",
          "text": [
            "Epoch 5:  40%|███▉      | 6000/15096 [34:45<43:03,  3.52it/s]"
          ]
        },
        {
          "output_type": "stream",
          "name": "stdout",
          "text": [
            "\t Epoch 5  \t Step 2000 \t Train loss 0.9333\n"
          ]
        },
        {
          "output_type": "stream",
          "name": "stderr",
          "text": [
            "Epoch 5:  60%|█████▉    | 9000/15096 [52:21<54:46,  1.85it/s]"
          ]
        },
        {
          "output_type": "stream",
          "name": "stdout",
          "text": [
            "\t Epoch 5  \t Step 3000 \t Train loss 0.9322\n"
          ]
        },
        {
          "output_type": "stream",
          "name": "stderr",
          "text": [
            "Epoch 5:  79%|███████▉  | 12000/15096 [1:09:38<18:17,  2.82it/s]"
          ]
        },
        {
          "output_type": "stream",
          "name": "stdout",
          "text": [
            "\t Epoch 5  \t Step 4000 \t Train loss 1.0046\n"
          ]
        },
        {
          "output_type": "stream",
          "name": "stderr",
          "text": [
            "Epoch 5:  99%|█████████▉| 15001/15096 [1:27:12<00:27,  3.47it/s]"
          ]
        },
        {
          "output_type": "stream",
          "name": "stdout",
          "text": [
            "\t Epoch 5  \t Step 5000 \t Train loss 1.0282\n"
          ]
        },
        {
          "output_type": "stream",
          "name": "stderr",
          "text": [
            "Epoch 5: 100%|██████████| 15096/15096 [1:27:45<00:00,  2.87it/s]\n"
          ]
        }
      ]
    }
  ]
}